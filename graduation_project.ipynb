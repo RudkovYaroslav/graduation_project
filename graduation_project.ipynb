{
  "cells": [
    {
      "cell_type": "markdown",
      "metadata": {
        "id": "view-in-github",
        "colab_type": "text"
      },
      "source": [
        "<a href=\"https://colab.research.google.com/github/RudkovYaroslav/graduation_project/blob/main/graduation_project.ipynb\" target=\"_parent\"><img src=\"https://colab.research.google.com/assets/colab-badge.svg\" alt=\"Open In Colab\"/></a>"
      ]
    },
    {
      "cell_type": "markdown",
      "metadata": {
        "id": "DDyzIpFL9UiY"
      },
      "source": [
        "# Проект \"Телеком\" Поиск клиентов с неоптимальным тарифом"
      ]
    },
    {
      "cell_type": "markdown",
      "metadata": {
        "id": "1IJU9ERi9UiY"
      },
      "source": [
        "Телеком-провайдер «Нупозвони» ищет аналитиков! Мы хотим помочь колл-центрам найти неэффективных операторов, а также предложить им самые выгодные тарифы."
      ]
    },
    {
      "cell_type": "markdown",
      "metadata": {
        "id": "SN3PW_Qi9UiY"
      },
      "source": [
        "__Цели исследования__:\n",
        " - Найти клиентов, которые переплачивают на текущих тарифах\n",
        " - Найти клиентов, которые сэкономят, если перейдут на болеее дорогой тариф"
      ]
    },
    {
      "cell_type": "markdown",
      "metadata": {
        "id": "wgeln_Jb9UiZ"
      },
      "source": [
        "Ход исследования\n",
        "\n",
        "Я получу данные из датафреймов, которые находится в csv файле. О качестве этих DataFrame пока ничего не известно, так что, скорее всего, понадобится провести предобработку.\n",
        "\n",
        "Проверю данные на аномалии и выбросы, которые могут повлиять на исследование, заполню пропуски, если они имеются, и в целом поищу возможность исправить все ошибки, которые не приведут к искажению конечного результата."
      ]
    },
    {
      "cell_type": "markdown",
      "metadata": {
        "id": "boJcx1CQ9UiZ"
      },
      "source": [
        "Итоговое исследование пройдет в 5 этапов:\n",
        "\n",
        " - Обзор данных\n",
        " - Предобработка данных\n",
        " - Исследовательский анализ\n",
        " - Статистический анализ\n",
        " - Общий вывод"
      ]
    },
    {
      "cell_type": "markdown",
      "metadata": {
        "id": "Fn8HIa-v9UiZ"
      },
      "source": [
        "## Обзор данных"
      ]
    },
    {
      "cell_type": "markdown",
      "metadata": {
        "id": "U40v1Pnp9UiZ"
      },
      "source": [
        "### Импортируем нужные библиотеки и зададим некоторые стандартные параметры:"
      ]
    },
    {
      "cell_type": "code",
      "execution_count": null,
      "metadata": {
        "id": "ptk7EPYU9UiZ"
      },
      "outputs": [],
      "source": [
        "import pandas as pd # Оснвная библиотека для работы с DataFrame\n",
        "import seaborn as sns # Библиотека для построения более продвинутых графиков\n",
        "import matplotlib.pyplot as plt # Библиотека для построения базовых графиков и задачи им параметров\n",
        "import math # Библиотека для математических формул\n",
        "plt.rcParams[\"figure.figsize\"] = (15,5) #Задаем изначальный размер для всех графиков\n",
        "import numpy as np # Еще одна математическая библиотека python\n",
        "import scipy.stats as stats # Библиотека для работы с математической статистикой\n",
        "from scipy.stats import mannwhitneyu # Конкретно тест Манна-Уитни\n",
        "import statistics # Для использования методов статистики\n",
        "import warnings\n",
        "warnings.filterwarnings('ignore')"
      ]
    },
    {
      "cell_type": "markdown",
      "metadata": {
        "id": "8GBJeIuC9Uia"
      },
      "source": [
        "### Считаем файлы:"
      ]
    },
    {
      "cell_type": "code",
      "execution_count": null,
      "metadata": {
        "id": "vXPOc9uR9Uia",
        "outputId": "e19a240e-80e0-4b30-aefc-eb8139f3dd54"
      },
      "outputs": [
        {
          "data": {
            "text/html": [
              "<div>\n",
              "<style scoped>\n",
              "    .dataframe tbody tr th:only-of-type {\n",
              "        vertical-align: middle;\n",
              "    }\n",
              "\n",
              "    .dataframe tbody tr th {\n",
              "        vertical-align: top;\n",
              "    }\n",
              "\n",
              "    .dataframe thead th {\n",
              "        text-align: right;\n",
              "    }\n",
              "</style>\n",
              "<table border=\"1\" class=\"dataframe\">\n",
              "  <thead>\n",
              "    <tr style=\"text-align: right;\">\n",
              "      <th></th>\n",
              "      <th>user_id</th>\n",
              "      <th>tariff_plan</th>\n",
              "      <th>date_start</th>\n",
              "    </tr>\n",
              "  </thead>\n",
              "  <tbody>\n",
              "    <tr>\n",
              "      <th>0</th>\n",
              "      <td>166713</td>\n",
              "      <td>A</td>\n",
              "      <td>2019-08-15</td>\n",
              "    </tr>\n",
              "    <tr>\n",
              "      <th>1</th>\n",
              "      <td>166901</td>\n",
              "      <td>A</td>\n",
              "      <td>2019-08-23</td>\n",
              "    </tr>\n",
              "    <tr>\n",
              "      <th>2</th>\n",
              "      <td>168527</td>\n",
              "      <td>A</td>\n",
              "      <td>2019-10-29</td>\n",
              "    </tr>\n",
              "    <tr>\n",
              "      <th>3</th>\n",
              "      <td>167097</td>\n",
              "      <td>A</td>\n",
              "      <td>2019-09-01</td>\n",
              "    </tr>\n",
              "    <tr>\n",
              "      <th>4</th>\n",
              "      <td>168193</td>\n",
              "      <td>A</td>\n",
              "      <td>2019-10-16</td>\n",
              "    </tr>\n",
              "  </tbody>\n",
              "</table>\n",
              "</div>"
            ],
            "text/plain": [
              "   user_id tariff_plan  date_start\n",
              "0   166713           A  2019-08-15\n",
              "1   166901           A  2019-08-23\n",
              "2   168527           A  2019-10-29\n",
              "3   167097           A  2019-09-01\n",
              "4   168193           A  2019-10-16"
            ]
          },
          "metadata": {},
          "output_type": "display_data"
        },
        {
          "name": "stdout",
          "output_type": "stream",
          "text": [
            "<class 'pandas.core.frame.DataFrame'>\n",
            "RangeIndex: 732 entries, 0 to 731\n",
            "Data columns (total 3 columns):\n",
            " #   Column       Non-Null Count  Dtype \n",
            "---  ------       --------------  ----- \n",
            " 0   user_id      732 non-null    int64 \n",
            " 1   tariff_plan  732 non-null    object\n",
            " 2   date_start   732 non-null    object\n",
            "dtypes: int64(1), object(2)\n",
            "memory usage: 17.3+ KB\n",
            "Количество дубликатов - 0\n"
          ]
        }
      ],
      "source": [
        "clients = pd.read_csv('https://code.s3.yandex.net/datasets/telecom_clients.csv')\n",
        "display(clients.head())\n",
        "clients.info()\n",
        "print(f'Количество дубликатов - {clients.duplicated().sum()}')"
      ]
    },
    {
      "cell_type": "code",
      "execution_count": null,
      "metadata": {
        "id": "PyKsQUb59Uib",
        "outputId": "2495b94d-3a47-437f-d56b-468e7218a7bd"
      },
      "outputs": [
        {
          "data": {
            "text/html": [
              "<div>\n",
              "<style scoped>\n",
              "    .dataframe tbody tr th:only-of-type {\n",
              "        vertical-align: middle;\n",
              "    }\n",
              "\n",
              "    .dataframe tbody tr th {\n",
              "        vertical-align: top;\n",
              "    }\n",
              "\n",
              "    .dataframe thead th {\n",
              "        text-align: right;\n",
              "    }\n",
              "</style>\n",
              "<table border=\"1\" class=\"dataframe\">\n",
              "  <thead>\n",
              "    <tr style=\"text-align: right;\">\n",
              "      <th></th>\n",
              "      <th>user_id</th>\n",
              "      <th>date</th>\n",
              "      <th>direction</th>\n",
              "      <th>internal</th>\n",
              "      <th>operator_id</th>\n",
              "      <th>is_missed_call</th>\n",
              "      <th>calls_count</th>\n",
              "      <th>call_duration</th>\n",
              "      <th>total_call_duration</th>\n",
              "    </tr>\n",
              "  </thead>\n",
              "  <tbody>\n",
              "    <tr>\n",
              "      <th>0</th>\n",
              "      <td>166377</td>\n",
              "      <td>2019-08-04 00:00:00+03:00</td>\n",
              "      <td>in</td>\n",
              "      <td>False</td>\n",
              "      <td>NaN</td>\n",
              "      <td>True</td>\n",
              "      <td>2</td>\n",
              "      <td>0</td>\n",
              "      <td>4</td>\n",
              "    </tr>\n",
              "    <tr>\n",
              "      <th>1</th>\n",
              "      <td>166377</td>\n",
              "      <td>2019-08-05 00:00:00+03:00</td>\n",
              "      <td>out</td>\n",
              "      <td>True</td>\n",
              "      <td>880022.0</td>\n",
              "      <td>True</td>\n",
              "      <td>3</td>\n",
              "      <td>0</td>\n",
              "      <td>5</td>\n",
              "    </tr>\n",
              "    <tr>\n",
              "      <th>2</th>\n",
              "      <td>166377</td>\n",
              "      <td>2019-08-05 00:00:00+03:00</td>\n",
              "      <td>out</td>\n",
              "      <td>True</td>\n",
              "      <td>880020.0</td>\n",
              "      <td>True</td>\n",
              "      <td>1</td>\n",
              "      <td>0</td>\n",
              "      <td>1</td>\n",
              "    </tr>\n",
              "    <tr>\n",
              "      <th>3</th>\n",
              "      <td>166377</td>\n",
              "      <td>2019-08-05 00:00:00+03:00</td>\n",
              "      <td>out</td>\n",
              "      <td>True</td>\n",
              "      <td>880020.0</td>\n",
              "      <td>False</td>\n",
              "      <td>1</td>\n",
              "      <td>10</td>\n",
              "      <td>18</td>\n",
              "    </tr>\n",
              "    <tr>\n",
              "      <th>4</th>\n",
              "      <td>166377</td>\n",
              "      <td>2019-08-05 00:00:00+03:00</td>\n",
              "      <td>out</td>\n",
              "      <td>False</td>\n",
              "      <td>880022.0</td>\n",
              "      <td>True</td>\n",
              "      <td>3</td>\n",
              "      <td>0</td>\n",
              "      <td>25</td>\n",
              "    </tr>\n",
              "  </tbody>\n",
              "</table>\n",
              "</div>"
            ],
            "text/plain": [
              "   user_id                       date direction internal  operator_id  \\\n",
              "0   166377  2019-08-04 00:00:00+03:00        in    False          NaN   \n",
              "1   166377  2019-08-05 00:00:00+03:00       out     True     880022.0   \n",
              "2   166377  2019-08-05 00:00:00+03:00       out     True     880020.0   \n",
              "3   166377  2019-08-05 00:00:00+03:00       out     True     880020.0   \n",
              "4   166377  2019-08-05 00:00:00+03:00       out    False     880022.0   \n",
              "\n",
              "   is_missed_call  calls_count  call_duration  total_call_duration  \n",
              "0            True            2              0                    4  \n",
              "1            True            3              0                    5  \n",
              "2            True            1              0                    1  \n",
              "3           False            1             10                   18  \n",
              "4            True            3              0                   25  "
            ]
          },
          "metadata": {},
          "output_type": "display_data"
        },
        {
          "name": "stdout",
          "output_type": "stream",
          "text": [
            "<class 'pandas.core.frame.DataFrame'>\n",
            "RangeIndex: 53902 entries, 0 to 53901\n",
            "Data columns (total 9 columns):\n",
            " #   Column               Non-Null Count  Dtype  \n",
            "---  ------               --------------  -----  \n",
            " 0   user_id              53902 non-null  int64  \n",
            " 1   date                 53902 non-null  object \n",
            " 2   direction            53902 non-null  object \n",
            " 3   internal             53785 non-null  object \n",
            " 4   operator_id          45730 non-null  float64\n",
            " 5   is_missed_call       53902 non-null  bool   \n",
            " 6   calls_count          53902 non-null  int64  \n",
            " 7   call_duration        53902 non-null  int64  \n",
            " 8   total_call_duration  53902 non-null  int64  \n",
            "dtypes: bool(1), float64(1), int64(4), object(3)\n",
            "memory usage: 3.3+ MB\n",
            "Количество дубликатов - 4900\n"
          ]
        }
      ],
      "source": [
        "dataset = pd.read_csv('https://code.s3.yandex.net/datasets/telecom_dataset.csv')\n",
        "display(dataset.head())\n",
        "dataset.info()\n",
        "print(f'Количество дубликатов - {dataset.duplicated().sum()}')"
      ]
    },
    {
      "cell_type": "markdown",
      "metadata": {
        "id": "epg_grzw9Uib"
      },
      "source": [
        "### Вывод по разделу 1:"
      ]
    },
    {
      "cell_type": "markdown",
      "metadata": {
        "id": "-o4kvxKh9Uib"
      },
      "source": [
        "Рассмотрели данные \"на глаз\". Видно, что есть пропуски в данных. По типам данных все также не идеально. Присутствуют дубликаты. Время приступать к предобработке."
      ]
    },
    {
      "cell_type": "markdown",
      "metadata": {
        "id": "3JmhDuHh9Uib"
      },
      "source": [
        "## Предобработка данных"
      ]
    },
    {
      "cell_type": "markdown",
      "metadata": {
        "id": "FbZihT2C9Uib"
      },
      "source": [
        "При первом взгляде на данные есть несколько вещей, которые нужно поправить:"
      ]
    },
    {
      "cell_type": "markdown",
      "metadata": {
        "id": "hFTLxRyV9Uib"
      },
      "source": [
        "### Типы данных"
      ]
    },
    {
      "cell_type": "markdown",
      "metadata": {
        "id": "4tD2rd4G9Uic"
      },
      "source": [
        "У нас есть столбец с датой, приведем его к правильному отображению"
      ]
    },
    {
      "cell_type": "code",
      "execution_count": null,
      "metadata": {
        "id": "91VJoaZw9Uic"
      },
      "outputs": [],
      "source": [
        "dataset.date = pd.to_datetime(dataset.date).apply(lambda x: x.replace(tzinfo=None))"
      ]
    },
    {
      "cell_type": "code",
      "execution_count": null,
      "metadata": {
        "scrolled": true,
        "id": "9sldGFf49Uic",
        "outputId": "68a04ac3-0eb4-4273-ac38-252f73eab84a"
      },
      "outputs": [
        {
          "data": {
            "text/plain": [
              "Timedelta('118 days 00:00:00')"
            ]
          },
          "execution_count": 5,
          "metadata": {},
          "output_type": "execute_result"
        }
      ],
      "source": [
        "dataset.date.max() - dataset.date.min()"
      ]
    },
    {
      "cell_type": "code",
      "execution_count": null,
      "metadata": {
        "scrolled": true,
        "id": "Z6DVSC0W9Uic",
        "outputId": "d046f059-732a-4d03-e85b-9ef4ceabc361"
      },
      "outputs": [
        {
          "data": {
            "text/plain": [
              "Timestamp('2019-11-28 00:00:00')"
            ]
          },
          "metadata": {},
          "output_type": "display_data"
        },
        {
          "data": {
            "text/plain": [
              "Timestamp('2019-08-02 00:00:00')"
            ]
          },
          "execution_count": 6,
          "metadata": {},
          "output_type": "execute_result"
        }
      ],
      "source": [
        "display(dataset.date.max())\n",
        "dataset.date.min()"
      ]
    },
    {
      "cell_type": "markdown",
      "metadata": {
        "id": "rHHRC02I9Uic"
      },
      "source": [
        "Мы располагаем периодом в 118 дней, который начинается со 2 агуста и идет до 28 ноября"
      ]
    },
    {
      "cell_type": "markdown",
      "metadata": {
        "id": "orLNOBHo9Uic"
      },
      "source": [
        "### Дубликаты"
      ]
    },
    {
      "cell_type": "code",
      "execution_count": null,
      "metadata": {
        "id": "gkdtLmLi9Uid",
        "outputId": "6902dbf3-a18c-472f-d143-d0c60ed9dc1c"
      },
      "outputs": [
        {
          "data": {
            "text/html": [
              "<div>\n",
              "<style scoped>\n",
              "    .dataframe tbody tr th:only-of-type {\n",
              "        vertical-align: middle;\n",
              "    }\n",
              "\n",
              "    .dataframe tbody tr th {\n",
              "        vertical-align: top;\n",
              "    }\n",
              "\n",
              "    .dataframe thead th {\n",
              "        text-align: right;\n",
              "    }\n",
              "</style>\n",
              "<table border=\"1\" class=\"dataframe\">\n",
              "  <thead>\n",
              "    <tr style=\"text-align: right;\">\n",
              "      <th></th>\n",
              "      <th>user_id</th>\n",
              "      <th>date</th>\n",
              "      <th>direction</th>\n",
              "      <th>internal</th>\n",
              "      <th>operator_id</th>\n",
              "      <th>is_missed_call</th>\n",
              "      <th>calls_count</th>\n",
              "      <th>call_duration</th>\n",
              "      <th>total_call_duration</th>\n",
              "    </tr>\n",
              "  </thead>\n",
              "  <tbody>\n",
              "    <tr>\n",
              "      <th>8</th>\n",
              "      <td>166377</td>\n",
              "      <td>2019-08-05</td>\n",
              "      <td>out</td>\n",
              "      <td>False</td>\n",
              "      <td>880020.0</td>\n",
              "      <td>True</td>\n",
              "      <td>8</td>\n",
              "      <td>0</td>\n",
              "      <td>50</td>\n",
              "    </tr>\n",
              "    <tr>\n",
              "      <th>28</th>\n",
              "      <td>166377</td>\n",
              "      <td>2019-08-12</td>\n",
              "      <td>in</td>\n",
              "      <td>False</td>\n",
              "      <td>NaN</td>\n",
              "      <td>True</td>\n",
              "      <td>2</td>\n",
              "      <td>0</td>\n",
              "      <td>34</td>\n",
              "    </tr>\n",
              "    <tr>\n",
              "      <th>44</th>\n",
              "      <td>166377</td>\n",
              "      <td>2019-08-14</td>\n",
              "      <td>out</td>\n",
              "      <td>False</td>\n",
              "      <td>880026.0</td>\n",
              "      <td>False</td>\n",
              "      <td>10</td>\n",
              "      <td>1567</td>\n",
              "      <td>1654</td>\n",
              "    </tr>\n",
              "    <tr>\n",
              "      <th>45</th>\n",
              "      <td>166377</td>\n",
              "      <td>2019-08-14</td>\n",
              "      <td>in</td>\n",
              "      <td>False</td>\n",
              "      <td>NaN</td>\n",
              "      <td>True</td>\n",
              "      <td>1</td>\n",
              "      <td>0</td>\n",
              "      <td>3</td>\n",
              "    </tr>\n",
              "    <tr>\n",
              "      <th>51</th>\n",
              "      <td>166377</td>\n",
              "      <td>2019-08-15</td>\n",
              "      <td>out</td>\n",
              "      <td>False</td>\n",
              "      <td>880026.0</td>\n",
              "      <td>False</td>\n",
              "      <td>11</td>\n",
              "      <td>1413</td>\n",
              "      <td>1473</td>\n",
              "    </tr>\n",
              "    <tr>\n",
              "      <th>...</th>\n",
              "      <td>...</td>\n",
              "      <td>...</td>\n",
              "      <td>...</td>\n",
              "      <td>...</td>\n",
              "      <td>...</td>\n",
              "      <td>...</td>\n",
              "      <td>...</td>\n",
              "      <td>...</td>\n",
              "      <td>...</td>\n",
              "    </tr>\n",
              "    <tr>\n",
              "      <th>53869</th>\n",
              "      <td>168601</td>\n",
              "      <td>2019-11-25</td>\n",
              "      <td>in</td>\n",
              "      <td>False</td>\n",
              "      <td>952914.0</td>\n",
              "      <td>False</td>\n",
              "      <td>7</td>\n",
              "      <td>1229</td>\n",
              "      <td>1282</td>\n",
              "    </tr>\n",
              "    <tr>\n",
              "      <th>53874</th>\n",
              "      <td>168601</td>\n",
              "      <td>2019-11-26</td>\n",
              "      <td>in</td>\n",
              "      <td>False</td>\n",
              "      <td>952914.0</td>\n",
              "      <td>False</td>\n",
              "      <td>4</td>\n",
              "      <td>539</td>\n",
              "      <td>562</td>\n",
              "    </tr>\n",
              "    <tr>\n",
              "      <th>53875</th>\n",
              "      <td>168601</td>\n",
              "      <td>2019-11-26</td>\n",
              "      <td>in</td>\n",
              "      <td>False</td>\n",
              "      <td>NaN</td>\n",
              "      <td>True</td>\n",
              "      <td>3</td>\n",
              "      <td>0</td>\n",
              "      <td>35</td>\n",
              "    </tr>\n",
              "    <tr>\n",
              "      <th>53885</th>\n",
              "      <td>168603</td>\n",
              "      <td>2019-11-20</td>\n",
              "      <td>out</td>\n",
              "      <td>False</td>\n",
              "      <td>959118.0</td>\n",
              "      <td>True</td>\n",
              "      <td>3</td>\n",
              "      <td>0</td>\n",
              "      <td>89</td>\n",
              "    </tr>\n",
              "    <tr>\n",
              "      <th>53900</th>\n",
              "      <td>168606</td>\n",
              "      <td>2019-11-15</td>\n",
              "      <td>out</td>\n",
              "      <td>True</td>\n",
              "      <td>957922.0</td>\n",
              "      <td>False</td>\n",
              "      <td>4</td>\n",
              "      <td>3130</td>\n",
              "      <td>3190</td>\n",
              "    </tr>\n",
              "  </tbody>\n",
              "</table>\n",
              "<p>4900 rows × 9 columns</p>\n",
              "</div>"
            ],
            "text/plain": [
              "       user_id       date direction internal  operator_id  is_missed_call  \\\n",
              "8       166377 2019-08-05       out    False     880020.0            True   \n",
              "28      166377 2019-08-12        in    False          NaN            True   \n",
              "44      166377 2019-08-14       out    False     880026.0           False   \n",
              "45      166377 2019-08-14        in    False          NaN            True   \n",
              "51      166377 2019-08-15       out    False     880026.0           False   \n",
              "...        ...        ...       ...      ...          ...             ...   \n",
              "53869   168601 2019-11-25        in    False     952914.0           False   \n",
              "53874   168601 2019-11-26        in    False     952914.0           False   \n",
              "53875   168601 2019-11-26        in    False          NaN            True   \n",
              "53885   168603 2019-11-20       out    False     959118.0            True   \n",
              "53900   168606 2019-11-15       out     True     957922.0           False   \n",
              "\n",
              "       calls_count  call_duration  total_call_duration  \n",
              "8                8              0                   50  \n",
              "28               2              0                   34  \n",
              "44              10           1567                 1654  \n",
              "45               1              0                    3  \n",
              "51              11           1413                 1473  \n",
              "...            ...            ...                  ...  \n",
              "53869            7           1229                 1282  \n",
              "53874            4            539                  562  \n",
              "53875            3              0                   35  \n",
              "53885            3              0                   89  \n",
              "53900            4           3130                 3190  \n",
              "\n",
              "[4900 rows x 9 columns]"
            ]
          },
          "execution_count": 7,
          "metadata": {},
          "output_type": "execute_result"
        }
      ],
      "source": [
        "dataset[dataset.duplicated()]"
      ]
    },
    {
      "cell_type": "markdown",
      "metadata": {
        "id": "bhbqk6Jx9Uid"
      },
      "source": [
        "У нас есть некоторое количество дубликатов(4900). Так как мы не имеем информации о том, что это верные данные, то изначально будем предполагать, что результаты из каких-то источников просто задвоились. Избавимся от повторных значений"
      ]
    },
    {
      "cell_type": "code",
      "execution_count": null,
      "metadata": {
        "id": "NCVdHtPG9Uid"
      },
      "outputs": [],
      "source": [
        "dataset = dataset.drop_duplicates()"
      ]
    },
    {
      "cell_type": "markdown",
      "metadata": {
        "id": "SUbsL5_29Uid"
      },
      "source": [
        "Также поищем неявные дубликаты"
      ]
    },
    {
      "cell_type": "code",
      "execution_count": null,
      "metadata": {
        "id": "leo8sO1Z9Uid",
        "outputId": "1e5bb625-8fe3-4a75-85d0-ff6d0d95504e"
      },
      "outputs": [
        {
          "data": {
            "text/plain": [
              "0"
            ]
          },
          "execution_count": 9,
          "metadata": {},
          "output_type": "execute_result"
        }
      ],
      "source": [
        "len(dataset[(dataset[['date',\n",
        "                      'direction',\n",
        "                      'internal',\n",
        "                      'operator_id',\n",
        "                      'is_missed_call']].duplicated()) & (~dataset['operator_id'].isna())])"
      ]
    },
    {
      "cell_type": "markdown",
      "metadata": {
        "id": "Xgiviqj89Uid"
      },
      "source": [
        "Их нет"
      ]
    },
    {
      "cell_type": "markdown",
      "metadata": {
        "id": "E6QSKR569Uie"
      },
      "source": [
        "### Пропуски"
      ]
    },
    {
      "cell_type": "markdown",
      "metadata": {
        "id": "NCMSPc529Uie"
      },
      "source": [
        "Ранее мы заметили, что пропуски есть в стобце internal, а также operator_id"
      ]
    },
    {
      "cell_type": "code",
      "execution_count": null,
      "metadata": {
        "id": "6eADpA8X9Uie",
        "outputId": "33939151-20ab-4cd4-d918-6867ce586049"
      },
      "outputs": [
        {
          "data": {
            "text/plain": [
              "False    43239\n",
              "True      5653\n",
              "Name: internal, dtype: int64"
            ]
          },
          "execution_count": 10,
          "metadata": {},
          "output_type": "execute_result"
        }
      ],
      "source": [
        "dataset.internal.value_counts()"
      ]
    },
    {
      "cell_type": "markdown",
      "metadata": {
        "id": "iZEzdvOL9Uie"
      },
      "source": [
        "Так как количество пропусков очень мало в столбце internal, то заменим их все на False, так как куда бОльший шанс, что будет именно этот показатель."
      ]
    },
    {
      "cell_type": "code",
      "execution_count": null,
      "metadata": {
        "id": "B1m6Kj359Uie"
      },
      "outputs": [],
      "source": [
        "dataset.internal = dataset.internal.fillna(False)"
      ]
    },
    {
      "cell_type": "markdown",
      "metadata": {
        "id": "Q1ZT66TJ9Uii"
      },
      "source": [
        "В столбце operator_id уже куда больше пропусков. Нам нужны эти данные, так что заменим пропуски на Unknown - таким образом этот оператор будет использоваться при подсчете месячного чека и мы не сильно потеряем в качестве данных"
      ]
    },
    {
      "cell_type": "code",
      "execution_count": null,
      "metadata": {
        "id": "yZyDxhix9Uii"
      },
      "outputs": [],
      "source": [
        "dataset.operator_id = dataset.operator_id.fillna('Unknown')"
      ]
    },
    {
      "cell_type": "code",
      "execution_count": null,
      "metadata": {
        "id": "yIVKS24L9Uii",
        "outputId": "b8539bc6-7f1b-4125-90f1-4cef7e0629a8"
      },
      "outputs": [
        {
          "name": "stdout",
          "output_type": "stream",
          "text": [
            "<class 'pandas.core.frame.DataFrame'>\n",
            "Int64Index: 49002 entries, 0 to 53901\n",
            "Data columns (total 9 columns):\n",
            " #   Column               Non-Null Count  Dtype         \n",
            "---  ------               --------------  -----         \n",
            " 0   user_id              49002 non-null  int64         \n",
            " 1   date                 49002 non-null  datetime64[ns]\n",
            " 2   direction            49002 non-null  object        \n",
            " 3   internal             49002 non-null  bool          \n",
            " 4   operator_id          49002 non-null  object        \n",
            " 5   is_missed_call       49002 non-null  bool          \n",
            " 6   calls_count          49002 non-null  int64         \n",
            " 7   call_duration        49002 non-null  int64         \n",
            " 8   total_call_duration  49002 non-null  int64         \n",
            "dtypes: bool(2), datetime64[ns](1), int64(4), object(2)\n",
            "memory usage: 3.1+ MB\n"
          ]
        }
      ],
      "source": [
        "dataset.info()"
      ]
    },
    {
      "cell_type": "markdown",
      "metadata": {
        "id": "6JCK7bUL9Uii"
      },
      "source": [
        "Как видим, пропусков больше нет"
      ]
    },
    {
      "cell_type": "markdown",
      "metadata": {
        "id": "THWcYlWj9Uii"
      },
      "source": [
        "### Поиск аномальных значений"
      ]
    },
    {
      "cell_type": "markdown",
      "metadata": {
        "id": "bRmwYIT79Uii"
      },
      "source": [
        "#### __Calls_count__"
      ]
    },
    {
      "cell_type": "code",
      "execution_count": null,
      "metadata": {
        "id": "lGVyxyvD9Uij",
        "outputId": "3ec687e3-4058-4383-8c10-27ae1d5358a9"
      },
      "outputs": [
        {
          "data": {
            "text/plain": [
              "'Максимальное значение в столбце calls_count = 4817'"
            ]
          },
          "metadata": {},
          "output_type": "display_data"
        },
        {
          "data": {
            "text/plain": [
              "'Минимальное значение в столбце calls_count = 1'"
            ]
          },
          "metadata": {},
          "output_type": "display_data"
        }
      ],
      "source": [
        "display(f'Максимальное значение в столбце calls_count = {dataset[\"calls_count\"].max()}')\n",
        "display(f'Минимальное значение в столбце calls_count = {dataset[\"calls_count\"].min()}')"
      ]
    },
    {
      "cell_type": "markdown",
      "metadata": {
        "id": "648hodGN9Uij"
      },
      "source": [
        "Значения действительно большие присутствуют в датафрейме. Визуализируем их для простоты"
      ]
    },
    {
      "cell_type": "code",
      "execution_count": null,
      "metadata": {
        "id": "7e8ZtvI99Uij",
        "outputId": "4592f08a-b3b4-415c-a457-01a2d377b284"
      },
      "outputs": [
        {
          "data": {
            "image/png": "[encoded data removed]",
            "text/plain": [
              "<Figure size 1080x360 with 1 Axes>"
            ]
          },
          "metadata": {
            "needs_background": "light"
          },
          "output_type": "display_data"
        }
      ],
      "source": [
        "sns.boxplot(x='calls_count', data=dataset, color='#238b45')\n",
        "plt.title('График размаха количества звонков')\n",
        "plt.xlabel('Количество звонков')\n",
        "plt.show()"
      ]
    },
    {
      "cell_type": "markdown",
      "metadata": {
        "id": "qP1FRTV29Uij"
      },
      "source": [
        "Большинство клиентов находятся в левой части, которую мы даже не можем увидеть из-за аномальных значений(4817 звонков за день от одного оператора думаю, можно считать аномальным)"
      ]
    },
    {
      "cell_type": "markdown",
      "metadata": {
        "id": "MTS_xOf49Uij"
      },
      "source": [
        "Посмотрим, сколько уберется значений, если мы используем чистку с помощью 95 перцентиля:"
      ]
    },
    {
      "cell_type": "code",
      "execution_count": null,
      "metadata": {
        "id": "XNMnp0J99Uij",
        "outputId": "5b258409-245e-4feb-e3fd-c4a5c1744599"
      },
      "outputs": [
        {
          "data": {
            "text/plain": [
              "'4.96%'"
            ]
          },
          "execution_count": 16,
          "metadata": {},
          "output_type": "execute_result"
        }
      ],
      "source": [
        "\"{:.2%}\".format(((dataset.loc[dataset['calls_count'] > dataset['calls_count'].quantile(0.95), 'calls_count'].count()\n",
        "                                                                                            / dataset['calls_count'].count())))"
      ]
    },
    {
      "cell_type": "markdown",
      "metadata": {
        "id": "HS4fMcJS9Uik"
      },
      "source": [
        "У нас уйдет около 5% данных, но каким тогда будет потолок количества звонков?"
      ]
    },
    {
      "cell_type": "code",
      "execution_count": null,
      "metadata": {
        "id": "RaMYd7ca9Uik",
        "outputId": "132f3f14-961c-4615-ca2e-ea8625ca64b8"
      },
      "outputs": [
        {
          "data": {
            "text/plain": [
              "62.0"
            ]
          },
          "execution_count": 17,
          "metadata": {},
          "output_type": "execute_result"
        }
      ],
      "source": [
        "dataset['calls_count'].quantile(0.95)"
      ]
    },
    {
      "cell_type": "markdown",
      "metadata": {
        "id": "BFx-Ho769Uik"
      },
      "source": [
        "62 звонка. Это уже куда больше похоже на количество, которое один оператор обрабатывает в день"
      ]
    },
    {
      "cell_type": "code",
      "execution_count": null,
      "metadata": {
        "id": "jToOrZ379Uik"
      },
      "outputs": [],
      "source": [
        "dataset = dataset.drop(index=dataset.loc[dataset['calls_count'] > dataset['calls_count'].quantile(0.95)].index)"
      ]
    },
    {
      "cell_type": "markdown",
      "metadata": {
        "id": "qI2G7aO59Uik"
      },
      "source": [
        "Придется пожертвовать таким немалым количеством данных для того, чтобы общее представление о них было более полным"
      ]
    },
    {
      "cell_type": "markdown",
      "metadata": {
        "id": "H02O4QZ79Uik"
      },
      "source": [
        "### Call_duration и Total_call_duration"
      ]
    },
    {
      "cell_type": "markdown",
      "metadata": {
        "id": "rKJUSQMf9Uik"
      },
      "source": [
        "Посмотрим на эти два столбца вместе, так как они взаимосвязаны"
      ]
    },
    {
      "cell_type": "code",
      "execution_count": null,
      "metadata": {
        "id": "zUAM3k4u9Uil",
        "outputId": "e3b84187-1706-4d6c-f254-32b1e37bb570"
      },
      "outputs": [
        {
          "data": {
            "text/plain": [
              "'Максимальное значение в столбце call_duration = 26175'"
            ]
          },
          "metadata": {},
          "output_type": "display_data"
        },
        {
          "data": {
            "text/plain": [
              "'Минимальное значение в столбце call_duration = 0'"
            ]
          },
          "metadata": {},
          "output_type": "display_data"
        }
      ],
      "source": [
        "display(f'Максимальное значение в столбце call_duration = {dataset[\"call_duration\"].max()}')\n",
        "display(f'Минимальное значение в столбце call_duration = {dataset[\"call_duration\"].min()}')"
      ]
    },
    {
      "cell_type": "code",
      "execution_count": null,
      "metadata": {
        "id": "Tu5awDv99Uil",
        "outputId": "94672054-53e9-45c3-fb54-41857958e0dd"
      },
      "outputs": [
        {
          "data": {
            "text/plain": [
              "'Максимальное значение в столбце total_call_duration = 26347'"
            ]
          },
          "metadata": {},
          "output_type": "display_data"
        },
        {
          "data": {
            "text/plain": [
              "'Минимальное значение в столбце total_call_duration = 0'"
            ]
          },
          "metadata": {},
          "output_type": "display_data"
        }
      ],
      "source": [
        "display(f'Максимальное значение в столбце total_call_duration = {dataset[\"total_call_duration\"].max()}')\n",
        "display(f'Минимальное значение в столбце total_call_duration = {dataset[\"total_call_duration\"].min()}')"
      ]
    },
    {
      "cell_type": "code",
      "execution_count": null,
      "metadata": {
        "id": "_JcIOi4E9Uil",
        "outputId": "caf65a63-fb3b-49a6-8b2d-21d496e1744a"
      },
      "outputs": [
        {
          "data": {
            "image/png": "[encoded data removed]",
            "text/plain": [
              "<Figure size 1080x360 with 1 Axes>"
            ]
          },
          "metadata": {
            "needs_background": "light"
          },
          "output_type": "display_data"
        }
      ],
      "source": [
        "sns.boxplot(x='call_duration', data=dataset, color='#238b45')\n",
        "plt.title('График размаха длительности звонков')\n",
        "plt.xlabel('Длительность звонков')\n",
        "plt.show()"
      ]
    },
    {
      "cell_type": "code",
      "execution_count": null,
      "metadata": {
        "scrolled": true,
        "id": "utuxsa269Uil",
        "outputId": "c75bbe87-0255-4fc9-af51-d6e2fd7172f2"
      },
      "outputs": [
        {
          "data": {
            "image/png": "[encoded data removed]",
            "text/plain": [
              "<Figure size 1080x360 with 1 Axes>"
            ]
          },
          "metadata": {
            "needs_background": "light"
          },
          "output_type": "display_data"
        }
      ],
      "source": [
        "sns.boxplot(x='total_call_duration', data=dataset, color='#238b45')\n",
        "plt.title('График размаха общей длительности звонков')\n",
        "plt.xlabel('Общая длительность звонков')\n",
        "plt.show()"
      ]
    },
    {
      "cell_type": "markdown",
      "metadata": {
        "id": "cDyoPRkB9Uil"
      },
      "source": [
        "Видим, что столкнулись с серьезной проблемой. У нас в таблице представлена информация о каждом конкретном __Операторе__, который работает __1 день__. Соответственно, он не может физически разговаривать больше, чем __60 миунт * 24 часа = 1440__(И все еще это тоже достаточно обширное допущение, все же человеку нужен перерыв или сон, но мы опустим это).\n",
        "\n",
        "У нас есть данные, которые противоречат этому. Сделаем допущение, что в столбце total_count_duration такие цифры вышли из-за того, что у оператора несколько телефонов, которые звонят одновременно, но вот уже разговаривать он не может сразу с несколькими абонентами, значит поставим фильтр по столбцу call_duration"
      ]
    },
    {
      "cell_type": "code",
      "execution_count": null,
      "metadata": {
        "id": "83TUsVlg9Uim",
        "outputId": "c135435b-ae5a-44e3-f57c-8affa9dd803e"
      },
      "outputs": [
        {
          "data": {
            "text/plain": [
              "'11.81%'"
            ]
          },
          "execution_count": 23,
          "metadata": {},
          "output_type": "execute_result"
        }
      ],
      "source": [
        "\"{:.2%}\".format(((dataset.loc[dataset['call_duration'] > 1440, 'call_duration'].count()\n",
        "                                                                                            / dataset['call_duration'].count())))"
      ]
    },
    {
      "cell_type": "markdown",
      "metadata": {
        "id": "5fAcJ-rY9Uim"
      },
      "source": [
        "Мы лишаемся около 12% данных, поступая таким образом. Хоть это достаточно справедливо с учетом условия, но мы просто не можем так сделать, так как полнота данных исказится. Поступим по-старому и отсечем 5% данных"
      ]
    },
    {
      "cell_type": "code",
      "execution_count": null,
      "metadata": {
        "id": "L45EOixf9Uim",
        "outputId": "1890f929-592b-4b0a-8c7a-c3cce99c718c"
      },
      "outputs": [
        {
          "data": {
            "text/plain": [
              "'5.00%'"
            ]
          },
          "execution_count": 24,
          "metadata": {},
          "output_type": "execute_result"
        }
      ],
      "source": [
        "\"{:.2%}\".format(((dataset.loc[dataset['call_duration'] > dataset['call_duration'].quantile(0.95), 'call_duration'].count()\n",
        "                                                                                            / dataset['call_duration'].count())))"
      ]
    },
    {
      "cell_type": "code",
      "execution_count": null,
      "metadata": {
        "id": "SN2KID359Uim"
      },
      "outputs": [],
      "source": [
        "dataset = dataset.drop(index=dataset.loc[dataset['call_duration'] > dataset['call_duration'].quantile(0.95)].index)"
      ]
    },
    {
      "cell_type": "markdown",
      "metadata": {
        "id": "RU5ww1Rk9Uin"
      },
      "source": [
        "Для столбца total_count_duration подобной операции делать не нужно, так как столбы взаимосвязаны"
      ]
    },
    {
      "cell_type": "code",
      "execution_count": null,
      "metadata": {
        "id": "dbdRXL0N9Uin",
        "outputId": "b655855d-d045-4c88-9f15-7895e458b39e"
      },
      "outputs": [
        {
          "name": "stdout",
          "output_type": "stream",
          "text": [
            "<class 'pandas.core.frame.DataFrame'>\n",
            "Int64Index: 44242 entries, 0 to 53901\n",
            "Data columns (total 9 columns):\n",
            " #   Column               Non-Null Count  Dtype         \n",
            "---  ------               --------------  -----         \n",
            " 0   user_id              44242 non-null  int64         \n",
            " 1   date                 44242 non-null  datetime64[ns]\n",
            " 2   direction            44242 non-null  object        \n",
            " 3   internal             44242 non-null  bool          \n",
            " 4   operator_id          44242 non-null  object        \n",
            " 5   is_missed_call       44242 non-null  bool          \n",
            " 6   calls_count          44242 non-null  int64         \n",
            " 7   call_duration        44242 non-null  int64         \n",
            " 8   total_call_duration  44242 non-null  int64         \n",
            "dtypes: bool(2), datetime64[ns](1), int64(4), object(2)\n",
            "memory usage: 2.8+ MB\n"
          ]
        }
      ],
      "source": [
        "dataset.info()"
      ]
    },
    {
      "cell_type": "markdown",
      "metadata": {
        "id": "CjWmNsNu9Uin"
      },
      "source": [
        "Много данных отсеялось во время предобработки. От изначальных 53902 осталось 44242. В итоге будем работать с около 82% от всех данных(Мы еще не взяли в расчет, что под исследование подходят только 2 месяца из четырех, так как только они полные)"
      ]
    },
    {
      "cell_type": "markdown",
      "metadata": {
        "id": "ACLqxXk69Uin"
      },
      "source": [
        "### Объединим таблицы"
      ]
    },
    {
      "cell_type": "code",
      "execution_count": null,
      "metadata": {
        "id": "0wqQufhS9Uin"
      },
      "outputs": [],
      "source": [
        "df = dataset.merge(clients, on='user_id')"
      ]
    },
    {
      "cell_type": "markdown",
      "metadata": {
        "id": "uMuCsj119Uin"
      },
      "source": [
        "Проверим, правильно ли объединились таблицы:"
      ]
    },
    {
      "cell_type": "code",
      "execution_count": null,
      "metadata": {
        "id": "NcGtQDli9Uin",
        "outputId": "46dcac0c-5f56-4853-84a4-b700893a8fd8"
      },
      "outputs": [
        {
          "data": {
            "text/plain": [
              "True"
            ]
          },
          "execution_count": 28,
          "metadata": {},
          "output_type": "execute_result"
        }
      ],
      "source": [
        "len(df) == len(dataset)"
      ]
    },
    {
      "cell_type": "code",
      "execution_count": null,
      "metadata": {
        "id": "7eT8nNtp9Uio",
        "outputId": "38658f5f-08ad-4d9f-e3ce-3ec8190e74be"
      },
      "outputs": [
        {
          "data": {
            "text/plain": [
              "array(['B', 'C', 'A'], dtype=object)"
            ]
          },
          "execution_count": 29,
          "metadata": {},
          "output_type": "execute_result"
        }
      ],
      "source": [
        "df.tariff_plan.unique()"
      ]
    },
    {
      "cell_type": "markdown",
      "metadata": {
        "id": "UiTvyJR-9Uio"
      },
      "source": [
        "Объединение прошло успешно. Ни одна строка не исчезла и ни у одного клиента не потерялся тариф"
      ]
    },
    {
      "cell_type": "markdown",
      "metadata": {
        "id": "tEyZv7Pu9Uio"
      },
      "source": [
        "Проверим, что ни один из клиентов не пришел позже своего первого действия"
      ]
    },
    {
      "cell_type": "code",
      "execution_count": null,
      "metadata": {
        "scrolled": true,
        "id": "Kg-LDOoU9Uio",
        "outputId": "b6c68187-755f-450f-8ccd-79161338536d"
      },
      "outputs": [
        {
          "data": {
            "text/html": [
              "<div>\n",
              "<style scoped>\n",
              "    .dataframe tbody tr th:only-of-type {\n",
              "        vertical-align: middle;\n",
              "    }\n",
              "\n",
              "    .dataframe tbody tr th {\n",
              "        vertical-align: top;\n",
              "    }\n",
              "\n",
              "    .dataframe thead th {\n",
              "        text-align: right;\n",
              "    }\n",
              "</style>\n",
              "<table border=\"1\" class=\"dataframe\">\n",
              "  <thead>\n",
              "    <tr style=\"text-align: right;\">\n",
              "      <th></th>\n",
              "      <th>user_id</th>\n",
              "      <th>date</th>\n",
              "      <th>direction</th>\n",
              "      <th>internal</th>\n",
              "      <th>operator_id</th>\n",
              "      <th>is_missed_call</th>\n",
              "      <th>calls_count</th>\n",
              "      <th>call_duration</th>\n",
              "      <th>total_call_duration</th>\n",
              "      <th>tariff_plan</th>\n",
              "      <th>date_start</th>\n",
              "    </tr>\n",
              "  </thead>\n",
              "  <tbody>\n",
              "  </tbody>\n",
              "</table>\n",
              "</div>"
            ],
            "text/plain": [
              "Empty DataFrame\n",
              "Columns: [user_id, date, direction, internal, operator_id, is_missed_call, calls_count, call_duration, total_call_duration, tariff_plan, date_start]\n",
              "Index: []"
            ]
          },
          "execution_count": 30,
          "metadata": {},
          "output_type": "execute_result"
        }
      ],
      "source": [
        "df[df['date_start'] > df['date']]"
      ]
    },
    {
      "cell_type": "markdown",
      "metadata": {
        "id": "ky1E5L3c9Uio"
      },
      "source": [
        "Значит с этим в данных проблем нет"
      ]
    },
    {
      "cell_type": "markdown",
      "metadata": {
        "id": "1Sxy5XPJ9Uip"
      },
      "source": [
        "### Вывод по разделу 2:"
      ]
    },
    {
      "cell_type": "markdown",
      "metadata": {
        "id": "UUsxeaDY9Uip"
      },
      "source": [
        "Провели предобработку данных. В ее ходе:\n",
        " - Привели данные к правильным типам\n",
        " - Удалили явные дубликаты, посмотрели на неявные, не обнаружили их\n",
        " - Разобрались с пропусками\n",
        " - Провели большую работу над аномальными значениями. Пришлось отбросить около 25% данных, но они лишь навредили бы исследованию\n",
        " - Создали общую таблицу из исходных датафреймов"
      ]
    },
    {
      "cell_type": "markdown",
      "metadata": {
        "id": "HFjtxVHm9Uip"
      },
      "source": [
        "## Исследовательский анализ"
      ]
    },
    {
      "cell_type": "markdown",
      "metadata": {
        "id": "x9Z-E-GO9Uip"
      },
      "source": [
        "### Соотношение тарифов"
      ]
    },
    {
      "cell_type": "markdown",
      "metadata": {
        "id": "vGfZcdVt9Uip"
      },
      "source": [
        "Для начала взглянем на данные более глубоко. Посмотрим, какое у нас процентное соотношение по тарифам"
      ]
    },
    {
      "cell_type": "code",
      "execution_count": null,
      "metadata": {
        "id": "cl0UXidd9Uip"
      },
      "outputs": [],
      "source": [
        "table_for_viz = df.groupby('tariff_plan', as_index=False).user_id.nunique()"
      ]
    },
    {
      "cell_type": "markdown",
      "metadata": {
        "id": "cVs6W8Fu9Uiq"
      },
      "source": [
        "Перед постройкой первого графика создадим словарь цветов, чтобы все время была одна и та же палитра у каждого последующего графика:"
      ]
    },
    {
      "cell_type": "code",
      "execution_count": null,
      "metadata": {
        "id": "h6lwEgc59Uiq"
      },
      "outputs": [],
      "source": [
        "palette_colors = {\n",
        "    'A' : '#238b45',\n",
        "    'B' : '#3CB371',\n",
        "    'C' : '#c7e9c0'\n",
        "}"
      ]
    },
    {
      "cell_type": "code",
      "execution_count": null,
      "metadata": {
        "id": "GG0SybHz9Uiq"
      },
      "outputs": [],
      "source": [
        "def func(pct, allvalues):\n",
        "    \"\"\" Эта функция правильно готовит значения для вывода\n",
        "\n",
        "    Для построения графиков нужны и абсолютные и относительные значения\n",
        "    Функция принимает их на вход и выводит в красивом формате, пригодном\n",
        "    для визуализации\n",
        "    \"\"\"\n",
        "    absolute = int(pct / 100.*np.sum(allvalues))\n",
        "    return \"{:.1f}%\\n({:d})\".format(pct, absolute)"
      ]
    },
    {
      "cell_type": "code",
      "execution_count": null,
      "metadata": {
        "scrolled": false,
        "id": "NMoEkd6O9Uiq",
        "outputId": "ea51d945-e623-4873-9714-0731c23ee630"
      },
      "outputs": [
        {
          "data": {
            "image/png": "[encoded data removed]",
            "text/plain": [
              "<Figure size 756x396 with 1 Axes>"
            ]
          },
          "metadata": {},
          "output_type": "display_data"
        }
      ],
      "source": [
        "fig, ax = plt.subplots()\n",
        "patches, texts, pcts = ax.pie('user_id',\n",
        "                              labels='tariff_plan',\n",
        "                              data = table_for_viz,\n",
        "                              autopct=lambda pct: func(pct, table_for_viz['user_id']),\n",
        "                              radius = 1.2,\n",
        "                              colors=[palette_colors[cat] for cat in table_for_viz['tariff_plan']])\n",
        "ax.legend(loc='center left', bbox_to_anchor=(1, 0.5))\n",
        "for i, patch in enumerate(patches):\n",
        "    texts[i].set_color(patch.get_facecolor())\n",
        "fig.set_size_inches(10.5, 5.5)\n",
        "plt.setp(pcts, color='black')\n",
        "plt.setp(texts, fontweight=600)\n",
        "plt.title('Соотношение тарифных планов', size=13, y=1.05)\n",
        "plt.show()"
      ]
    },
    {
      "cell_type": "markdown",
      "metadata": {
        "id": "m_XNbdMn9Uiq"
      },
      "source": [
        "Видим явное лидирование тарифа С, так как он самый дешевый. Тариф А находится в явном меньшинстве, что тоже достаточно объяснимо, так как он самый дорогой"
      ]
    },
    {
      "cell_type": "markdown",
      "metadata": {
        "id": "w1zG_jXj9Uiq"
      },
      "source": [
        "### Длительность и количество звонков по тарифам"
      ]
    },
    {
      "cell_type": "markdown",
      "metadata": {
        "id": "KcB7wM739Uir"
      },
      "source": [
        "Посчитаем сколько раз клиенты всех тарифов звонят в день, а также как долго они это делают в среднем"
      ]
    },
    {
      "cell_type": "code",
      "execution_count": null,
      "metadata": {
        "id": "BppCkJqM9Uir"
      },
      "outputs": [],
      "source": [
        "table_for_viz = df.groupby(['date', 'tariff_plan'], as_index=False).agg({'calls_count' : 'sum',\n",
        "                                                               'total_call_duration' : 'sum'})"
      ]
    },
    {
      "cell_type": "code",
      "execution_count": null,
      "metadata": {
        "id": "tXpqLXvV9Uir"
      },
      "outputs": [],
      "source": [
        "table_for_viz = table_for_viz.groupby('tariff_plan', as_index=False).agg({'calls_count' : ['mean', 'median'],\n",
        "                                                               'total_call_duration' : ['mean', 'median']})"
      ]
    },
    {
      "cell_type": "code",
      "execution_count": null,
      "metadata": {
        "id": "kWGOBUfe9Uir",
        "outputId": "a0387654-d4f5-4825-d5f5-a9e0cdbb1f26"
      },
      "outputs": [
        {
          "data": {
            "image/png": "[encoded data removed]",
            "text/plain": [
              "<Figure size 1080x360 with 1 Axes>"
            ]
          },
          "metadata": {
            "needs_background": "light"
          },
          "output_type": "display_data"
        },
        {
          "data": {
            "image/png": "[encoded data removed]",
            "text/plain": [
              "<Figure size 1080x360 with 1 Axes>"
            ]
          },
          "metadata": {
            "needs_background": "light"
          },
          "output_type": "display_data"
        }
      ],
      "source": [
        "sns.barplot(x=table_for_viz['tariff_plan'], y=table_for_viz['calls_count']['mean'], palette=palette_colors)\n",
        "plt.title('Среднее суточное количество звонков по тарифам')\n",
        "plt.xlabel('Тарифы')\n",
        "plt.ylabel('Количество звонков')\n",
        "plt.show()\n",
        "sns.barplot(x=table_for_viz['tariff_plan'], y=table_for_viz['calls_count']['median'], palette=palette_colors)\n",
        "plt.title('Медианное суточное количество звонков по тарифам')\n",
        "plt.xlabel('Тарифы')\n",
        "plt.ylabel('Количество звонков')\n",
        "plt.show()"
      ]
    },
    {
      "cell_type": "markdown",
      "metadata": {
        "id": "a_vSzoLw9Uir"
      },
      "source": [
        "Получается, что звонят больше клиентов тарифа С в сутки. И по медиане и по среднему"
      ]
    },
    {
      "cell_type": "code",
      "execution_count": null,
      "metadata": {
        "id": "SHsPmsPd9Uir",
        "outputId": "1fa03575-39a3-4c73-f3e3-ef994482466e"
      },
      "outputs": [
        {
          "data": {
            "image/png": "[encoded data removed]",
            "text/plain": [
              "<Figure size 1080x360 with 1 Axes>"
            ]
          },
          "metadata": {
            "needs_background": "light"
          },
          "output_type": "display_data"
        },
        {
          "data": {
            "image/png": "[encoded data removed]",
            "text/plain": [
              "<Figure size 1080x360 with 1 Axes>"
            ]
          },
          "metadata": {
            "needs_background": "light"
          },
          "output_type": "display_data"
        }
      ],
      "source": [
        "sns.barplot(x=table_for_viz['tariff_plan'], y=table_for_viz['total_call_duration']['mean'], palette=palette_colors)\n",
        "plt.title('Средняя суточная длительность звонков по тарифам')\n",
        "plt.xlabel('Тарифы')\n",
        "plt.ylabel('Длительность звонков')\n",
        "plt.show()\n",
        "sns.barplot(x=table_for_viz['tariff_plan'], y=table_for_viz['total_call_duration']['median'], palette=palette_colors)\n",
        "plt.title('Медианная суточная длительность звонков по тарифам')\n",
        "plt.xlabel('Тарифы')\n",
        "plt.ylabel('Длительность звонков')\n",
        "plt.show()"
      ]
    },
    {
      "cell_type": "markdown",
      "metadata": {
        "id": "hsX0QG6U9Uir"
      },
      "source": [
        "Этот график куда более интересен, потому что привязан напрямую к месячному чеку. Получается, что клиенты на тарифах С звонят куда больше, чем даже клиенты на тарифе А. Это как раз может служить одним из факторов того, что они используют невыгодный для них тариф"
      ]
    },
    {
      "cell_type": "markdown",
      "metadata": {
        "id": "3NWHTyKN9Uis"
      },
      "source": [
        "### Создание агрегированной таблицы по клиентам"
      ]
    },
    {
      "cell_type": "markdown",
      "metadata": {
        "id": "tqMk0Jxt9Uis"
      },
      "source": [
        "Одна из ключевых задач - собрать все данные по клиентам, чтобы посчтитать их месячный чек"
      ]
    },
    {
      "cell_type": "code",
      "execution_count": null,
      "metadata": {
        "id": "DUZ0a6Sn9Uis"
      },
      "outputs": [],
      "source": [
        "def searching_for_in(row):\n",
        "    \"\"\" Эта функция помогает избавиться от внутренних звонков\n",
        "\n",
        "    Она ищет все строки, где есть in в столбце direction и затем\n",
        "    меняет цифру в total_call_duration на 0, чтобы мы не использовали\n",
        "    эти звонки в расчете месячного чека\n",
        "    \"\"\"\n",
        "    if row['direction'] == 'in':\n",
        "        row ['total_call_duration'] = 0\n",
        "        return row\n",
        "    else:\n",
        "        return row"
      ]
    },
    {
      "cell_type": "code",
      "execution_count": null,
      "metadata": {
        "id": "bHfiEnOQ9Uis"
      },
      "outputs": [],
      "source": [
        "df = df.apply(searching_for_in, axis=1)"
      ]
    },
    {
      "cell_type": "code",
      "execution_count": null,
      "metadata": {
        "id": "H-DYbXO09Uis",
        "outputId": "a208a8ee-37af-4095-f843-2bfc0ee8f357"
      },
      "outputs": [
        {
          "data": {
            "text/html": [
              "<div>\n",
              "<style scoped>\n",
              "    .dataframe tbody tr th:only-of-type {\n",
              "        vertical-align: middle;\n",
              "    }\n",
              "\n",
              "    .dataframe tbody tr th {\n",
              "        vertical-align: top;\n",
              "    }\n",
              "\n",
              "    .dataframe thead th {\n",
              "        text-align: right;\n",
              "    }\n",
              "</style>\n",
              "<table border=\"1\" class=\"dataframe\">\n",
              "  <thead>\n",
              "    <tr style=\"text-align: right;\">\n",
              "      <th></th>\n",
              "      <th>user_id</th>\n",
              "      <th>date</th>\n",
              "      <th>direction</th>\n",
              "      <th>internal</th>\n",
              "      <th>operator_id</th>\n",
              "      <th>is_missed_call</th>\n",
              "      <th>calls_count</th>\n",
              "      <th>call_duration</th>\n",
              "      <th>total_call_duration</th>\n",
              "      <th>tariff_plan</th>\n",
              "      <th>date_start</th>\n",
              "    </tr>\n",
              "  </thead>\n",
              "  <tbody>\n",
              "    <tr>\n",
              "      <th>0</th>\n",
              "      <td>166377</td>\n",
              "      <td>2019-08-04</td>\n",
              "      <td>in</td>\n",
              "      <td>False</td>\n",
              "      <td>Unknown</td>\n",
              "      <td>True</td>\n",
              "      <td>2</td>\n",
              "      <td>0</td>\n",
              "      <td>0</td>\n",
              "      <td>B</td>\n",
              "      <td>2019-08-01</td>\n",
              "    </tr>\n",
              "    <tr>\n",
              "      <th>1</th>\n",
              "      <td>166377</td>\n",
              "      <td>2019-08-05</td>\n",
              "      <td>out</td>\n",
              "      <td>True</td>\n",
              "      <td>880022.0</td>\n",
              "      <td>True</td>\n",
              "      <td>3</td>\n",
              "      <td>0</td>\n",
              "      <td>5</td>\n",
              "      <td>B</td>\n",
              "      <td>2019-08-01</td>\n",
              "    </tr>\n",
              "    <tr>\n",
              "      <th>2</th>\n",
              "      <td>166377</td>\n",
              "      <td>2019-08-05</td>\n",
              "      <td>out</td>\n",
              "      <td>True</td>\n",
              "      <td>880020.0</td>\n",
              "      <td>True</td>\n",
              "      <td>1</td>\n",
              "      <td>0</td>\n",
              "      <td>1</td>\n",
              "      <td>B</td>\n",
              "      <td>2019-08-01</td>\n",
              "    </tr>\n",
              "    <tr>\n",
              "      <th>3</th>\n",
              "      <td>166377</td>\n",
              "      <td>2019-08-05</td>\n",
              "      <td>out</td>\n",
              "      <td>True</td>\n",
              "      <td>880020.0</td>\n",
              "      <td>False</td>\n",
              "      <td>1</td>\n",
              "      <td>10</td>\n",
              "      <td>18</td>\n",
              "      <td>B</td>\n",
              "      <td>2019-08-01</td>\n",
              "    </tr>\n",
              "    <tr>\n",
              "      <th>4</th>\n",
              "      <td>166377</td>\n",
              "      <td>2019-08-05</td>\n",
              "      <td>out</td>\n",
              "      <td>False</td>\n",
              "      <td>880022.0</td>\n",
              "      <td>True</td>\n",
              "      <td>3</td>\n",
              "      <td>0</td>\n",
              "      <td>25</td>\n",
              "      <td>B</td>\n",
              "      <td>2019-08-01</td>\n",
              "    </tr>\n",
              "  </tbody>\n",
              "</table>\n",
              "</div>"
            ],
            "text/plain": [
              "   user_id       date direction  internal operator_id  is_missed_call  \\\n",
              "0   166377 2019-08-04        in     False     Unknown            True   \n",
              "1   166377 2019-08-05       out      True    880022.0            True   \n",
              "2   166377 2019-08-05       out      True    880020.0            True   \n",
              "3   166377 2019-08-05       out      True    880020.0           False   \n",
              "4   166377 2019-08-05       out     False    880022.0            True   \n",
              "\n",
              "   calls_count  call_duration  total_call_duration tariff_plan  date_start  \n",
              "0            2              0                    0           B  2019-08-01  \n",
              "1            3              0                    5           B  2019-08-01  \n",
              "2            1              0                    1           B  2019-08-01  \n",
              "3            1             10                   18           B  2019-08-01  \n",
              "4            3              0                   25           B  2019-08-01  "
            ]
          },
          "execution_count": 41,
          "metadata": {},
          "output_type": "execute_result"
        }
      ],
      "source": [
        "df.head()"
      ]
    },
    {
      "cell_type": "markdown",
      "metadata": {
        "id": "8n_1orMb9Uit"
      },
      "source": [
        "Можно увидеть, что функция работает"
      ]
    },
    {
      "cell_type": "markdown",
      "metadata": {
        "id": "AYSGKwl29Uit"
      },
      "source": [
        "Далее мы создадим два столбца, в которых будем считать исходящие внутренние звонки и исходящие внешние(Они нам пригодятся для подсчета)"
      ]
    },
    {
      "cell_type": "code",
      "execution_count": null,
      "metadata": {
        "id": "fSPRL9i19Uit"
      },
      "outputs": [],
      "source": [
        "df['out_internal'] = df.apply(lambda x: x['total_call_duration'] if x['internal'] == True else 0, axis=1)"
      ]
    },
    {
      "cell_type": "code",
      "execution_count": null,
      "metadata": {
        "id": "E5S41kJF9Uit"
      },
      "outputs": [],
      "source": [
        "df['out_not_internal'] = df.apply(lambda x: x['total_call_duration'] if x['internal'] != True else 0, axis=1)"
      ]
    },
    {
      "cell_type": "markdown",
      "metadata": {
        "id": "Uw02QgXP9Uit"
      },
      "source": [
        "Пере тем, как создать общую таблицу, посмотрим на распределение по месяцам, чтобы понять, какие мы можем использовать"
      ]
    },
    {
      "cell_type": "code",
      "execution_count": null,
      "metadata": {
        "id": "ikowqxQA9Uit"
      },
      "outputs": [],
      "source": [
        "table_for_viz = df.groupby([df['date'].dt.month]).calls_count.sum()"
      ]
    },
    {
      "cell_type": "code",
      "execution_count": null,
      "metadata": {
        "id": "u2jRJqcn9Uit",
        "outputId": "d0fac04f-9388-4e3c-9b1a-77b297629594"
      },
      "outputs": [
        {
          "data": {
            "image/png": "[encoded data removed]",
            "text/plain": [
              "<Figure size 1080x360 with 1 Axes>"
            ]
          },
          "metadata": {
            "needs_background": "light"
          },
          "output_type": "display_data"
        }
      ],
      "source": [
        "sns.lineplot(x=table_for_viz.index, y=table_for_viz.values, color='Green')\n",
        "plt.title('Количество звонков по месяцам')\n",
        "plt.xlabel('Дата, месяц')\n",
        "plt.ylabel('Количество звонков')\n",
        "month_names = ['Август', 'Сентябрь', 'Октябрь', 'Ноябрь']\n",
        "plt.xticks(table_for_viz.index, month_names)\n",
        "plt.show()"
      ]
    },
    {
      "cell_type": "markdown",
      "metadata": {
        "id": "m0KX5TjY9Uit"
      },
      "source": [
        "И, также, посмотрим на доли:"
      ]
    },
    {
      "cell_type": "code",
      "execution_count": null,
      "metadata": {
        "id": "7bxmA9ZB9Uiu",
        "outputId": "1377e78d-3d82-4680-c044-7c2865881f5d"
      },
      "outputs": [
        {
          "data": {
            "image/png": "[encoded data removed]",
            "text/plain": [
              "<Figure size 756x396 with 1 Axes>"
            ]
          },
          "metadata": {},
          "output_type": "display_data"
        }
      ],
      "source": [
        "fig, ax = plt.subplots()\n",
        "patches, texts, pcts = ax.pie(table_for_viz.values,\n",
        "                              labels=table_for_viz.index,\n",
        "                              autopct=lambda pct: func(pct, table_for_viz.values),\n",
        "                              radius = 1.2,\n",
        "                              colors=['#238b45', '#3CB371', '#c7e9c0', '#8FBC8F'])\n",
        "ax.legend(loc='center left', bbox_to_anchor=(1, 0.75))\n",
        "for i, patch in enumerate(patches):\n",
        "    texts[i].set_color(patch.get_facecolor())\n",
        "fig.set_size_inches(10.5, 5.5)\n",
        "plt.setp(pcts, color='black')\n",
        "plt.setp(texts, fontweight=600)\n",
        "plt.title('Соотношение количества звонков по месяцу', size=13, y=1.05)\n",
        "plt.show()"
      ]
    },
    {
      "cell_type": "markdown",
      "metadata": {
        "id": "PQV2UnAb9Uiu"
      },
      "source": [
        "Видим, что за 8 месяц(август) звонков почти нет(меньше 4%), так что не будем тратить силы на расчеты по этому месяцу. А вот по остальным придется(__Важное замечание__ - в последнем месяце, ноябре, неполное количество дней. Подробнее - при расчете его месячного чека)"
      ]
    },
    {
      "cell_type": "markdown",
      "metadata": {
        "id": "oTAXgo7P9Uiu"
      },
      "source": [
        "Затем, наконец, создадим общую таблицу. Будем создавать помесячно, так как нам еще надо будет ноябрь изменять"
      ]
    },
    {
      "cell_type": "code",
      "execution_count": null,
      "metadata": {
        "id": "tskOFIpo9Uiu"
      },
      "outputs": [],
      "source": [
        "client1_df = df[(df['date'] >= '2019-09') & (df['date']< '2019-10')].groupby('user_id').agg(\n",
        "    operator_count = ('operator_id', 'count'),\n",
        "    out_internal = ('out_internal', 'sum'),\n",
        "    out_not_internal = ('out_not_internal', 'sum'),\n",
        "    tariff_plan = ('tariff_plan', 'last'),\n",
        "    calls_count = ('calls_count', 'sum'))"
      ]
    },
    {
      "cell_type": "code",
      "execution_count": null,
      "metadata": {
        "id": "aeRFouXS9Uiu",
        "outputId": "e364e5f2-c7fa-4e6f-9d5c-7ea714d4443e"
      },
      "outputs": [
        {
          "data": {
            "text/html": [
              "<div>\n",
              "<style scoped>\n",
              "    .dataframe tbody tr th:only-of-type {\n",
              "        vertical-align: middle;\n",
              "    }\n",
              "\n",
              "    .dataframe tbody tr th {\n",
              "        vertical-align: top;\n",
              "    }\n",
              "\n",
              "    .dataframe thead th {\n",
              "        text-align: right;\n",
              "    }\n",
              "</style>\n",
              "<table border=\"1\" class=\"dataframe\">\n",
              "  <thead>\n",
              "    <tr style=\"text-align: right;\">\n",
              "      <th></th>\n",
              "      <th>operator_count</th>\n",
              "      <th>out_internal</th>\n",
              "      <th>out_not_internal</th>\n",
              "      <th>tariff_plan</th>\n",
              "      <th>calls_count</th>\n",
              "    </tr>\n",
              "    <tr>\n",
              "      <th>user_id</th>\n",
              "      <th></th>\n",
              "      <th></th>\n",
              "      <th></th>\n",
              "      <th></th>\n",
              "      <th></th>\n",
              "    </tr>\n",
              "  </thead>\n",
              "  <tbody>\n",
              "    <tr>\n",
              "      <th>166377</th>\n",
              "      <td>153</td>\n",
              "      <td>9</td>\n",
              "      <td>102611</td>\n",
              "      <td>B</td>\n",
              "      <td>1430</td>\n",
              "    </tr>\n",
              "    <tr>\n",
              "      <th>166391</th>\n",
              "      <td>4</td>\n",
              "      <td>0</td>\n",
              "      <td>0</td>\n",
              "      <td>C</td>\n",
              "      <td>4</td>\n",
              "    </tr>\n",
              "    <tr>\n",
              "      <th>166392</th>\n",
              "      <td>17</td>\n",
              "      <td>0</td>\n",
              "      <td>0</td>\n",
              "      <td>C</td>\n",
              "      <td>36</td>\n",
              "    </tr>\n",
              "    <tr>\n",
              "      <th>166399</th>\n",
              "      <td>2</td>\n",
              "      <td>0</td>\n",
              "      <td>0</td>\n",
              "      <td>C</td>\n",
              "      <td>2</td>\n",
              "    </tr>\n",
              "    <tr>\n",
              "      <th>166405</th>\n",
              "      <td>172</td>\n",
              "      <td>0</td>\n",
              "      <td>70777</td>\n",
              "      <td>B</td>\n",
              "      <td>1315</td>\n",
              "    </tr>\n",
              "  </tbody>\n",
              "</table>\n",
              "</div>"
            ],
            "text/plain": [
              "         operator_count  out_internal  out_not_internal tariff_plan  \\\n",
              "user_id                                                               \n",
              "166377              153             9            102611           B   \n",
              "166391                4             0                 0           C   \n",
              "166392               17             0                 0           C   \n",
              "166399                2             0                 0           C   \n",
              "166405              172             0             70777           B   \n",
              "\n",
              "         calls_count  \n",
              "user_id               \n",
              "166377          1430  \n",
              "166391             4  \n",
              "166392            36  \n",
              "166399             2  \n",
              "166405          1315  "
            ]
          },
          "execution_count": 48,
          "metadata": {},
          "output_type": "execute_result"
        }
      ],
      "source": [
        "client1_df.head()"
      ]
    },
    {
      "cell_type": "markdown",
      "metadata": {
        "id": "bP5W6QCd9Uiv"
      },
      "source": [
        "В таблицу вошли:\n",
        " - Количество операторов\n",
        " - Общая сумма по времени исходящих внутренних звонков\n",
        " - Общая сумма по времени исходящих внешних звонков\n",
        " - Тарифный план\n",
        " - Общее количество звонков\n",
        "\n",
        "Все это за месяц - сентябрь"
      ]
    },
    {
      "cell_type": "markdown",
      "metadata": {
        "id": "mRGaDc8p9Uiv"
      },
      "source": [
        "### Поиск активных пользователей"
      ]
    },
    {
      "cell_type": "markdown",
      "metadata": {
        "id": "UQhnOKeE9Uiv"
      },
      "source": [
        "Понятие - активный пользователь довольное размытое. Скорее всего ключевое поле для поиска - это calls_count"
      ]
    },
    {
      "cell_type": "code",
      "execution_count": null,
      "metadata": {
        "id": "ddIsv3Xi9Uiv"
      },
      "outputs": [],
      "source": [
        "table_for_viz = client1_df.groupby('calls_count', as_index=False).agg(num_of_calls = ('calls_count', 'count'))"
      ]
    },
    {
      "cell_type": "code",
      "execution_count": null,
      "metadata": {
        "id": "BNAbcPLD9Uiv"
      },
      "outputs": [],
      "source": [
        "table_for_viz['calls_count'] = table_for_viz['calls_count'].apply(lambda x: math.log(x))"
      ]
    },
    {
      "cell_type": "markdown",
      "metadata": {
        "id": "bJMDKsSI9Uiv"
      },
      "source": [
        "В визуализации будем использовать логарифм. Он хорошо покажет, что у нас происходит в начале, которое нас интересует больше всего, а также опустит длинный хвост в конце"
      ]
    },
    {
      "cell_type": "code",
      "execution_count": null,
      "metadata": {
        "id": "CGpSZmxi9Uiv",
        "outputId": "b06aea18-eb9b-4a8e-8a37-05b6dc39e93a"
      },
      "outputs": [
        {
          "data": {
            "image/png": "[encoded data removed]",
            "text/plain": [
              "<Figure size 1080x360 with 1 Axes>"
            ]
          },
          "metadata": {
            "needs_background": "light"
          },
          "output_type": "display_data"
        }
      ],
      "source": [
        "sns.lineplot(x='calls_count', y='num_of_calls', data = table_for_viz, color='#238b45')\n",
        "plt.title('График количества звонков у клиентов')\n",
        "plt.xlabel('Логарифм от количества звонков')\n",
        "plt.ylabel('Количество клиентов с таким кол-вом звонков')\n",
        "plt.show()"
      ]
    },
    {
      "cell_type": "markdown",
      "metadata": {
        "id": "UByMoTgi9Uiv"
      },
      "source": [
        "На графике видно достаточно много клиентов в начале. У них где-то от 0 до log(2) = 8 звонков. Это, скорее всего, неактивные клиенты, так как мы говорим о целом месяце. На графике видно, что график становится более стабильным на отметке в ~2.75. Это около 16 звонков(Что, кстати, совпадает с 25 перцентилем) В целом, считаю, что будет справедливо ограничить клиентов этим параметром"
      ]
    },
    {
      "cell_type": "code",
      "execution_count": null,
      "metadata": {
        "id": "YMNlCVwc9Uiw",
        "outputId": "485d0998-534b-4b9d-e977-556f75214e05"
      },
      "outputs": [
        {
          "data": {
            "text/plain": [
              "2.772588722239781"
            ]
          },
          "execution_count": 52,
          "metadata": {},
          "output_type": "execute_result"
        }
      ],
      "source": [
        "math.log(16)"
      ]
    },
    {
      "cell_type": "code",
      "execution_count": null,
      "metadata": {
        "id": "C3AzT6NO9Uiw",
        "outputId": "6d123b2f-1d96-4961-dc31-60f20166f10f"
      },
      "outputs": [
        {
          "data": {
            "text/plain": [
              "17.0"
            ]
          },
          "execution_count": 53,
          "metadata": {},
          "output_type": "execute_result"
        }
      ],
      "source": [
        "client1_df['calls_count'].quantile(0.25)"
      ]
    },
    {
      "cell_type": "code",
      "execution_count": null,
      "metadata": {
        "id": "QSJu0l629Uiw"
      },
      "outputs": [],
      "source": [
        "client1_df = client1_df[client1_df['calls_count'] > client1_df['calls_count'].quantile(0.25)]"
      ]
    },
    {
      "cell_type": "code",
      "execution_count": null,
      "metadata": {
        "id": "j-jEnMfD9Uiw"
      },
      "outputs": [],
      "source": [
        "def tarification(row):\n",
        "    \"\"\" Эта функция занимается расчетом месячного чека\n",
        "\n",
        "    Используя значения из условия она проводит вычисление на параметрах из агрегированной таблицы\n",
        "    Сначала идет сравнение количества внутрнених исходящих звонков с нулем, чтобы понять,\n",
        "    Вышел ли клиент за лимит, или нет. Затем эта переменная либо используется в уравнении, либо нет\n",
        "    Сами вычисления тоже построены из условия\n",
        "    \"\"\"\n",
        "    sum = 0\n",
        "    if row['tariff_plan'] == 'A':\n",
        "        if row['out_internal'] - 2000 < 0:\n",
        "            row['out_internal'] == 0\n",
        "        else:\n",
        "            row['out_internal'] == row['out_internal'] - 2000\n",
        "        sum = 4000 + row['out_internal'] * 0.1 + row['out_not_internal'] * 0.3 + row['operator_count'] * 50\n",
        "    elif row['tariff_plan'] == 'B':\n",
        "        if row['out_internal'] - 500 < 0:\n",
        "            row['out_internal'] == 0\n",
        "        else:\n",
        "            row['out_internal'] == row['out_internal'] - 500\n",
        "        sum = 2000 + row['out_internal'] * 0.15 + row['out_not_internal'] * 0.5 + row['operator_count'] * 150\n",
        "    elif row['tariff_plan'] == 'C':\n",
        "        sum = 1000 + row['out_internal'] * 0.3 + row['out_not_internal'] * 0.7 + row['operator_count'] * 300\n",
        "    else:\n",
        "        return 0\n",
        "    return round(sum,1)"
      ]
    },
    {
      "cell_type": "code",
      "execution_count": null,
      "metadata": {
        "id": "-QrKqAH_9Uiw"
      },
      "outputs": [],
      "source": [
        "client1_df['monthly_check'] = client1_df.apply(tarification, axis=1)"
      ]
    },
    {
      "cell_type": "markdown",
      "metadata": {
        "id": "NdTjv_YZ9Uix"
      },
      "source": [
        "Наконец получили интересующую нас таблицу"
      ]
    },
    {
      "cell_type": "code",
      "execution_count": null,
      "metadata": {
        "id": "b4bylUJL9Uix",
        "outputId": "51db90a3-5ece-475d-85a4-568fbcd4bf71"
      },
      "outputs": [
        {
          "data": {
            "text/html": [
              "<div>\n",
              "<style scoped>\n",
              "    .dataframe tbody tr th:only-of-type {\n",
              "        vertical-align: middle;\n",
              "    }\n",
              "\n",
              "    .dataframe tbody tr th {\n",
              "        vertical-align: top;\n",
              "    }\n",
              "\n",
              "    .dataframe thead th {\n",
              "        text-align: right;\n",
              "    }\n",
              "</style>\n",
              "<table border=\"1\" class=\"dataframe\">\n",
              "  <thead>\n",
              "    <tr style=\"text-align: right;\">\n",
              "      <th></th>\n",
              "      <th>operator_count</th>\n",
              "      <th>out_internal</th>\n",
              "      <th>out_not_internal</th>\n",
              "      <th>tariff_plan</th>\n",
              "      <th>calls_count</th>\n",
              "      <th>monthly_check</th>\n",
              "    </tr>\n",
              "    <tr>\n",
              "      <th>user_id</th>\n",
              "      <th></th>\n",
              "      <th></th>\n",
              "      <th></th>\n",
              "      <th></th>\n",
              "      <th></th>\n",
              "      <th></th>\n",
              "    </tr>\n",
              "  </thead>\n",
              "  <tbody>\n",
              "    <tr>\n",
              "      <th>166377</th>\n",
              "      <td>153</td>\n",
              "      <td>9</td>\n",
              "      <td>102611</td>\n",
              "      <td>B</td>\n",
              "      <td>1430</td>\n",
              "      <td>76256.9</td>\n",
              "    </tr>\n",
              "    <tr>\n",
              "      <th>166392</th>\n",
              "      <td>17</td>\n",
              "      <td>0</td>\n",
              "      <td>0</td>\n",
              "      <td>C</td>\n",
              "      <td>36</td>\n",
              "      <td>6100.0</td>\n",
              "    </tr>\n",
              "    <tr>\n",
              "      <th>166405</th>\n",
              "      <td>172</td>\n",
              "      <td>0</td>\n",
              "      <td>70777</td>\n",
              "      <td>B</td>\n",
              "      <td>1315</td>\n",
              "      <td>63188.5</td>\n",
              "    </tr>\n",
              "    <tr>\n",
              "      <th>166406</th>\n",
              "      <td>97</td>\n",
              "      <td>28</td>\n",
              "      <td>42326</td>\n",
              "      <td>B</td>\n",
              "      <td>1230</td>\n",
              "      <td>37717.2</td>\n",
              "    </tr>\n",
              "    <tr>\n",
              "      <th>166407</th>\n",
              "      <td>110</td>\n",
              "      <td>5348</td>\n",
              "      <td>2350</td>\n",
              "      <td>A</td>\n",
              "      <td>215</td>\n",
              "      <td>10739.8</td>\n",
              "    </tr>\n",
              "  </tbody>\n",
              "</table>\n",
              "</div>"
            ],
            "text/plain": [
              "         operator_count  out_internal  out_not_internal tariff_plan  \\\n",
              "user_id                                                               \n",
              "166377              153             9            102611           B   \n",
              "166392               17             0                 0           C   \n",
              "166405              172             0             70777           B   \n",
              "166406               97            28             42326           B   \n",
              "166407              110          5348              2350           A   \n",
              "\n",
              "         calls_count  monthly_check  \n",
              "user_id                              \n",
              "166377          1430        76256.9  \n",
              "166392            36         6100.0  \n",
              "166405          1315        63188.5  \n",
              "166406          1230        37717.2  \n",
              "166407           215        10739.8  "
            ]
          },
          "execution_count": 57,
          "metadata": {},
          "output_type": "execute_result"
        }
      ],
      "source": [
        "client1_df.head()"
      ]
    },
    {
      "cell_type": "markdown",
      "metadata": {
        "id": "1EkB6vnb9Uix"
      },
      "source": [
        "Теперь сделаем также с октябрем:"
      ]
    },
    {
      "cell_type": "code",
      "execution_count": null,
      "metadata": {
        "id": "j3RirGg69Uix"
      },
      "outputs": [],
      "source": [
        "client2_df = df[(df['date'] >= '2019-10') & (df['date']< '2019-11')].groupby('user_id').agg(\n",
        "    operator_count = ('operator_id', 'count'),\n",
        "    out_internal = ('out_internal', 'sum'),\n",
        "    out_not_internal = ('out_not_internal', 'sum'),\n",
        "    tariff_plan = ('tariff_plan', 'last'),\n",
        "    calls_count = ('calls_count', 'sum'))\n",
        "client2_df = client2_df[client2_df['calls_count'] > client2_df['calls_count'].quantile(0.25)]\n",
        "client2_df['monthly_check'] = client2_df.apply(tarification, axis=1)"
      ]
    },
    {
      "cell_type": "markdown",
      "metadata": {
        "id": "RIoTauke9Uix"
      },
      "source": [
        "Сразу отфильтруем таблицу по 25 перцентилю и проведем вычисления"
      ]
    },
    {
      "cell_type": "markdown",
      "metadata": {
        "id": "PtmcSZ7O9Uix"
      },
      "source": [
        "И с ноябрем:"
      ]
    },
    {
      "cell_type": "code",
      "execution_count": null,
      "metadata": {
        "id": "VpuXb1Sp9Uix"
      },
      "outputs": [],
      "source": [
        "client3_df = df[(df['date'] >= '2019-11')].groupby('user_id').agg(\n",
        "    operator_count = ('operator_id', 'count'),\n",
        "    out_internal = ('out_internal', 'sum'),\n",
        "    out_not_internal = ('out_not_internal', 'sum'),\n",
        "    tariff_plan = ('tariff_plan', 'last'),\n",
        "    calls_count = ('calls_count', 'sum'))"
      ]
    },
    {
      "cell_type": "markdown",
      "metadata": {
        "id": "d4EZPbvt9Uiy"
      },
      "source": [
        "Вот только незадача, в ноябре не все дни. Мы эти данные получить не можем, а месяц для нас важный. Поступим так - разделим все значения на количество дней(28) и умножим на нужное количество дней (в ноябре их 30). Так мы хоть немного компенсируем недостаток в данных"
      ]
    },
    {
      "cell_type": "code",
      "execution_count": null,
      "metadata": {
        "id": "oVDIEwa49Uiy",
        "outputId": "5ee5ff3a-f500-4463-99f5-03056127d7c0"
      },
      "outputs": [
        {
          "data": {
            "text/html": [
              "<div>\n",
              "<style scoped>\n",
              "    .dataframe tbody tr th:only-of-type {\n",
              "        vertical-align: middle;\n",
              "    }\n",
              "\n",
              "    .dataframe tbody tr th {\n",
              "        vertical-align: top;\n",
              "    }\n",
              "\n",
              "    .dataframe thead th {\n",
              "        text-align: right;\n",
              "    }\n",
              "</style>\n",
              "<table border=\"1\" class=\"dataframe\">\n",
              "  <thead>\n",
              "    <tr style=\"text-align: right;\">\n",
              "      <th></th>\n",
              "      <th>operator_count</th>\n",
              "      <th>out_internal</th>\n",
              "      <th>out_not_internal</th>\n",
              "      <th>tariff_plan</th>\n",
              "      <th>calls_count</th>\n",
              "    </tr>\n",
              "    <tr>\n",
              "      <th>user_id</th>\n",
              "      <th></th>\n",
              "      <th></th>\n",
              "      <th></th>\n",
              "      <th></th>\n",
              "      <th></th>\n",
              "    </tr>\n",
              "  </thead>\n",
              "  <tbody>\n",
              "    <tr>\n",
              "      <th>166377</th>\n",
              "      <td>118</td>\n",
              "      <td>127</td>\n",
              "      <td>81640</td>\n",
              "      <td>B</td>\n",
              "      <td>1208</td>\n",
              "    </tr>\n",
              "    <tr>\n",
              "      <th>166391</th>\n",
              "      <td>3</td>\n",
              "      <td>0</td>\n",
              "      <td>0</td>\n",
              "      <td>C</td>\n",
              "      <td>3</td>\n",
              "    </tr>\n",
              "    <tr>\n",
              "      <th>166392</th>\n",
              "      <td>30</td>\n",
              "      <td>0</td>\n",
              "      <td>0</td>\n",
              "      <td>C</td>\n",
              "      <td>71</td>\n",
              "    </tr>\n",
              "    <tr>\n",
              "      <th>166405</th>\n",
              "      <td>269</td>\n",
              "      <td>115</td>\n",
              "      <td>118560</td>\n",
              "      <td>B</td>\n",
              "      <td>3312</td>\n",
              "    </tr>\n",
              "    <tr>\n",
              "      <th>166406</th>\n",
              "      <td>52</td>\n",
              "      <td>0</td>\n",
              "      <td>26762</td>\n",
              "      <td>B</td>\n",
              "      <td>720</td>\n",
              "    </tr>\n",
              "  </tbody>\n",
              "</table>\n",
              "</div>"
            ],
            "text/plain": [
              "         operator_count  out_internal  out_not_internal tariff_plan  \\\n",
              "user_id                                                               \n",
              "166377              118           127             81640           B   \n",
              "166391                3             0                 0           C   \n",
              "166392               30             0                 0           C   \n",
              "166405              269           115            118560           B   \n",
              "166406               52             0             26762           B   \n",
              "\n",
              "         calls_count  \n",
              "user_id               \n",
              "166377          1208  \n",
              "166391             3  \n",
              "166392            71  \n",
              "166405          3312  \n",
              "166406           720  "
            ]
          },
          "execution_count": 60,
          "metadata": {},
          "output_type": "execute_result"
        }
      ],
      "source": [
        "client3_df.head()"
      ]
    },
    {
      "cell_type": "markdown",
      "metadata": {
        "id": "Cc3OtijS9Uiy"
      },
      "source": [
        "До преобразования"
      ]
    },
    {
      "cell_type": "code",
      "execution_count": null,
      "metadata": {
        "id": "BnPiMdTd9Uiy"
      },
      "outputs": [],
      "source": [
        "client3_df[['operator_count', 'out_internal', 'out_not_internal', 'calls_count']] = \\\n",
        "(client3_df[['operator_count', 'out_internal', 'out_not_internal', 'calls_count']].apply(lambda x: x / 28 * 30)).astype(int)"
      ]
    },
    {
      "cell_type": "code",
      "execution_count": null,
      "metadata": {
        "id": "pSz3M4gM9Uiy",
        "outputId": "98df4f0c-0ccf-4fab-bda5-63ddc1af6d56"
      },
      "outputs": [
        {
          "data": {
            "text/html": [
              "<div>\n",
              "<style scoped>\n",
              "    .dataframe tbody tr th:only-of-type {\n",
              "        vertical-align: middle;\n",
              "    }\n",
              "\n",
              "    .dataframe tbody tr th {\n",
              "        vertical-align: top;\n",
              "    }\n",
              "\n",
              "    .dataframe thead th {\n",
              "        text-align: right;\n",
              "    }\n",
              "</style>\n",
              "<table border=\"1\" class=\"dataframe\">\n",
              "  <thead>\n",
              "    <tr style=\"text-align: right;\">\n",
              "      <th></th>\n",
              "      <th>operator_count</th>\n",
              "      <th>out_internal</th>\n",
              "      <th>out_not_internal</th>\n",
              "      <th>tariff_plan</th>\n",
              "      <th>calls_count</th>\n",
              "    </tr>\n",
              "    <tr>\n",
              "      <th>user_id</th>\n",
              "      <th></th>\n",
              "      <th></th>\n",
              "      <th></th>\n",
              "      <th></th>\n",
              "      <th></th>\n",
              "    </tr>\n",
              "  </thead>\n",
              "  <tbody>\n",
              "    <tr>\n",
              "      <th>166377</th>\n",
              "      <td>126</td>\n",
              "      <td>136</td>\n",
              "      <td>87471</td>\n",
              "      <td>B</td>\n",
              "      <td>1294</td>\n",
              "    </tr>\n",
              "    <tr>\n",
              "      <th>166391</th>\n",
              "      <td>3</td>\n",
              "      <td>0</td>\n",
              "      <td>0</td>\n",
              "      <td>C</td>\n",
              "      <td>3</td>\n",
              "    </tr>\n",
              "    <tr>\n",
              "      <th>166392</th>\n",
              "      <td>32</td>\n",
              "      <td>0</td>\n",
              "      <td>0</td>\n",
              "      <td>C</td>\n",
              "      <td>76</td>\n",
              "    </tr>\n",
              "    <tr>\n",
              "      <th>166405</th>\n",
              "      <td>288</td>\n",
              "      <td>123</td>\n",
              "      <td>127028</td>\n",
              "      <td>B</td>\n",
              "      <td>3548</td>\n",
              "    </tr>\n",
              "    <tr>\n",
              "      <th>166406</th>\n",
              "      <td>55</td>\n",
              "      <td>0</td>\n",
              "      <td>28673</td>\n",
              "      <td>B</td>\n",
              "      <td>771</td>\n",
              "    </tr>\n",
              "  </tbody>\n",
              "</table>\n",
              "</div>"
            ],
            "text/plain": [
              "         operator_count  out_internal  out_not_internal tariff_plan  \\\n",
              "user_id                                                               \n",
              "166377              126           136             87471           B   \n",
              "166391                3             0                 0           C   \n",
              "166392               32             0                 0           C   \n",
              "166405              288           123            127028           B   \n",
              "166406               55             0             28673           B   \n",
              "\n",
              "         calls_count  \n",
              "user_id               \n",
              "166377          1294  \n",
              "166391             3  \n",
              "166392            76  \n",
              "166405          3548  \n",
              "166406           771  "
            ]
          },
          "execution_count": 62,
          "metadata": {},
          "output_type": "execute_result"
        }
      ],
      "source": [
        "client3_df.head()"
      ]
    },
    {
      "cell_type": "markdown",
      "metadata": {
        "id": "cdsLC4on9Uiy"
      },
      "source": [
        "После преобразования. Выглядит все верно"
      ]
    },
    {
      "cell_type": "code",
      "execution_count": null,
      "metadata": {
        "id": "uVir_Kl79Uiy"
      },
      "outputs": [],
      "source": [
        "client3_df = client3_df[client3_df['calls_count'] > client3_df['calls_count'].quantile(0.25)]"
      ]
    },
    {
      "cell_type": "code",
      "execution_count": null,
      "metadata": {
        "id": "fL8fZRJD9Uiy"
      },
      "outputs": [],
      "source": [
        "client3_df['monthly_check'] = client3_df.apply(tarification, axis=1)"
      ]
    },
    {
      "cell_type": "code",
      "execution_count": null,
      "metadata": {
        "id": "uE3vboB29Uiz"
      },
      "outputs": [],
      "source": [
        "monthly_payment = pd.concat([client1_df, client2_df, client3_df])"
      ]
    },
    {
      "cell_type": "markdown",
      "metadata": {
        "id": "bYDZ3akM9Uiz"
      },
      "source": [
        "Теперь получим итоговую таблицу по трем месяцам"
      ]
    },
    {
      "cell_type": "code",
      "execution_count": null,
      "metadata": {
        "id": "QMPsaE5G9Uiz",
        "outputId": "a7392943-cb7c-468c-f67b-f209fafe0bc3"
      },
      "outputs": [
        {
          "data": {
            "text/html": [
              "<div>\n",
              "<style scoped>\n",
              "    .dataframe tbody tr th:only-of-type {\n",
              "        vertical-align: middle;\n",
              "    }\n",
              "\n",
              "    .dataframe tbody tr th {\n",
              "        vertical-align: top;\n",
              "    }\n",
              "\n",
              "    .dataframe thead th {\n",
              "        text-align: right;\n",
              "    }\n",
              "</style>\n",
              "<table border=\"1\" class=\"dataframe\">\n",
              "  <thead>\n",
              "    <tr style=\"text-align: right;\">\n",
              "      <th></th>\n",
              "      <th>operator_count</th>\n",
              "      <th>out_internal</th>\n",
              "      <th>out_not_internal</th>\n",
              "      <th>tariff_plan</th>\n",
              "      <th>calls_count</th>\n",
              "      <th>monthly_check</th>\n",
              "    </tr>\n",
              "    <tr>\n",
              "      <th>user_id</th>\n",
              "      <th></th>\n",
              "      <th></th>\n",
              "      <th></th>\n",
              "      <th></th>\n",
              "      <th></th>\n",
              "      <th></th>\n",
              "    </tr>\n",
              "  </thead>\n",
              "  <tbody>\n",
              "    <tr>\n",
              "      <th>166377</th>\n",
              "      <td>153</td>\n",
              "      <td>9</td>\n",
              "      <td>102611</td>\n",
              "      <td>B</td>\n",
              "      <td>1430</td>\n",
              "      <td>76256.9</td>\n",
              "    </tr>\n",
              "    <tr>\n",
              "      <th>166392</th>\n",
              "      <td>17</td>\n",
              "      <td>0</td>\n",
              "      <td>0</td>\n",
              "      <td>C</td>\n",
              "      <td>36</td>\n",
              "      <td>6100.0</td>\n",
              "    </tr>\n",
              "    <tr>\n",
              "      <th>166405</th>\n",
              "      <td>172</td>\n",
              "      <td>0</td>\n",
              "      <td>70777</td>\n",
              "      <td>B</td>\n",
              "      <td>1315</td>\n",
              "      <td>63188.5</td>\n",
              "    </tr>\n",
              "    <tr>\n",
              "      <th>166406</th>\n",
              "      <td>97</td>\n",
              "      <td>28</td>\n",
              "      <td>42326</td>\n",
              "      <td>B</td>\n",
              "      <td>1230</td>\n",
              "      <td>37717.2</td>\n",
              "    </tr>\n",
              "    <tr>\n",
              "      <th>166407</th>\n",
              "      <td>110</td>\n",
              "      <td>5348</td>\n",
              "      <td>2350</td>\n",
              "      <td>A</td>\n",
              "      <td>215</td>\n",
              "      <td>10739.8</td>\n",
              "    </tr>\n",
              "  </tbody>\n",
              "</table>\n",
              "</div>"
            ],
            "text/plain": [
              "         operator_count  out_internal  out_not_internal tariff_plan  \\\n",
              "user_id                                                               \n",
              "166377              153             9            102611           B   \n",
              "166392               17             0                 0           C   \n",
              "166405              172             0             70777           B   \n",
              "166406               97            28             42326           B   \n",
              "166407              110          5348              2350           A   \n",
              "\n",
              "         calls_count  monthly_check  \n",
              "user_id                              \n",
              "166377          1430        76256.9  \n",
              "166392            36         6100.0  \n",
              "166405          1315        63188.5  \n",
              "166406          1230        37717.2  \n",
              "166407           215        10739.8  "
            ]
          },
          "execution_count": 66,
          "metadata": {},
          "output_type": "execute_result"
        }
      ],
      "source": [
        "monthly_payment.head()"
      ]
    },
    {
      "cell_type": "markdown",
      "metadata": {
        "id": "PDq6i6UA9Uiz"
      },
      "source": [
        "Осталось только снова сгруппировать ее по клиентам, чтобы у нас не затроились ответы:"
      ]
    },
    {
      "cell_type": "code",
      "execution_count": null,
      "metadata": {
        "id": "SdKTWCVa9Uiz"
      },
      "outputs": [],
      "source": [
        "monthly_payment = monthly_payment.reset_index().groupby('user_id').agg({'operator_count' : lambda x: int(x.mean()),\n",
        "                                                                        'out_internal' : lambda x: x.mean().astype(int),\n",
        "                                                                        'out_not_internal' : lambda x: x.mean().astype(int),\n",
        "                                                                        'tariff_plan' : 'first',\n",
        "                                                                        'calls_count' : lambda x: x.mean().astype(int),\n",
        "                                                                        'monthly_check' : lambda x: x.mean().astype(int)\n",
        "})"
      ]
    },
    {
      "cell_type": "code",
      "execution_count": null,
      "metadata": {
        "scrolled": true,
        "id": "av7CNO2A9Uiz",
        "outputId": "8c83bc64-d134-4c6d-b6fd-ba5a581e3448"
      },
      "outputs": [
        {
          "data": {
            "text/html": [
              "<div>\n",
              "<style scoped>\n",
              "    .dataframe tbody tr th:only-of-type {\n",
              "        vertical-align: middle;\n",
              "    }\n",
              "\n",
              "    .dataframe tbody tr th {\n",
              "        vertical-align: top;\n",
              "    }\n",
              "\n",
              "    .dataframe thead th {\n",
              "        text-align: right;\n",
              "    }\n",
              "</style>\n",
              "<table border=\"1\" class=\"dataframe\">\n",
              "  <thead>\n",
              "    <tr style=\"text-align: right;\">\n",
              "      <th></th>\n",
              "      <th>operator_count</th>\n",
              "      <th>out_internal</th>\n",
              "      <th>out_not_internal</th>\n",
              "      <th>tariff_plan</th>\n",
              "      <th>calls_count</th>\n",
              "      <th>monthly_check</th>\n",
              "    </tr>\n",
              "    <tr>\n",
              "      <th>user_id</th>\n",
              "      <th></th>\n",
              "      <th></th>\n",
              "      <th></th>\n",
              "      <th></th>\n",
              "      <th></th>\n",
              "      <th></th>\n",
              "    </tr>\n",
              "  </thead>\n",
              "  <tbody>\n",
              "    <tr>\n",
              "      <th>166377</th>\n",
              "      <td>138</td>\n",
              "      <td>50</td>\n",
              "      <td>95396</td>\n",
              "      <td>B</td>\n",
              "      <td>1366</td>\n",
              "      <td>70405.0</td>\n",
              "    </tr>\n",
              "    <tr>\n",
              "      <th>166392</th>\n",
              "      <td>27</td>\n",
              "      <td>0</td>\n",
              "      <td>0</td>\n",
              "      <td>C</td>\n",
              "      <td>61</td>\n",
              "      <td>9200.0</td>\n",
              "    </tr>\n",
              "    <tr>\n",
              "      <th>166399</th>\n",
              "      <td>13</td>\n",
              "      <td>0</td>\n",
              "      <td>0</td>\n",
              "      <td>C</td>\n",
              "      <td>16</td>\n",
              "      <td>4900.0</td>\n",
              "    </tr>\n",
              "    <tr>\n",
              "      <th>166405</th>\n",
              "      <td>234</td>\n",
              "      <td>300</td>\n",
              "      <td>91275</td>\n",
              "      <td>B</td>\n",
              "      <td>2535</td>\n",
              "      <td>82882.0</td>\n",
              "    </tr>\n",
              "    <tr>\n",
              "      <th>166406</th>\n",
              "      <td>79</td>\n",
              "      <td>280</td>\n",
              "      <td>34663</td>\n",
              "      <td>B</td>\n",
              "      <td>1046</td>\n",
              "      <td>31223.0</td>\n",
              "    </tr>\n",
              "  </tbody>\n",
              "</table>\n",
              "</div>"
            ],
            "text/plain": [
              "         operator_count  out_internal  out_not_internal tariff_plan  \\\n",
              "user_id                                                               \n",
              "166377              138            50             95396           B   \n",
              "166392               27             0                 0           C   \n",
              "166399               13             0                 0           C   \n",
              "166405              234           300             91275           B   \n",
              "166406               79           280             34663           B   \n",
              "\n",
              "         calls_count  monthly_check  \n",
              "user_id                              \n",
              "166377          1366        70405.0  \n",
              "166392            61         9200.0  \n",
              "166399            16         4900.0  \n",
              "166405          2535        82882.0  \n",
              "166406          1046        31223.0  "
            ]
          },
          "execution_count": 68,
          "metadata": {},
          "output_type": "execute_result"
        }
      ],
      "source": [
        "monthly_payment.head()"
      ]
    },
    {
      "cell_type": "markdown",
      "metadata": {
        "id": "14YQ_oKa9Uiz"
      },
      "source": [
        "Все сработало нормально. Теперь у нас есть средние показатели по каждому клиенту за 3 месяца"
      ]
    },
    {
      "cell_type": "markdown",
      "metadata": {
        "id": "yNTnhp-L9Ui0"
      },
      "source": [
        "### Поиск пользователей с неэффективным тарифами"
      ]
    },
    {
      "cell_type": "markdown",
      "metadata": {
        "id": "MBR8I4FO9Ui0"
      },
      "source": [
        "Для этой задачи нам предстоит создать копию таблицы"
      ]
    },
    {
      "cell_type": "code",
      "execution_count": null,
      "metadata": {
        "id": "sVHKDIHt9Ui0"
      },
      "outputs": [],
      "source": [
        "monthly_payment_alt = monthly_payment"
      ]
    },
    {
      "cell_type": "code",
      "execution_count": null,
      "metadata": {
        "id": "3Cv_UmmP9Ui0"
      },
      "outputs": [],
      "source": [
        "def rotation(cell):\n",
        "    \"\"\" Эта функция \"крутит\" тарифные планы\n",
        "\n",
        "    Чтобы мы рассмотрели все варианты тарифных планов клиентов, будем менять\n",
        "    тарифные планы по часовой стрелке. Так, доупстим, вызвав функция 3 раза\n",
        "    мы придем к исходным значениям\n",
        "    \"\"\"\n",
        "    if cell == \"B\":\n",
        "        return \"A\"\n",
        "    elif cell == \"C\":\n",
        "        return \"B\"\n",
        "    else:\n",
        "        return \"C\""
      ]
    },
    {
      "cell_type": "code",
      "execution_count": null,
      "metadata": {
        "id": "tC-XRPtE9Ui0"
      },
      "outputs": [],
      "source": [
        "monthly_payment_alt['tariff_plan'] = monthly_payment['tariff_plan'].apply(rotation)"
      ]
    },
    {
      "cell_type": "code",
      "execution_count": null,
      "metadata": {
        "id": "H35UDRDi9Ui0",
        "outputId": "ac4640bf-950a-4a7a-f7c4-94764c5fa299"
      },
      "outputs": [
        {
          "data": {
            "text/html": [
              "<div>\n",
              "<style scoped>\n",
              "    .dataframe tbody tr th:only-of-type {\n",
              "        vertical-align: middle;\n",
              "    }\n",
              "\n",
              "    .dataframe tbody tr th {\n",
              "        vertical-align: top;\n",
              "    }\n",
              "\n",
              "    .dataframe thead th {\n",
              "        text-align: right;\n",
              "    }\n",
              "</style>\n",
              "<table border=\"1\" class=\"dataframe\">\n",
              "  <thead>\n",
              "    <tr style=\"text-align: right;\">\n",
              "      <th></th>\n",
              "      <th>operator_count</th>\n",
              "      <th>out_internal</th>\n",
              "      <th>out_not_internal</th>\n",
              "      <th>tariff_plan</th>\n",
              "      <th>calls_count</th>\n",
              "      <th>monthly_check</th>\n",
              "    </tr>\n",
              "    <tr>\n",
              "      <th>user_id</th>\n",
              "      <th></th>\n",
              "      <th></th>\n",
              "      <th></th>\n",
              "      <th></th>\n",
              "      <th></th>\n",
              "      <th></th>\n",
              "    </tr>\n",
              "  </thead>\n",
              "  <tbody>\n",
              "    <tr>\n",
              "      <th>166377</th>\n",
              "      <td>138</td>\n",
              "      <td>50</td>\n",
              "      <td>95396</td>\n",
              "      <td>A</td>\n",
              "      <td>1366</td>\n",
              "      <td>70405.0</td>\n",
              "    </tr>\n",
              "    <tr>\n",
              "      <th>166392</th>\n",
              "      <td>27</td>\n",
              "      <td>0</td>\n",
              "      <td>0</td>\n",
              "      <td>B</td>\n",
              "      <td>61</td>\n",
              "      <td>9200.0</td>\n",
              "    </tr>\n",
              "    <tr>\n",
              "      <th>166399</th>\n",
              "      <td>13</td>\n",
              "      <td>0</td>\n",
              "      <td>0</td>\n",
              "      <td>B</td>\n",
              "      <td>16</td>\n",
              "      <td>4900.0</td>\n",
              "    </tr>\n",
              "    <tr>\n",
              "      <th>166405</th>\n",
              "      <td>234</td>\n",
              "      <td>300</td>\n",
              "      <td>91275</td>\n",
              "      <td>A</td>\n",
              "      <td>2535</td>\n",
              "      <td>82882.0</td>\n",
              "    </tr>\n",
              "    <tr>\n",
              "      <th>166406</th>\n",
              "      <td>79</td>\n",
              "      <td>280</td>\n",
              "      <td>34663</td>\n",
              "      <td>A</td>\n",
              "      <td>1046</td>\n",
              "      <td>31223.0</td>\n",
              "    </tr>\n",
              "  </tbody>\n",
              "</table>\n",
              "</div>"
            ],
            "text/plain": [
              "         operator_count  out_internal  out_not_internal tariff_plan  \\\n",
              "user_id                                                               \n",
              "166377              138            50             95396           A   \n",
              "166392               27             0                 0           B   \n",
              "166399               13             0                 0           B   \n",
              "166405              234           300             91275           A   \n",
              "166406               79           280             34663           A   \n",
              "\n",
              "         calls_count  monthly_check  \n",
              "user_id                              \n",
              "166377          1366        70405.0  \n",
              "166392            61         9200.0  \n",
              "166399            16         4900.0  \n",
              "166405          2535        82882.0  \n",
              "166406          1046        31223.0  "
            ]
          },
          "execution_count": 72,
          "metadata": {},
          "output_type": "execute_result"
        }
      ],
      "source": [
        "monthly_payment_alt.head()"
      ]
    },
    {
      "cell_type": "markdown",
      "metadata": {
        "id": "xwjY0ice9Ui1"
      },
      "source": [
        "Проверили, что функция работает, теперь мы можем посчитать чеки, если бы все пользователи поменяли тариф на один \"выше\""
      ]
    },
    {
      "cell_type": "code",
      "execution_count": null,
      "metadata": {
        "id": "udXznhMa9Ui1"
      },
      "outputs": [],
      "source": [
        "monthly_payment_alt['alt_monthly_check'] = monthly_payment_alt.apply(tarification, axis=1)"
      ]
    },
    {
      "cell_type": "markdown",
      "metadata": {
        "id": "kJ4QINqZ9Ui1"
      },
      "source": [
        "Осталось еще один раз сделать тоже самое"
      ]
    },
    {
      "cell_type": "code",
      "execution_count": null,
      "metadata": {
        "id": "GYF5CB2y9Ui1"
      },
      "outputs": [],
      "source": [
        "monthly_payment_alt['tariff_plan'] = monthly_payment_alt['tariff_plan'].apply(rotation)"
      ]
    },
    {
      "cell_type": "code",
      "execution_count": null,
      "metadata": {
        "id": "SWmpFfUq9Ui1"
      },
      "outputs": [],
      "source": [
        "monthly_payment_alt['alt_monthly_check_2'] = monthly_payment_alt.apply(tarification, axis=1)"
      ]
    },
    {
      "cell_type": "markdown",
      "metadata": {
        "id": "H9DpYtTp9Ui1"
      },
      "source": [
        "Получили чеки, если бы все пользователи поменяли тариф на 2 \"выше\""
      ]
    },
    {
      "cell_type": "code",
      "execution_count": null,
      "metadata": {
        "id": "fIxE5ERP9Ui1"
      },
      "outputs": [],
      "source": [
        "monthly_payment_alt['tariff_plan'] = monthly_payment_alt['tariff_plan'].apply(rotation)"
      ]
    },
    {
      "cell_type": "markdown",
      "metadata": {
        "id": "cF_mJgvK9Ui1"
      },
      "source": [
        "Возвращаем в исходное положение тарифы"
      ]
    },
    {
      "cell_type": "code",
      "execution_count": null,
      "metadata": {
        "id": "0k5tJmF89Ui2",
        "outputId": "6f79a326-3c39-40c1-bf65-911d8df71ceb"
      },
      "outputs": [
        {
          "data": {
            "text/html": [
              "<div>\n",
              "<style scoped>\n",
              "    .dataframe tbody tr th:only-of-type {\n",
              "        vertical-align: middle;\n",
              "    }\n",
              "\n",
              "    .dataframe tbody tr th {\n",
              "        vertical-align: top;\n",
              "    }\n",
              "\n",
              "    .dataframe thead th {\n",
              "        text-align: right;\n",
              "    }\n",
              "</style>\n",
              "<table border=\"1\" class=\"dataframe\">\n",
              "  <thead>\n",
              "    <tr style=\"text-align: right;\">\n",
              "      <th></th>\n",
              "      <th>operator_count</th>\n",
              "      <th>out_internal</th>\n",
              "      <th>out_not_internal</th>\n",
              "      <th>tariff_plan</th>\n",
              "      <th>calls_count</th>\n",
              "      <th>monthly_check</th>\n",
              "      <th>alt_monthly_check</th>\n",
              "      <th>alt_monthly_check_2</th>\n",
              "    </tr>\n",
              "    <tr>\n",
              "      <th>user_id</th>\n",
              "      <th></th>\n",
              "      <th></th>\n",
              "      <th></th>\n",
              "      <th></th>\n",
              "      <th></th>\n",
              "      <th></th>\n",
              "      <th></th>\n",
              "      <th></th>\n",
              "    </tr>\n",
              "  </thead>\n",
              "  <tbody>\n",
              "    <tr>\n",
              "      <th>166377</th>\n",
              "      <td>138</td>\n",
              "      <td>50</td>\n",
              "      <td>95396</td>\n",
              "      <td>B</td>\n",
              "      <td>1366</td>\n",
              "      <td>70405.0</td>\n",
              "      <td>39523.8</td>\n",
              "      <td>109192.2</td>\n",
              "    </tr>\n",
              "    <tr>\n",
              "      <th>166392</th>\n",
              "      <td>27</td>\n",
              "      <td>0</td>\n",
              "      <td>0</td>\n",
              "      <td>C</td>\n",
              "      <td>61</td>\n",
              "      <td>9200.0</td>\n",
              "      <td>6050.0</td>\n",
              "      <td>5350.0</td>\n",
              "    </tr>\n",
              "    <tr>\n",
              "      <th>166399</th>\n",
              "      <td>13</td>\n",
              "      <td>0</td>\n",
              "      <td>0</td>\n",
              "      <td>C</td>\n",
              "      <td>16</td>\n",
              "      <td>4900.0</td>\n",
              "      <td>3950.0</td>\n",
              "      <td>4650.0</td>\n",
              "    </tr>\n",
              "    <tr>\n",
              "      <th>166405</th>\n",
              "      <td>234</td>\n",
              "      <td>300</td>\n",
              "      <td>91275</td>\n",
              "      <td>B</td>\n",
              "      <td>2535</td>\n",
              "      <td>82882.0</td>\n",
              "      <td>43112.5</td>\n",
              "      <td>135182.5</td>\n",
              "    </tr>\n",
              "    <tr>\n",
              "      <th>166406</th>\n",
              "      <td>79</td>\n",
              "      <td>280</td>\n",
              "      <td>34663</td>\n",
              "      <td>B</td>\n",
              "      <td>1046</td>\n",
              "      <td>31223.0</td>\n",
              "      <td>18376.9</td>\n",
              "      <td>49048.1</td>\n",
              "    </tr>\n",
              "  </tbody>\n",
              "</table>\n",
              "</div>"
            ],
            "text/plain": [
              "         operator_count  out_internal  out_not_internal tariff_plan  \\\n",
              "user_id                                                               \n",
              "166377              138            50             95396           B   \n",
              "166392               27             0                 0           C   \n",
              "166399               13             0                 0           C   \n",
              "166405              234           300             91275           B   \n",
              "166406               79           280             34663           B   \n",
              "\n",
              "         calls_count  monthly_check  alt_monthly_check  alt_monthly_check_2  \n",
              "user_id                                                                      \n",
              "166377          1366        70405.0            39523.8             109192.2  \n",
              "166392            61         9200.0             6050.0               5350.0  \n",
              "166399            16         4900.0             3950.0               4650.0  \n",
              "166405          2535        82882.0            43112.5             135182.5  \n",
              "166406          1046        31223.0            18376.9              49048.1  "
            ]
          },
          "execution_count": 77,
          "metadata": {},
          "output_type": "execute_result"
        }
      ],
      "source": [
        "monthly_payment_alt.head()"
      ]
    },
    {
      "cell_type": "markdown",
      "metadata": {
        "id": "4J0mr9U19Ui2"
      },
      "source": [
        "Визуализируем полученную информацию:"
      ]
    },
    {
      "cell_type": "markdown",
      "metadata": {
        "id": "dE4fq16q9Ui2"
      },
      "source": [
        "Опишем алгоритм работы для простоты восприятия:\n",
        " - Мы создаем цикл, где перебираются 3 столбца с чеками\n",
        " - Затем, перебираясь построчно, мы смотрим, сколько раз конкретно этот столбец был самым выгодным для клиента\n",
        " - Ставя 1 и 0 в случаях успеха/неудачи, мы получаем таблицу. По ней строим диаграмму\n",
        " - Как проверку можно использовать сумму процентов, где получилось 1. В сумме должно быть 100(Возможно 101 или 99 из-за проблем округления)"
      ]
    },
    {
      "cell_type": "code",
      "execution_count": null,
      "metadata": {
        "id": "0Jjv8XSc9Ui2",
        "outputId": "79879e26-2a08-49ba-c060-207c10226820"
      },
      "outputs": [
        {
          "data": {
            "image/png": "[encoded data removed]",
            "text/plain": [
              "<Figure size 396x396 with 1 Axes>"
            ]
          },
          "metadata": {},
          "output_type": "display_data"
        },
        {
          "data": {
            "image/png": "[encoded data removed]",
            "text/plain": [
              "<Figure size 396x396 with 1 Axes>"
            ]
          },
          "metadata": {},
          "output_type": "display_data"
        },
        {
          "data": {
            "image/png": "[encoded data removed]",
            "text/plain": [
              "<Figure size 396x396 with 1 Axes>"
            ]
          },
          "metadata": {},
          "output_type": "display_data"
        }
      ],
      "source": [
        "for j, item in enumerate(['monthly_check', 'alt_monthly_check', 'alt_monthly_check_2']):\n",
        "    monthly_payment_alt['column_for_viz'] = monthly_payment_alt.apply(lambda x: 1 if x[[\n",
        "    'alt_monthly_check',                                     #Здесь мы используем lambda, чтобы понять, находится ли минимальное\n",
        "    'monthly_check',                                         #значение в том столбце, который используется в цикле\n",
        "    'alt_monthly_check_2']].min() == x[item] else 0, axis=1) #\n",
        "    table_for_viz = monthly_payment_alt.groupby('column_for_viz', as_index=False).operator_count.count()\n",
        "    fig, ax = plt.subplots()\n",
        "    patches, texts, pcts = ax.pie('operator_count',\n",
        "                              labels='column_for_viz',\n",
        "                              data=table_for_viz,\n",
        "                              autopct=lambda pct: func(pct, table_for_viz['operator_count']),\n",
        "                              explode = (0.075, 0),\n",
        "                              radius = 1.2,\n",
        "                              colors=['#238b45', '#c7e9c0'])\n",
        "    ax.legend(['0 - Не выгодно остаться на этом тарифе', '1 - Выгодно остаться на этом тарифе'],\n",
        "              loc='center left', bbox_to_anchor=(1, 0.55))\n",
        "    for i, patch in enumerate(patches):\n",
        "        texts[i].set_color(patch.get_facecolor())\n",
        "    fig.set_size_inches(5.5, 5.5)\n",
        "    plt.setp(pcts, color='black')\n",
        "    plt.setp(texts, fontweight=10)\n",
        "    if j == 0:\n",
        "        plt.title('Выгода для компаний, которые останутся на тарифе', size=13, y=1.05)\n",
        "    else:\n",
        "        plt.title(f'Выгода для компаний, которые сместятся на тариф {\"единожды\" if j == 1 else \"дважды\"}', size=13, y=1.05)\n",
        "    plt.show()"
      ]
    },
    {
      "cell_type": "markdown",
      "metadata": {
        "id": "rQW_To_d9Ui3"
      },
      "source": [
        "Итак, у нас на руках, пожалуй, самая важная визуализация всего исследования. Распишем подробно все, что она показывает:\n",
        " - Лишь __18% клиентов__ выгодно __Остаться на текущем тарифе__\n",
        " - Большинству клиентов (__45%__) выгодно __Перейти на тариф \"выше\"__\n",
        " - Оставшемуся количеству клиентов (__37%__) выгодно __Перейти на два тарифа \"выше\"__\n",
        "\n",
        "То есть на данный момент у нас складывается такая ситуация, что если мы не предложим клиентам перейти на другой тариф, то __82%!__ клиентов у нас используют свои тарифы __невыгодно__"
      ]
    },
    {
      "cell_type": "markdown",
      "metadata": {
        "id": "nW2J92mD9Ui3"
      },
      "source": [
        "### Подсчет затрат компании"
      ]
    },
    {
      "cell_type": "markdown",
      "metadata": {
        "id": "6H20Bkv29Ui3"
      },
      "source": [
        "Теперь создадим таблицу \"выгоды\" клиентов"
      ]
    },
    {
      "cell_type": "markdown",
      "metadata": {
        "id": "AhRdVXmq9Ui3"
      },
      "source": [
        "Для полноты картины нам нужно снова разделить таблицы на мсеяцы, чтобы мы могли более точно посчитать средние значения"
      ]
    },
    {
      "cell_type": "code",
      "execution_count": null,
      "metadata": {
        "id": "KY-2ZPA69Ui3"
      },
      "outputs": [],
      "source": [
        "monthly_payment['better_tariff'] = np.where(\n",
        "    monthly_payment['alt_monthly_check'] < monthly_payment['alt_monthly_check_2'],\n",
        "    monthly_payment['tariff_plan'].apply(rotation),\n",
        "    monthly_payment['tariff_plan'].apply(rotation).apply(rotation)\n",
        ")"
      ]
    },
    {
      "cell_type": "code",
      "execution_count": null,
      "metadata": {
        "id": "5CzdlzfY9Ui3"
      },
      "outputs": [],
      "source": [
        "clients_benefit = monthly_payment[\n",
        "    monthly_payment[['alt_monthly_check',\n",
        "                         'monthly_check',\n",
        "                         'alt_monthly_check_2']].min(axis=1) != monthly_payment['monthly_check']][['monthly_check',\n",
        "                                                                                                       'alt_monthly_check',\n",
        "                                                                                                       'alt_monthly_check_2',\n",
        "                                                                                                        'tariff_plan',\n",
        "                                                                                                        'better_tariff']]"
      ]
    },
    {
      "cell_type": "code",
      "execution_count": null,
      "metadata": {
        "id": "Ow_9-gnw9Ui4",
        "outputId": "727c8b07-e46e-48a5-adad-da6062e40f71"
      },
      "outputs": [
        {
          "data": {
            "text/html": [
              "<div>\n",
              "<style scoped>\n",
              "    .dataframe tbody tr th:only-of-type {\n",
              "        vertical-align: middle;\n",
              "    }\n",
              "\n",
              "    .dataframe tbody tr th {\n",
              "        vertical-align: top;\n",
              "    }\n",
              "\n",
              "    .dataframe thead th {\n",
              "        text-align: right;\n",
              "    }\n",
              "</style>\n",
              "<table border=\"1\" class=\"dataframe\">\n",
              "  <thead>\n",
              "    <tr style=\"text-align: right;\">\n",
              "      <th></th>\n",
              "      <th>monthly_check</th>\n",
              "      <th>alt_monthly_check</th>\n",
              "      <th>alt_monthly_check_2</th>\n",
              "      <th>tariff_plan</th>\n",
              "      <th>better_tariff</th>\n",
              "    </tr>\n",
              "    <tr>\n",
              "      <th>user_id</th>\n",
              "      <th></th>\n",
              "      <th></th>\n",
              "      <th></th>\n",
              "      <th></th>\n",
              "      <th></th>\n",
              "    </tr>\n",
              "  </thead>\n",
              "  <tbody>\n",
              "    <tr>\n",
              "      <th>166377</th>\n",
              "      <td>70405.0</td>\n",
              "      <td>39523.8</td>\n",
              "      <td>109192.2</td>\n",
              "      <td>B</td>\n",
              "      <td>A</td>\n",
              "    </tr>\n",
              "    <tr>\n",
              "      <th>166392</th>\n",
              "      <td>9200.0</td>\n",
              "      <td>6050.0</td>\n",
              "      <td>5350.0</td>\n",
              "      <td>C</td>\n",
              "      <td>A</td>\n",
              "    </tr>\n",
              "    <tr>\n",
              "      <th>166399</th>\n",
              "      <td>4900.0</td>\n",
              "      <td>3950.0</td>\n",
              "      <td>4650.0</td>\n",
              "      <td>C</td>\n",
              "      <td>B</td>\n",
              "    </tr>\n",
              "    <tr>\n",
              "      <th>166405</th>\n",
              "      <td>82882.0</td>\n",
              "      <td>43112.5</td>\n",
              "      <td>135182.5</td>\n",
              "      <td>B</td>\n",
              "      <td>A</td>\n",
              "    </tr>\n",
              "    <tr>\n",
              "      <th>166406</th>\n",
              "      <td>31223.0</td>\n",
              "      <td>18376.9</td>\n",
              "      <td>49048.1</td>\n",
              "      <td>B</td>\n",
              "      <td>A</td>\n",
              "    </tr>\n",
              "  </tbody>\n",
              "</table>\n",
              "</div>"
            ],
            "text/plain": [
              "         monthly_check  alt_monthly_check  alt_monthly_check_2 tariff_plan  \\\n",
              "user_id                                                                      \n",
              "166377         70405.0            39523.8             109192.2           B   \n",
              "166392          9200.0             6050.0               5350.0           C   \n",
              "166399          4900.0             3950.0               4650.0           C   \n",
              "166405         82882.0            43112.5             135182.5           B   \n",
              "166406         31223.0            18376.9              49048.1           B   \n",
              "\n",
              "        better_tariff  \n",
              "user_id                \n",
              "166377              A  \n",
              "166392              A  \n",
              "166399              B  \n",
              "166405              A  \n",
              "166406              A  "
            ]
          },
          "execution_count": 81,
          "metadata": {},
          "output_type": "execute_result"
        }
      ],
      "source": [
        "clients_benefit.head()"
      ]
    },
    {
      "cell_type": "markdown",
      "metadata": {
        "id": "eHdGoBL69Ui4"
      },
      "source": [
        "В этой таблице собраны все клиенты, для которых выгодно перейти либо на один тариф, либо на два \"выше\""
      ]
    },
    {
      "cell_type": "markdown",
      "metadata": {
        "id": "B4QaOdau9Ui4"
      },
      "source": [
        "Теперь с помощью нехитрых манипуляций оставим только столбец с изначальным чеком и столбец с самым выгодным чеком для клиента"
      ]
    },
    {
      "cell_type": "code",
      "execution_count": null,
      "metadata": {
        "id": "kzYEvJf59Ui4"
      },
      "outputs": [],
      "source": [
        "clients_benefit['alt_monthly_check'] = clients_benefit[[\n",
        "    'alt_monthly_check',\n",
        "    'monthly_check',\n",
        "    'alt_monthly_check_2'\n",
        "    ]].min(axis=1)"
      ]
    },
    {
      "cell_type": "code",
      "execution_count": null,
      "metadata": {
        "id": "EMah8xvV9Ui4"
      },
      "outputs": [],
      "source": [
        "clients_benefit = clients_benefit.drop(columns='alt_monthly_check_2')"
      ]
    },
    {
      "cell_type": "markdown",
      "metadata": {
        "id": "VaoJlLSx9Ui5"
      },
      "source": [
        "Добавим стобец потерь компании от выгоды клиента"
      ]
    },
    {
      "cell_type": "code",
      "execution_count": null,
      "metadata": {
        "id": "Y7r3XIhh9Ui5"
      },
      "outputs": [],
      "source": [
        "clients_benefit['company_loss'] = clients_benefit['alt_monthly_check'] - clients_benefit['monthly_check']"
      ]
    },
    {
      "cell_type": "code",
      "execution_count": null,
      "metadata": {
        "id": "XH9IK3qE9Ui5",
        "outputId": "524fc0dc-898c-46a1-dcbe-41c268045468"
      },
      "outputs": [
        {
          "data": {
            "text/html": [
              "<div>\n",
              "<style scoped>\n",
              "    .dataframe tbody tr th:only-of-type {\n",
              "        vertical-align: middle;\n",
              "    }\n",
              "\n",
              "    .dataframe tbody tr th {\n",
              "        vertical-align: top;\n",
              "    }\n",
              "\n",
              "    .dataframe thead th {\n",
              "        text-align: right;\n",
              "    }\n",
              "</style>\n",
              "<table border=\"1\" class=\"dataframe\">\n",
              "  <thead>\n",
              "    <tr style=\"text-align: right;\">\n",
              "      <th></th>\n",
              "      <th>monthly_check</th>\n",
              "      <th>alt_monthly_check</th>\n",
              "      <th>tariff_plan</th>\n",
              "      <th>better_tariff</th>\n",
              "      <th>company_loss</th>\n",
              "    </tr>\n",
              "    <tr>\n",
              "      <th>user_id</th>\n",
              "      <th></th>\n",
              "      <th></th>\n",
              "      <th></th>\n",
              "      <th></th>\n",
              "      <th></th>\n",
              "    </tr>\n",
              "  </thead>\n",
              "  <tbody>\n",
              "    <tr>\n",
              "      <th>166377</th>\n",
              "      <td>70405.0</td>\n",
              "      <td>39523.8</td>\n",
              "      <td>B</td>\n",
              "      <td>A</td>\n",
              "      <td>-30881.2</td>\n",
              "    </tr>\n",
              "    <tr>\n",
              "      <th>166392</th>\n",
              "      <td>9200.0</td>\n",
              "      <td>5350.0</td>\n",
              "      <td>C</td>\n",
              "      <td>A</td>\n",
              "      <td>-3850.0</td>\n",
              "    </tr>\n",
              "    <tr>\n",
              "      <th>166399</th>\n",
              "      <td>4900.0</td>\n",
              "      <td>3950.0</td>\n",
              "      <td>C</td>\n",
              "      <td>B</td>\n",
              "      <td>-950.0</td>\n",
              "    </tr>\n",
              "    <tr>\n",
              "      <th>166405</th>\n",
              "      <td>82882.0</td>\n",
              "      <td>43112.5</td>\n",
              "      <td>B</td>\n",
              "      <td>A</td>\n",
              "      <td>-39769.5</td>\n",
              "    </tr>\n",
              "    <tr>\n",
              "      <th>166406</th>\n",
              "      <td>31223.0</td>\n",
              "      <td>18376.9</td>\n",
              "      <td>B</td>\n",
              "      <td>A</td>\n",
              "      <td>-12846.1</td>\n",
              "    </tr>\n",
              "  </tbody>\n",
              "</table>\n",
              "</div>"
            ],
            "text/plain": [
              "         monthly_check  alt_monthly_check tariff_plan better_tariff  \\\n",
              "user_id                                                               \n",
              "166377         70405.0            39523.8           B             A   \n",
              "166392          9200.0             5350.0           C             A   \n",
              "166399          4900.0             3950.0           C             B   \n",
              "166405         82882.0            43112.5           B             A   \n",
              "166406         31223.0            18376.9           B             A   \n",
              "\n",
              "         company_loss  \n",
              "user_id                \n",
              "166377       -30881.2  \n",
              "166392        -3850.0  \n",
              "166399         -950.0  \n",
              "166405       -39769.5  \n",
              "166406       -12846.1  "
            ]
          },
          "execution_count": 85,
          "metadata": {},
          "output_type": "execute_result"
        }
      ],
      "source": [
        "clients_benefit.head()"
      ]
    },
    {
      "cell_type": "markdown",
      "metadata": {
        "id": "GAfO9sea9Ui5"
      },
      "source": [
        "По итогу у нас вышла __Интересующая заказчика таблица__ - clients_benefit. В ней собрана основная информация всего исследования"
      ]
    },
    {
      "cell_type": "markdown",
      "metadata": {
        "id": "k2P8CYun9Ui5"
      },
      "source": [
        "Далее идет экономический подсчет затрат:"
      ]
    },
    {
      "cell_type": "code",
      "execution_count": null,
      "metadata": {
        "id": "nGXlTxQE9Ui5",
        "outputId": "5ba14180-b993-4e3a-aba8-f33a2b940ad0"
      },
      "outputs": [
        {
          "data": {
            "text/plain": [
              "-2967334.1000000006"
            ]
          },
          "execution_count": 86,
          "metadata": {},
          "output_type": "execute_result"
        }
      ],
      "source": [
        "clients_benefit['company_loss'].sum()"
      ]
    },
    {
      "cell_type": "markdown",
      "metadata": {
        "id": "7TKyQUCZ9Ui6"
      },
      "source": [
        "В сумме вышло около __3 млн рублей__ в потерях в среднем за месяц. Стоит также учитывать тот факт, что это потери в идеальном мире, если _абсолютно каждый_ клиент(82% от общего числа) перейдет на выгодный для него тариф"
      ]
    },
    {
      "cell_type": "markdown",
      "metadata": {
        "id": "uRvi_oSJ9Ui6"
      },
      "source": [
        "Визуализируем потери компании:"
      ]
    },
    {
      "cell_type": "code",
      "execution_count": null,
      "metadata": {
        "id": "qSJ2lmHO9Ui6",
        "outputId": "511d66e8-d3ab-4af7-8e51-c934b083ab15"
      },
      "outputs": [
        {
          "data": {
            "image/png": "[encoded data removed]",
            "text/plain": [
              "<Figure size 756x396 with 1 Axes>"
            ]
          },
          "metadata": {},
          "output_type": "display_data"
        }
      ],
      "source": [
        "fig, ax = plt.subplots()\n",
        "patches, texts, pcts= ax.pie( labels=['Потери компании', 'Месячная прибыль'],\n",
        "                              x = [abs(clients_benefit['company_loss'].sum()),\n",
        "                                   clients_benefit['alt_monthly_check'].sum()],\n",
        "                              autopct = lambda pct: func(pct, [abs(clients_benefit['company_loss'].sum()),\n",
        "                                   clients_benefit['alt_monthly_check'].sum()]),\n",
        "                              colors = ['#238b45','#c7e9c0'],\n",
        "                              explode = (0.05,0),\n",
        "                              radius = 1.2)\n",
        "ax.legend(loc='center left', bbox_to_anchor=(1, 0.5))\n",
        "for i, patch in enumerate(patches):\n",
        "    texts[i].set_color(patch.get_facecolor())\n",
        "fig.set_size_inches(10.5, 5.5)\n",
        "plt.setp(pcts, color='black')\n",
        "plt.setp(texts, fontweight=600)\n",
        "plt.title('Соотношение потерь к прибыли в среднем за месяц', size=13, y=1.05)\n",
        "plt.show()"
      ]
    },
    {
      "cell_type": "markdown",
      "metadata": {
        "id": "JtsslTmo9Ui6"
      },
      "source": [
        "На графиках можно увидеть, что компания теряет больше, чем зарабатывает(Значения прибыли мы взяли уже с учетом перехода всех клиентов на более выгодный для них тариф)"
      ]
    },
    {
      "cell_type": "code",
      "execution_count": null,
      "metadata": {
        "id": "KMvevSt29Ui6",
        "outputId": "f95b7dd3-2eba-4470-ab5a-74ba905085b2"
      },
      "outputs": [
        {
          "data": {
            "text/plain": [
              "2531093.9"
            ]
          },
          "execution_count": 88,
          "metadata": {},
          "output_type": "execute_result"
        }
      ],
      "source": [
        "clients_benefit['alt_monthly_check'].sum()"
      ]
    },
    {
      "cell_type": "markdown",
      "metadata": {
        "id": "5bsTz_nl9Ui6"
      },
      "source": [
        "Причем прибыль от этих клиентов покроет затраты примерно за __один месяц__. То есть, если рассматривать гипотетическую ситуацию, в которой компания может потерять всех этих клиентов(прибыль от них будет 0), то, как альтернатива, такие \"потери\" выглядят не такими серьезными."
      ]
    },
    {
      "cell_type": "code",
      "execution_count": null,
      "metadata": {
        "id": "S9twpFLo9Ui6",
        "outputId": "4373db08-27f9-491a-d465-247233f981a4"
      },
      "outputs": [
        {
          "data": {
            "text/plain": [
              "14266.029326923079"
            ]
          },
          "execution_count": 89,
          "metadata": {},
          "output_type": "execute_result"
        }
      ],
      "source": [
        "abs(clients_benefit['company_loss'].sum() / len(clients_benefit))"
      ]
    },
    {
      "cell_type": "markdown",
      "metadata": {
        "id": "GbQ2cIkN9Ui7"
      },
      "source": [
        "Также, для смягчения потерь, можно предложить оформить переход на другой тариф за определенную плату. Если предложить сумму в 14300, то компания будет даже в плюсе от такого"
      ]
    },
    {
      "cell_type": "markdown",
      "metadata": {
        "id": "TereUXI-9Ui7"
      },
      "source": [
        "Но если все равно этого недостаточно, чтобы предпринять такой серьезный шаг, рассмотрим еще один вариант - предложить перейти не всем клиентам, а той группе, в которой находится большинство - то есть предложить перейти только тем, кому выгодно подняться на один тариф \"выше\""
      ]
    },
    {
      "cell_type": "code",
      "execution_count": null,
      "metadata": {
        "id": "nG_nGpU69Ui7"
      },
      "outputs": [],
      "source": [
        "company_loss = monthly_payment['alt_monthly_check'] - monthly_payment['monthly_check']"
      ]
    },
    {
      "cell_type": "code",
      "execution_count": null,
      "metadata": {
        "id": "zQbh0B7O9Ui7",
        "outputId": "90ebcf73-0483-47dd-882c-9009eefbce43"
      },
      "outputs": [
        {
          "data": {
            "text/plain": [
              "2117197.0999999996"
            ]
          },
          "execution_count": 91,
          "metadata": {},
          "output_type": "execute_result"
        }
      ],
      "source": [
        "abs(company_loss[company_loss<0].sum())"
      ]
    },
    {
      "cell_type": "markdown",
      "metadata": {
        "id": "K4CNSQD29Ui7"
      },
      "source": [
        "В таком случае компания потеряет лишь __2.1 млн рублей__ в среднем за месяц"
      ]
    },
    {
      "cell_type": "markdown",
      "metadata": {
        "id": "siQFO3vA9Ui7"
      },
      "source": [
        "### Выводы по разделу 3"
      ]
    },
    {
      "cell_type": "markdown",
      "metadata": {
        "id": "HlXXG-Tq9Ui7"
      },
      "source": [
        "Провели исследовательский анализ данных. Ответили на основные вопросы исследования, а также на некоторые дополнительные, которые могли появиться, при взгляде на данные:\n",
        " - По распределению клиентов по тарифным планам видим явное лидирование тарифа С, так как он самый дешевый. Тариф А находится в явном меньшинстве, что тоже достаточно объяснимо, так как он самый дорогой\n",
        " - Клиенты тарифов С звонят чаще и больше, чем даже клиенты на тарифе А. Это как раз может служить одним из факторов того, что они используют невыгодный для них тариф\n",
        " - Создали таблицу по пользователям, а также рассмотрели, как искать активных клиентов. Решением стало отделить нижний, 25-ый перцентиль. Это все клиенты, которые за месяц имели меньше 16 звонков\n",
        " - Также посмотрели на то, какому количеству пользователей было бы выгодно остаться, а каким переключиться. Оказалось, что:\n",
        "   - Лишь __18% клиентов__ выгодно __Остаться на текущем тарифе__\n",
        "   - Большинству клиентов (__45%__) выгодно __Перейти на тариф \"выше\"__\n",
        "   - Оставшемуся количеству клиентов (__37%__) выгодно __Перейти на два тарифа \"выше\"__\n",
        " - А также пришли к выводу, что складывается такая ситуация, что если мы не предложим клиентам перейти на другой тариф, то __82%!__ клиентов у нас используют свои тарифы __невыгодно__\n",
        " - Создали итоговую таблицу, в которой мы можем найти идентификаторы всех клиентов, кому можно предложить переход и показали выгоду для каждого конкретного клиента\n",
        " - Затем рассчитали затраты компании в случае, если __каждый клиент__ перейдет на выгодный для него тариф - около __3 млн рублей__ в среднем за месяц\n",
        " - Были предложены варианты уменьшения этой суммы:\n",
        "   - Оформлять переход за плату. При цене выше, чем 143000 руб., компания будет __в плюсе__\n",
        "   - Предложить оформить переход только клиентам из самой популярной группы. В таком случае потери компании составят около __2.1 млн рублей__, но также для некоторых клиентов это __будет не самым выгодным предложением для них__"
      ]
    },
    {
      "cell_type": "markdown",
      "metadata": {
        "id": "Re8gc-Y69Ui8"
      },
      "source": [
        "## Статистический анализ"
      ]
    },
    {
      "cell_type": "markdown",
      "metadata": {
        "id": "0pLQDV1M9Ui8"
      },
      "source": [
        "### Проверка гиптоез"
      ]
    },
    {
      "cell_type": "markdown",
      "metadata": {
        "id": "yxZRyfjP9Ui8"
      },
      "source": [
        "#### Гипотеза о среднем месячном чеке"
      ]
    },
    {
      "cell_type": "markdown",
      "metadata": {
        "id": "L60soMXe9Ui8"
      },
      "source": [
        "$H_0$ Средний месячный чек клиента тарифа А и клиента тарифа B не имеет статистически значимых отличий\n",
        "\n",
        "$H_1$ Средний месячный чек клиента тарифа А отличается от клиента тарифа B"
      ]
    },
    {
      "cell_type": "markdown",
      "metadata": {
        "id": "gy2zaSwO9Ui8"
      },
      "source": [
        "Для проверки этой гипотезы хорошо подходит независимый t-test. Но для его проведения нужно посмотреть, как распределены данные.\n",
        "Есть два способа, чтобы понять, распределены ли данные нормально: графический и нумерическийю Воспользуемся обоими. Сначала объединим наши данные"
      ]
    },
    {
      "cell_type": "code",
      "execution_count": null,
      "metadata": {
        "id": "74hdKNaD9Ui8"
      },
      "outputs": [],
      "source": [
        "data_A = monthly_payment[monthly_payment['tariff_plan'] == 'A']['monthly_check']\n",
        "data_B = monthly_payment[monthly_payment['tariff_plan'] == 'B']['monthly_check']"
      ]
    },
    {
      "cell_type": "markdown",
      "metadata": {
        "id": "Y07Bb27M9Ui8"
      },
      "source": [
        "__Первый способ - Q-plot__"
      ]
    },
    {
      "cell_type": "markdown",
      "metadata": {
        "id": "suPQ1UmM9Ui8"
      },
      "source": [
        "Позволяет наглядно сравнить график с нормальным распределением"
      ]
    },
    {
      "cell_type": "code",
      "execution_count": null,
      "metadata": {
        "id": "LKeVP9Qy9Ui8",
        "outputId": "8b785255-e899-4c6c-d11a-2cfd059cc4dd"
      },
      "outputs": [
        {
          "data": {
            "image/png": "[encoded data removed]",
            "text/plain": [
              "<Figure size 1080x360 with 1 Axes>"
            ]
          },
          "metadata": {
            "needs_background": "light"
          },
          "output_type": "display_data"
        },
        {
          "data": {
            "image/png": "[encoded data removed]",
            "text/plain": [
              "<Figure size 1080x360 with 1 Axes>"
            ]
          },
          "metadata": {
            "needs_background": "light"
          },
          "output_type": "display_data"
        }
      ],
      "source": [
        "stats.probplot(monthly_payment[monthly_payment['tariff_plan'] == 'A']['monthly_check'], dist=\"norm\", plot=plt)\n",
        "plt.title(\"Q-Q plot для тарифа A\")\n",
        "plt.show()\n",
        "stats.probplot(monthly_payment[monthly_payment['tariff_plan'] == 'B']['monthly_check'], dist=\"norm\", plot=plt)\n",
        "plt.title(\"Q-Q plot для тарифа B\")\n",
        "plt.show()"
      ]
    },
    {
      "cell_type": "markdown",
      "metadata": {
        "id": "IKnO6v0h9Ui9"
      },
      "source": [
        "Видим, что распределение достаточно далеко от того, какое на нужно. Также еще проверим на цифрах:"
      ]
    },
    {
      "cell_type": "markdown",
      "metadata": {
        "id": "o6RhU_Aj9Ui9"
      },
      "source": [
        "__Второй способ - Тест Шапиро-Уилка__"
      ]
    },
    {
      "cell_type": "markdown",
      "metadata": {
        "id": "qLmVP-9X9Ui9"
      },
      "source": [
        "Тест Шапиро-Уилка хорошо покажет отклонение от нормального распределения. p-value, полученное в ходе теста должно быть больше 0.05"
      ]
    },
    {
      "cell_type": "code",
      "execution_count": null,
      "metadata": {
        "id": "m5xgWA9S9Ui9",
        "outputId": "22c0525b-78f8-4d39-fea1-d53091f2e2ed"
      },
      "outputs": [
        {
          "name": "stdout",
          "output_type": "stream",
          "text": [
            "Тест Шапиро-Уилка для тарифа A: p-значение = 3.6542289194585464e-07\n"
          ]
        }
      ],
      "source": [
        "stat_A, p_A = stats.shapiro(data_A)\n",
        "print(f'Тест Шапиро-Уилка для тарифа A: p-значение = {p_A}')"
      ]
    },
    {
      "cell_type": "code",
      "execution_count": null,
      "metadata": {
        "id": "EHY6V0E49Ui9",
        "outputId": "b6875be9-f24a-4f28-fdba-675b746194bf"
      },
      "outputs": [
        {
          "name": "stdout",
          "output_type": "stream",
          "text": [
            "Тест Шапиро-Уилка для тарифа B: p-значение = 3.2912756043777455e-14\n"
          ]
        }
      ],
      "source": [
        "stat_B, p_B = stats.shapiro(data_B)\n",
        "print(f'Тест Шапиро-Уилка для тарифа B: p-значение = {p_B}')"
      ]
    },
    {
      "cell_type": "markdown",
      "metadata": {
        "id": "qBSbyQKH9Ui9"
      },
      "source": [
        "Получается, что данные действительно далеки от нормального распределения. Значит мы отказываемся от t-test. Он тут не подойдет. Будем использовать тест Манна-Уитни, он не зависит от распределения:"
      ]
    },
    {
      "cell_type": "code",
      "execution_count": null,
      "metadata": {
        "id": "qmhr_b069Ui9",
        "outputId": "595ede7e-e487-4e1a-9036-bf57c1d6d172"
      },
      "outputs": [
        {
          "name": "stdout",
          "output_type": "stream",
          "text": [
            "Тест Манна-Уитни: p-значение = 0.40572976351312895\n",
            "Нет статистически значимых различий между тарифами A и B.\n"
          ]
        }
      ],
      "source": [
        "stat, p = mannwhitneyu(data_A, data_B)\n",
        "\n",
        "print(f'Тест Манна-Уитни: p-значение = {p}')\n",
        "\n",
        "if p > 0.05:\n",
        "    print(\"Нет статистически значимых различий между тарифами A и B.\")\n",
        "else:\n",
        "    print(\"Есть статистически значимые различия между тарифами A и B.\")"
      ]
    },
    {
      "cell_type": "markdown",
      "metadata": {
        "id": "vH5fqjoh9Ui-"
      },
      "source": [
        "Не смогли статистически доказать различия в средних чеках. С большой вероятностью клиенты тарифа А в среднем платят столько же, сколько и клиенты тарифа B"
      ]
    },
    {
      "cell_type": "markdown",
      "metadata": {
        "id": "48KOdxCf9Ui-"
      },
      "source": [
        "#### Гипотеза о количестве звонков"
      ]
    },
    {
      "cell_type": "markdown",
      "metadata": {
        "id": "DhqU-8B-9Ui-"
      },
      "source": [
        "$H_0$ - Отличия в продолжительности звонков у клиента тарифного плана С и клиента тарифного плана B статистически не значимы\n",
        "\n",
        "$H_1$ - Средняя продолжительность звонков у клиента тарифного плана С меньше, чем у клиента тарифного плана B"
      ]
    },
    {
      "cell_type": "markdown",
      "metadata": {
        "id": "KNhCKgn89Ui-"
      },
      "source": [
        "Проделаем те же действия. Посмотрим на распределение. Здесь будем использовать первую таблицу, полученную из двух датафреймов, так как в таблице monthly_payment только два месяца"
      ]
    },
    {
      "cell_type": "code",
      "execution_count": null,
      "metadata": {
        "id": "qML0M3249Ui-"
      },
      "outputs": [],
      "source": [
        "table_for_viz = df.groupby('user_id').agg({'tariff_plan' : 'last', 'calls_count' : 'sum'})"
      ]
    },
    {
      "cell_type": "code",
      "execution_count": null,
      "metadata": {
        "id": "6RY7AqjK9Ui-"
      },
      "outputs": [],
      "source": [
        "data_B = table_for_viz[table_for_viz['tariff_plan'] == 'B']['calls_count']\n",
        "data_C = table_for_viz[table_for_viz['tariff_plan'] == 'C']['calls_count']"
      ]
    },
    {
      "cell_type": "code",
      "execution_count": null,
      "metadata": {
        "id": "I8B9fSSc9Ui-",
        "outputId": "c04edcac-8082-416a-e7e6-c8cbfc4dabda"
      },
      "outputs": [
        {
          "data": {
            "image/png": "[encoded data removed]",
            "text/plain": [
              "<Figure size 1080x360 with 1 Axes>"
            ]
          },
          "metadata": {
            "needs_background": "light"
          },
          "output_type": "display_data"
        },
        {
          "data": {
            "image/png": "[encoded data removed]",
            "text/plain": [
              "<Figure size 1080x360 with 1 Axes>"
            ]
          },
          "metadata": {
            "needs_background": "light"
          },
          "output_type": "display_data"
        }
      ],
      "source": [
        "stats.probplot(data_B, dist=\"norm\", plot=plt)\n",
        "plt.title(\"Q-Q plot для тарифа B\")\n",
        "plt.show()\n",
        "stats.probplot(data_C, dist=\"norm\", plot=plt)\n",
        "plt.title(\"Q-Q plot для тарифа C\")\n",
        "plt.show()"
      ]
    },
    {
      "cell_type": "code",
      "execution_count": null,
      "metadata": {
        "id": "_opQ_AX89Ui-",
        "outputId": "f654e066-c54a-4721-cddf-e6b98d59bbaf"
      },
      "outputs": [
        {
          "name": "stdout",
          "output_type": "stream",
          "text": [
            "Тест Шапиро-Уилка для тарифа A: p-значение = 2.8897947775767107e-15\n"
          ]
        }
      ],
      "source": [
        "stat_B, p_B = stats.shapiro(data_B)\n",
        "print(f'Тест Шапиро-Уилка для тарифа A: p-значение = {p_B}')"
      ]
    },
    {
      "cell_type": "code",
      "execution_count": null,
      "metadata": {
        "id": "UQGuCmxV9Ui_",
        "outputId": "67684d1a-a810-4f0a-be4c-9bd4a71aa160"
      },
      "outputs": [
        {
          "name": "stdout",
          "output_type": "stream",
          "text": [
            "Тест Шапиро-Уилка для тарифа B: p-значение = 3.866401479964253e-20\n"
          ]
        }
      ],
      "source": [
        "stat_C, p_C = stats.shapiro(data_C)\n",
        "print(f'Тест Шапиро-Уилка для тарифа B: p-значение = {p_C}')"
      ]
    },
    {
      "cell_type": "markdown",
      "metadata": {
        "id": "eNXC77vc9Ui_"
      },
      "source": [
        "Опять не можем использовать t-test. Ну что ж, значит снова Манна-Уитни:"
      ]
    },
    {
      "cell_type": "code",
      "execution_count": null,
      "metadata": {
        "id": "vJsSdS-i9Ui_",
        "outputId": "cd716ba6-75c5-4190-d0fe-47c097e14313"
      },
      "outputs": [
        {
          "name": "stdout",
          "output_type": "stream",
          "text": [
            "Тест Манна-Уитни: p-значение = 0.048870414619598734\n",
            "Есть статистически значимые различия между тарифами B и C.\n"
          ]
        }
      ],
      "source": [
        "stat, p = mannwhitneyu(data_C, data_B, alternative='less')\n",
        "\n",
        "print(f'Тест Манна-Уитни: p-значение = {p}')\n",
        "\n",
        "if p > 0.05:\n",
        "    print(\"Нет статистически значимых различий между тарифами B и C.\")\n",
        "else:\n",
        "    print(\"Есть статистически значимые различия между тарифами B и C.\")"
      ]
    },
    {
      "cell_type": "markdown",
      "metadata": {
        "id": "EI0wt4lV9Ui_"
      },
      "source": [
        "Результат вышел близкий. Если бы мы поставил другое aplha, например, 0.01, то уже был бы другой ответ. Все же есть статистическая разница между количеством звонков тарифа B и С, а именно: длительность звонка клиента Тарифа С в среднем меньше, чем клиента тарифа В."
      ]
    },
    {
      "cell_type": "markdown",
      "metadata": {
        "id": "KKaH2XGo9Ui_"
      },
      "source": [
        "### Выводы по разделу 4"
      ]
    },
    {
      "cell_type": "markdown",
      "metadata": {
        "id": "KQhRSb0w9Ui_"
      },
      "source": [
        "Провели статистические тесты для того, чтобы ответить на гипотезы:\n",
        " - Не смогли отвергнуть гипотезу о том, что средний чек клиента тарифа А равен среднему чеку клиента тарифа В. С большой долей вероятности, они действительно равны.\n",
        " - Отвергли гипотезу о том, что средняя продолжительность звонков клиентов тарифа В и клиентов тарифа С одинаковая. Отвергли в пользу клиентов тарифа В - у них средняя продолжительность __больше__"
      ]
    },
    {
      "cell_type": "markdown",
      "metadata": {
        "id": "JF-97D-U9UjA"
      },
      "source": [
        "## Общий вывод:"
      ]
    },
    {
      "cell_type": "markdown",
      "metadata": {
        "id": "ZousWt2a9UjC"
      },
      "source": [
        "### Вывод:"
      ]
    },
    {
      "cell_type": "markdown",
      "metadata": {
        "id": "JGffpCf89UjD"
      },
      "source": [
        " - __1. Подготовка датафреймов :__ Импортировали нужные библиотеки, создали 2 DataFrame из csv файлов. В первый раз посмотрели на данные\n",
        " - __2. Предобработка данных :__ Данные оказались непростыми с точки зрения предобработки. Пришлось потратить много усилий, чтобы собрать информацию, которая не навредит исследования и пригодна для анализа. В ходе самой предобработки:\n",
        "   - Привели данные к правильным типам\n",
        "   - Удалили явные дубликаты, посмотрели на неявные, не обнаружили их\n",
        "   - Разобрались с пропусками\n",
        "   - Провели большую работу над аномальными значениями. Пришлось отбросить около 25% данных, но они лишь навредили бы исследованию\n",
        "   - Создали общую таблицу из исходных датафреймов\n",
        " - __3. Исследовательский анализ :__ Ответили на основные вопросы исследования, а также на некоторые дополнительные, которые могли появиться, при взгляде на данные:\n",
        "   - По распределению клиентов по тарифным планам видим явное лидирование тарифа С, так как он самый дешевый. Тариф А находится в явном меньшинстве, что тоже достаточно объяснимо, так как он самый дорогой\n",
        "   - Клиенты тарифов С звонят чаще и больше, чем даже клиенты на тарифе А. Это как раз может служить одним из факторов того, что они используют невыгодный для них тариф\n",
        "   - Создали таблицу по пользователям, а также рассмотрели, как искать активных клиентов. Решением стало отделить нижний, 25-ый перцентиль. Это все клиенты, которые за месяц имели меньше 16 звонков\n",
        "   - Также посмотрели на то, какому количеству пользователей было бы выгодно остаться, а каким переключиться. Оказалось, что:\n",
        "     - Лишь __18% клиентов__ выгодно __Остаться на текущем тарифе__\n",
        "     - Большинству клиентов (__45%__) выгодно __Перейти на тариф \"выше\"__\n",
        "     - Оставшемуся количеству клиентов (__37%__) выгодно __Перейти на два тарифа \"выше\"__\n",
        "   - А также пришли к выводу, что складывается такая ситуация, что если мы не предложим клиентам перейти на другой тариф, то __82%!__ клиентов у нас используют свои тарифы __невыгодно__\n",
        "   - Создали итоговую таблицу, в которой мы можем найти идентификаторы всех клиентов, кому можно предложить переход и показали выгоду для каждого конкретного клиента\n",
        "   - Затем рассчитали затраты компании в случае, если __каждый клиент__ перейдет на выгодный для него тариф - около __3 млн рублей__ в среднем за месяц\n",
        "   - Были предложены варианты уменьшения этой суммы:\n",
        "     - Оформлять переход за плату. При цене выше, чем 143000 руб., компания будет __в плюсе__\n",
        "     - Предложить оформить переход только клиентам из самой популярной группы. В таком случае потери компании составят около __2.1 млн рублей__, но также для некоторых клиентов это __будет не самым выгодным предложением для них__\n",
        " - __4. Статистический анализ :__ Рассмотрели две гипотезы. Пришли к следующим результатам:\n",
        "   - Не смогли отвергнуть гипотезу о том, что средний чек клиента тарифа А равен среднему чеку клиента тарифа В. С большой долей вероятности, они действительно равны.\n",
        "   - Отвергли гипотезу о том, что средняя продолжительность звонков клиентов тарифа В и клиентов тарифа С одинаковая. Отвергли в пользу клиентов тарифа В - у них средняя продолжительность __больше__\n",
        " - __5. Общие выводы и рекомендации по итогу анализа :__\n",
        "   - Проблема неэффективности использования тарифных планов действительно стоит остро и с этим нужно что-то делать\n",
        "   - Можно использовать предложенные варианты, а также просто предложить всем клиентам перейти на более выгодный тариф без \"смягчения\" затрат. Если рассматривать альтернативную ситуацию, в которой все \"неэффективные\" клиенты от нас уйдут, то потери не сильно велики и окупаются буквально за месяц\n",
        "   - Невозможность отвержения первой гипотезы говорит о том, что параметры тарифов хорошо настроены, что не стоит пытаться менять значения, по которым считается месячный чек"
      ]
    },
    {
      "cell_type": "markdown",
      "metadata": {
        "id": "0pZz5MQH9UjD"
      },
      "source": [
        "## Презентация для заказчика"
      ]
    },
    {
      "cell_type": "markdown",
      "metadata": {
        "id": "jO5vr5Zn9UjD"
      },
      "source": [
        "Ссылка на презентацию [ТЫК](https://docs.google.com/presentation/d/1tNuDdQ7TnXAk--S6Ejf0Tn4_S-dnKQPkevbEYquem38/edit?usp=sharing)"
      ]
    },
    {
      "cell_type": "code",
      "execution_count": null,
      "metadata": {
        "id": "e_3K1jgP9UjD"
      },
      "outputs": [],
      "source": []
    }
  ],
  "metadata": {
    "ExecuteTimeLog": [
      {
        "duration": 1237,
        "start_time": "2024-10-21T08:00:06.148Z"
      },
      {
        "duration": 73,
        "start_time": "2024-10-21T08:00:07.387Z"
      },
      {
        "duration": 348,
        "start_time": "2024-10-21T08:00:07.462Z"
      },
      {
        "duration": 810,
        "start_time": "2024-10-21T08:00:07.811Z"
      },
      {
        "duration": 4,
        "start_time": "2024-10-21T08:00:08.624Z"
      },
      {
        "duration": 155,
        "start_time": "2024-10-21T08:00:08.629Z"
      },
      {
        "duration": 7,
        "start_time": "2024-10-21T08:00:08.786Z"
      },
      {
        "duration": 31,
        "start_time": "2024-10-21T08:00:08.794Z"
      },
      {
        "duration": 16,
        "start_time": "2024-10-21T08:00:08.826Z"
      },
      {
        "duration": 7,
        "start_time": "2024-10-21T08:00:08.843Z"
      },
      {
        "duration": 36,
        "start_time": "2024-10-21T08:00:08.851Z"
      },
      {
        "duration": 28,
        "start_time": "2024-10-21T08:00:08.889Z"
      },
      {
        "duration": 4,
        "start_time": "2024-10-21T08:00:08.919Z"
      },
      {
        "duration": 130,
        "start_time": "2024-10-21T08:00:08.926Z"
      },
      {
        "duration": 7,
        "start_time": "2024-10-21T08:00:09.058Z"
      },
      {
        "duration": 42,
        "start_time": "2024-10-21T08:00:09.066Z"
      },
      {
        "duration": 17,
        "start_time": "2024-10-21T08:00:09.109Z"
      },
      {
        "duration": 107,
        "start_time": "2024-10-21T08:00:09.128Z"
      },
      {
        "duration": 7,
        "start_time": "2024-10-21T08:00:09.237Z"
      },
      {
        "duration": 186,
        "start_time": "2024-10-21T08:00:09.246Z"
      },
      {
        "duration": 5,
        "start_time": "2024-10-21T08:00:09.433Z"
      },
      {
        "duration": 90,
        "start_time": "2024-10-21T08:00:09.439Z"
      },
      {
        "duration": 8,
        "start_time": "2024-10-21T08:00:09.530Z"
      },
      {
        "duration": 40,
        "start_time": "2024-10-21T08:00:09.539Z"
      },
      {
        "duration": 28,
        "start_time": "2024-10-21T08:00:09.581Z"
      },
      {
        "duration": 3,
        "start_time": "2024-10-21T08:00:09.610Z"
      },
      {
        "duration": 2556,
        "start_time": "2024-10-21T08:00:09.614Z"
      },
      {
        "duration": 9,
        "start_time": "2024-10-21T08:00:12.172Z"
      },
      {
        "duration": 21,
        "start_time": "2024-10-21T08:00:12.183Z"
      },
      {
        "duration": 96,
        "start_time": "2024-10-21T08:00:12.205Z"
      },
      {
        "duration": 399,
        "start_time": "2024-10-21T08:00:12.302Z"
      },
      {
        "duration": 541,
        "start_time": "2024-10-21T08:00:12.703Z"
      },
      {
        "duration": 25,
        "start_time": "2024-10-21T08:00:13.245Z"
      },
      {
        "duration": 12,
        "start_time": "2024-10-21T08:00:13.271Z"
      },
      {
        "duration": 26,
        "start_time": "2024-10-21T08:00:13.285Z"
      },
      {
        "duration": 14,
        "start_time": "2024-10-21T08:00:13.312Z"
      },
      {
        "duration": 158,
        "start_time": "2024-10-21T08:00:13.327Z"
      },
      {
        "duration": 5,
        "start_time": "2024-10-21T08:00:13.487Z"
      },
      {
        "duration": 21,
        "start_time": "2024-10-21T08:00:13.507Z"
      },
      {
        "duration": 57,
        "start_time": "2024-10-21T08:00:13.529Z"
      },
      {
        "duration": 68,
        "start_time": "2024-10-21T08:00:13.591Z"
      },
      {
        "duration": 148,
        "start_time": "2024-10-21T08:00:13.661Z"
      },
      {
        "duration": 34,
        "start_time": "2024-10-21T08:00:13.811Z"
      },
      {
        "duration": 52,
        "start_time": "2024-10-21T08:00:13.846Z"
      },
      {
        "duration": 72,
        "start_time": "2024-10-21T08:00:13.900Z"
      },
      {
        "duration": 41,
        "start_time": "2024-10-21T08:00:13.973Z"
      },
      {
        "duration": 53,
        "start_time": "2024-10-21T08:00:14.016Z"
      },
      {
        "duration": 71,
        "start_time": "2024-10-21T08:00:14.070Z"
      },
      {
        "duration": 37,
        "start_time": "2024-10-21T08:00:14.142Z"
      },
      {
        "duration": 37,
        "start_time": "2024-10-21T08:00:14.180Z"
      },
      {
        "duration": 43,
        "start_time": "2024-10-21T08:00:14.218Z"
      },
      {
        "duration": 63,
        "start_time": "2024-10-21T08:00:14.263Z"
      },
      {
        "duration": 46,
        "start_time": "2024-10-21T08:00:14.328Z"
      },
      {
        "duration": 642,
        "start_time": "2024-10-21T08:00:14.376Z"
      },
      {
        "duration": 6,
        "start_time": "2024-10-21T08:00:15.020Z"
      },
      {
        "duration": 78,
        "start_time": "2024-10-21T08:00:15.028Z"
      },
      {
        "duration": 72,
        "start_time": "2024-10-21T08:00:15.107Z"
      },
      {
        "duration": 93,
        "start_time": "2024-10-21T08:00:15.180Z"
      },
      {
        "duration": 107,
        "start_time": "2024-10-21T08:00:15.274Z"
      },
      {
        "duration": 67,
        "start_time": "2024-10-21T08:00:15.382Z"
      },
      {
        "duration": 73,
        "start_time": "2024-10-21T08:00:15.450Z"
      },
      {
        "duration": 60,
        "start_time": "2024-10-21T08:00:15.524Z"
      },
      {
        "duration": 88,
        "start_time": "2024-10-21T08:00:15.586Z"
      },
      {
        "duration": 104,
        "start_time": "2024-10-21T08:00:15.675Z"
      },
      {
        "duration": 1040,
        "start_time": "2024-10-21T08:36:20.725Z"
      },
      {
        "duration": 59,
        "start_time": "2024-10-21T08:36:21.766Z"
      },
      {
        "duration": 307,
        "start_time": "2024-10-21T08:36:21.826Z"
      },
      {
        "duration": 795,
        "start_time": "2024-10-21T08:36:22.135Z"
      },
      {
        "duration": 4,
        "start_time": "2024-10-21T08:36:22.933Z"
      },
      {
        "duration": 19,
        "start_time": "2024-10-21T08:36:22.938Z"
      },
      {
        "duration": 6,
        "start_time": "2024-10-21T08:36:22.958Z"
      },
      {
        "duration": 26,
        "start_time": "2024-10-21T08:36:22.965Z"
      },
      {
        "duration": 21,
        "start_time": "2024-10-21T08:36:22.992Z"
      },
      {
        "duration": 6,
        "start_time": "2024-10-21T08:36:23.014Z"
      },
      {
        "duration": 23,
        "start_time": "2024-10-21T08:36:23.022Z"
      },
      {
        "duration": 17,
        "start_time": "2024-10-21T08:36:23.046Z"
      },
      {
        "duration": 31,
        "start_time": "2024-10-21T08:36:23.065Z"
      },
      {
        "duration": 140,
        "start_time": "2024-10-21T08:36:23.098Z"
      },
      {
        "duration": 7,
        "start_time": "2024-10-21T08:36:23.239Z"
      },
      {
        "duration": 58,
        "start_time": "2024-10-21T08:36:23.247Z"
      },
      {
        "duration": 5,
        "start_time": "2024-10-21T08:36:23.307Z"
      },
      {
        "duration": 112,
        "start_time": "2024-10-21T08:36:23.314Z"
      },
      {
        "duration": 6,
        "start_time": "2024-10-21T08:36:23.427Z"
      },
      {
        "duration": 12,
        "start_time": "2024-10-21T08:36:23.434Z"
      },
      {
        "duration": 6,
        "start_time": "2024-10-21T08:36:23.447Z"
      },
      {
        "duration": 114,
        "start_time": "2024-10-21T08:36:23.454Z"
      },
      {
        "duration": 9,
        "start_time": "2024-10-21T08:36:23.569Z"
      },
      {
        "duration": 13,
        "start_time": "2024-10-21T08:36:23.579Z"
      },
      {
        "duration": 31,
        "start_time": "2024-10-21T08:36:23.593Z"
      },
      {
        "duration": 2,
        "start_time": "2024-10-21T08:36:23.625Z"
      },
      {
        "duration": 2490,
        "start_time": "2024-10-21T08:36:23.629Z"
      },
      {
        "duration": 10,
        "start_time": "2024-10-21T08:36:26.120Z"
      },
      {
        "duration": 39,
        "start_time": "2024-10-21T08:36:26.131Z"
      },
      {
        "duration": 113,
        "start_time": "2024-10-21T08:36:26.171Z"
      },
      {
        "duration": 350,
        "start_time": "2024-10-21T08:36:26.285Z"
      },
      {
        "duration": 416,
        "start_time": "2024-10-21T08:36:26.636Z"
      },
      {
        "duration": 18,
        "start_time": "2024-10-21T08:36:27.054Z"
      },
      {
        "duration": 16,
        "start_time": "2024-10-21T08:36:27.073Z"
      },
      {
        "duration": 28,
        "start_time": "2024-10-21T08:36:27.090Z"
      },
      {
        "duration": 6,
        "start_time": "2024-10-21T08:36:27.119Z"
      },
      {
        "duration": 133,
        "start_time": "2024-10-21T08:36:27.127Z"
      },
      {
        "duration": 4,
        "start_time": "2024-10-21T08:36:27.262Z"
      },
      {
        "duration": 6,
        "start_time": "2024-10-21T08:36:27.268Z"
      },
      {
        "duration": 6,
        "start_time": "2024-10-21T08:36:27.276Z"
      },
      {
        "duration": 21,
        "start_time": "2024-10-21T08:36:27.286Z"
      },
      {
        "duration": 25,
        "start_time": "2024-10-21T08:36:27.309Z"
      },
      {
        "duration": 3,
        "start_time": "2024-10-21T08:36:27.335Z"
      },
      {
        "duration": 15,
        "start_time": "2024-10-21T08:36:27.339Z"
      },
      {
        "duration": 27,
        "start_time": "2024-10-21T08:36:27.355Z"
      },
      {
        "duration": 12,
        "start_time": "2024-10-21T08:36:27.383Z"
      },
      {
        "duration": 152,
        "start_time": "2024-10-21T08:36:27.396Z"
      },
      {
        "duration": 51,
        "start_time": "2024-10-21T08:36:27.550Z"
      },
      {
        "duration": 25,
        "start_time": "2024-10-21T08:36:27.603Z"
      },
      {
        "duration": 14,
        "start_time": "2024-10-21T08:36:27.629Z"
      },
      {
        "duration": 23,
        "start_time": "2024-10-21T08:36:27.645Z"
      },
      {
        "duration": 18,
        "start_time": "2024-10-21T08:36:27.669Z"
      },
      {
        "duration": 19,
        "start_time": "2024-10-21T08:36:27.688Z"
      },
      {
        "duration": 636,
        "start_time": "2024-10-21T08:36:27.708Z"
      },
      {
        "duration": 5,
        "start_time": "2024-10-21T08:36:28.345Z"
      },
      {
        "duration": 30,
        "start_time": "2024-10-21T08:36:28.351Z"
      },
      {
        "duration": 17,
        "start_time": "2024-10-21T08:36:28.382Z"
      },
      {
        "duration": 19,
        "start_time": "2024-10-21T08:36:28.400Z"
      },
      {
        "duration": 14,
        "start_time": "2024-10-21T08:36:28.420Z"
      },
      {
        "duration": 30,
        "start_time": "2024-10-21T08:36:28.435Z"
      },
      {
        "duration": 10,
        "start_time": "2024-10-21T08:36:28.466Z"
      },
      {
        "duration": 18,
        "start_time": "2024-10-21T08:36:28.477Z"
      },
      {
        "duration": 5,
        "start_time": "2024-10-21T08:36:28.496Z"
      },
      {
        "duration": 25,
        "start_time": "2024-10-21T08:36:28.502Z"
      },
      {
        "duration": 103,
        "start_time": "2024-10-21T08:37:51.743Z"
      },
      {
        "duration": 108,
        "start_time": "2024-10-21T08:37:55.084Z"
      },
      {
        "duration": 100,
        "start_time": "2024-10-21T08:37:57.959Z"
      },
      {
        "duration": 17,
        "start_time": "2024-10-21T08:43:15.462Z"
      },
      {
        "duration": 1060,
        "start_time": "2024-10-21T08:43:43.523Z"
      },
      {
        "duration": 72,
        "start_time": "2024-10-21T08:43:44.584Z"
      },
      {
        "duration": 319,
        "start_time": "2024-10-21T08:43:44.657Z"
      },
      {
        "duration": 823,
        "start_time": "2024-10-21T08:43:44.977Z"
      },
      {
        "duration": 7,
        "start_time": "2024-10-21T08:43:45.801Z"
      },
      {
        "duration": 19,
        "start_time": "2024-10-21T08:43:45.809Z"
      },
      {
        "duration": 69,
        "start_time": "2024-10-21T08:43:45.829Z"
      },
      {
        "duration": 16,
        "start_time": "2024-10-21T08:43:45.899Z"
      },
      {
        "duration": 6,
        "start_time": "2024-10-21T08:43:45.916Z"
      },
      {
        "duration": 85,
        "start_time": "2024-10-21T08:43:45.923Z"
      },
      {
        "duration": 12,
        "start_time": "2024-10-21T08:43:46.009Z"
      },
      {
        "duration": 5,
        "start_time": "2024-10-21T08:43:46.022Z"
      },
      {
        "duration": 124,
        "start_time": "2024-10-21T08:43:46.030Z"
      },
      {
        "duration": 8,
        "start_time": "2024-10-21T08:43:46.155Z"
      },
      {
        "duration": 26,
        "start_time": "2024-10-21T08:43:46.165Z"
      },
      {
        "duration": 5,
        "start_time": "2024-10-21T08:43:46.192Z"
      },
      {
        "duration": 119,
        "start_time": "2024-10-21T08:43:46.207Z"
      },
      {
        "duration": 6,
        "start_time": "2024-10-21T08:43:46.327Z"
      },
      {
        "duration": 9,
        "start_time": "2024-10-21T08:43:46.335Z"
      },
      {
        "duration": 7,
        "start_time": "2024-10-21T08:43:46.345Z"
      },
      {
        "duration": 132,
        "start_time": "2024-10-21T08:43:46.354Z"
      },
      {
        "duration": 9,
        "start_time": "2024-10-21T08:43:46.487Z"
      },
      {
        "duration": 11,
        "start_time": "2024-10-21T08:43:46.507Z"
      },
      {
        "duration": 19,
        "start_time": "2024-10-21T08:43:46.519Z"
      },
      {
        "duration": 2,
        "start_time": "2024-10-21T08:43:46.540Z"
      },
      {
        "duration": 2579,
        "start_time": "2024-10-21T08:43:46.543Z"
      },
      {
        "duration": 10,
        "start_time": "2024-10-21T08:43:49.123Z"
      },
      {
        "duration": 35,
        "start_time": "2024-10-21T08:43:49.134Z"
      },
      {
        "duration": 112,
        "start_time": "2024-10-21T08:43:49.171Z"
      },
      {
        "duration": 367,
        "start_time": "2024-10-21T08:43:49.285Z"
      },
      {
        "duration": 480,
        "start_time": "2024-10-21T08:43:49.653Z"
      },
      {
        "duration": 18,
        "start_time": "2024-10-21T08:43:50.135Z"
      },
      {
        "duration": 9,
        "start_time": "2024-10-21T08:43:50.154Z"
      },
      {
        "duration": 22,
        "start_time": "2024-10-21T08:43:50.164Z"
      },
      {
        "duration": 7,
        "start_time": "2024-10-21T08:43:50.187Z"
      },
      {
        "duration": 164,
        "start_time": "2024-10-21T08:43:50.195Z"
      },
      {
        "duration": 5,
        "start_time": "2024-10-21T08:43:50.360Z"
      },
      {
        "duration": 39,
        "start_time": "2024-10-21T08:43:50.366Z"
      },
      {
        "duration": 67,
        "start_time": "2024-10-21T08:43:50.406Z"
      },
      {
        "duration": 30,
        "start_time": "2024-10-21T08:43:50.476Z"
      },
      {
        "duration": 26,
        "start_time": "2024-10-21T08:43:50.507Z"
      },
      {
        "duration": 3,
        "start_time": "2024-10-21T08:43:50.534Z"
      },
      {
        "duration": 21,
        "start_time": "2024-10-21T08:43:50.538Z"
      },
      {
        "duration": 2,
        "start_time": "2024-10-21T08:43:50.560Z"
      },
      {
        "duration": 8,
        "start_time": "2024-10-21T08:43:50.564Z"
      },
      {
        "duration": 11,
        "start_time": "2024-10-21T08:43:50.573Z"
      },
      {
        "duration": 16,
        "start_time": "2024-10-21T08:43:50.585Z"
      },
      {
        "duration": 11,
        "start_time": "2024-10-21T08:43:50.603Z"
      },
      {
        "duration": 23,
        "start_time": "2024-10-21T08:43:50.615Z"
      },
      {
        "duration": 25,
        "start_time": "2024-10-21T08:43:50.640Z"
      },
      {
        "duration": 14,
        "start_time": "2024-10-21T08:43:50.666Z"
      },
      {
        "duration": 42,
        "start_time": "2024-10-21T08:43:50.681Z"
      },
      {
        "duration": 655,
        "start_time": "2024-10-21T08:43:50.725Z"
      },
      {
        "duration": 5,
        "start_time": "2024-10-21T08:43:51.382Z"
      },
      {
        "duration": 23,
        "start_time": "2024-10-21T08:43:51.388Z"
      },
      {
        "duration": 21,
        "start_time": "2024-10-21T08:43:51.413Z"
      },
      {
        "duration": 169,
        "start_time": "2024-10-21T08:43:51.436Z"
      },
      {
        "duration": 13,
        "start_time": "2024-10-21T08:43:51.606Z"
      },
      {
        "duration": 20,
        "start_time": "2024-10-21T08:43:51.621Z"
      },
      {
        "duration": 7,
        "start_time": "2024-10-21T08:43:51.642Z"
      },
      {
        "duration": 20,
        "start_time": "2024-10-21T08:43:51.650Z"
      },
      {
        "duration": 20,
        "start_time": "2024-10-21T08:43:51.671Z"
      },
      {
        "duration": 16,
        "start_time": "2024-10-21T08:43:51.693Z"
      },
      {
        "duration": 6,
        "start_time": "2024-10-21T08:46:35.472Z"
      },
      {
        "duration": 4,
        "start_time": "2024-10-21T08:49:11.724Z"
      },
      {
        "duration": 107,
        "start_time": "2024-10-21T08:49:20.153Z"
      },
      {
        "duration": 1089,
        "start_time": "2024-10-21T08:50:31.620Z"
      },
      {
        "duration": 68,
        "start_time": "2024-10-21T08:50:32.711Z"
      },
      {
        "duration": 549,
        "start_time": "2024-10-21T08:50:32.781Z"
      },
      {
        "duration": 816,
        "start_time": "2024-10-21T08:50:33.331Z"
      },
      {
        "duration": 5,
        "start_time": "2024-10-21T08:50:34.149Z"
      },
      {
        "duration": 25,
        "start_time": "2024-10-21T08:50:34.155Z"
      },
      {
        "duration": 46,
        "start_time": "2024-10-21T08:50:34.181Z"
      },
      {
        "duration": 15,
        "start_time": "2024-10-21T08:50:34.228Z"
      },
      {
        "duration": 10,
        "start_time": "2024-10-21T08:50:34.244Z"
      },
      {
        "duration": 42,
        "start_time": "2024-10-21T08:50:34.255Z"
      },
      {
        "duration": 15,
        "start_time": "2024-10-21T08:50:34.298Z"
      },
      {
        "duration": 13,
        "start_time": "2024-10-21T08:50:34.314Z"
      },
      {
        "duration": 15,
        "start_time": "2024-10-21T08:50:34.328Z"
      },
      {
        "duration": 142,
        "start_time": "2024-10-21T08:50:34.346Z"
      },
      {
        "duration": 7,
        "start_time": "2024-10-21T08:50:34.489Z"
      },
      {
        "duration": 15,
        "start_time": "2024-10-21T08:50:34.497Z"
      },
      {
        "duration": 4,
        "start_time": "2024-10-21T08:50:34.514Z"
      },
      {
        "duration": 112,
        "start_time": "2024-10-21T08:50:34.520Z"
      },
      {
        "duration": 6,
        "start_time": "2024-10-21T08:50:34.633Z"
      },
      {
        "duration": 41,
        "start_time": "2024-10-21T08:50:34.640Z"
      },
      {
        "duration": 38,
        "start_time": "2024-10-21T08:50:34.683Z"
      },
      {
        "duration": 157,
        "start_time": "2024-10-21T08:50:34.722Z"
      },
      {
        "duration": 80,
        "start_time": "2024-10-21T08:50:34.881Z"
      },
      {
        "duration": 45,
        "start_time": "2024-10-21T08:50:34.962Z"
      },
      {
        "duration": 31,
        "start_time": "2024-10-21T08:50:35.009Z"
      },
      {
        "duration": 9,
        "start_time": "2024-10-21T08:50:35.041Z"
      },
      {
        "duration": 2612,
        "start_time": "2024-10-21T08:50:35.052Z"
      },
      {
        "duration": 9,
        "start_time": "2024-10-21T08:50:37.666Z"
      },
      {
        "duration": 45,
        "start_time": "2024-10-21T08:50:37.676Z"
      },
      {
        "duration": 91,
        "start_time": "2024-10-21T08:50:37.722Z"
      },
      {
        "duration": 354,
        "start_time": "2024-10-21T08:50:37.815Z"
      },
      {
        "duration": 446,
        "start_time": "2024-10-21T08:50:38.170Z"
      },
      {
        "duration": 17,
        "start_time": "2024-10-21T08:50:38.617Z"
      },
      {
        "duration": 22,
        "start_time": "2024-10-21T08:50:38.635Z"
      },
      {
        "duration": 19,
        "start_time": "2024-10-21T08:50:38.658Z"
      },
      {
        "duration": 9,
        "start_time": "2024-10-21T08:50:38.678Z"
      },
      {
        "duration": 142,
        "start_time": "2024-10-21T08:50:38.688Z"
      },
      {
        "duration": 4,
        "start_time": "2024-10-21T08:50:38.832Z"
      },
      {
        "duration": 11,
        "start_time": "2024-10-21T08:50:38.838Z"
      },
      {
        "duration": 58,
        "start_time": "2024-10-21T08:50:38.850Z"
      },
      {
        "duration": 65,
        "start_time": "2024-10-21T08:50:38.911Z"
      },
      {
        "duration": 53,
        "start_time": "2024-10-21T08:50:38.978Z"
      },
      {
        "duration": 24,
        "start_time": "2024-10-21T08:50:39.032Z"
      },
      {
        "duration": 19,
        "start_time": "2024-10-21T08:50:39.057Z"
      },
      {
        "duration": 12,
        "start_time": "2024-10-21T08:50:39.077Z"
      },
      {
        "duration": 16,
        "start_time": "2024-10-21T08:50:39.090Z"
      },
      {
        "duration": 38,
        "start_time": "2024-10-21T08:50:39.107Z"
      },
      {
        "duration": 18,
        "start_time": "2024-10-21T08:50:39.147Z"
      },
      {
        "duration": 30,
        "start_time": "2024-10-21T08:50:39.167Z"
      },
      {
        "duration": 12,
        "start_time": "2024-10-21T08:50:39.199Z"
      },
      {
        "duration": 26,
        "start_time": "2024-10-21T08:50:39.212Z"
      },
      {
        "duration": 13,
        "start_time": "2024-10-21T08:50:39.240Z"
      },
      {
        "duration": 32,
        "start_time": "2024-10-21T08:50:39.254Z"
      },
      {
        "duration": 694,
        "start_time": "2024-10-21T08:50:39.288Z"
      },
      {
        "duration": 5,
        "start_time": "2024-10-21T08:50:39.984Z"
      },
      {
        "duration": 68,
        "start_time": "2024-10-21T08:50:39.990Z"
      },
      {
        "duration": 143,
        "start_time": "2024-10-21T08:50:40.059Z"
      },
      {
        "duration": 69,
        "start_time": "2024-10-21T08:50:40.203Z"
      },
      {
        "duration": 124,
        "start_time": "2024-10-21T08:50:40.274Z"
      },
      {
        "duration": 50,
        "start_time": "2024-10-21T08:50:40.399Z"
      },
      {
        "duration": 124,
        "start_time": "2024-10-21T08:50:40.451Z"
      },
      {
        "duration": 74,
        "start_time": "2024-10-21T08:50:40.576Z"
      },
      {
        "duration": 12,
        "start_time": "2024-10-21T08:50:40.652Z"
      },
      {
        "duration": 53,
        "start_time": "2024-10-21T08:50:40.665Z"
      },
      {
        "duration": 6,
        "start_time": "2024-10-21T08:52:08.422Z"
      },
      {
        "duration": 5,
        "start_time": "2024-10-21T08:52:18.875Z"
      },
      {
        "duration": 14,
        "start_time": "2024-10-21T08:55:18.441Z"
      },
      {
        "duration": 16,
        "start_time": "2024-10-21T08:57:15.030Z"
      },
      {
        "duration": 14,
        "start_time": "2024-10-21T08:58:01.559Z"
      },
      {
        "duration": 15,
        "start_time": "2024-10-21T08:59:49.600Z"
      },
      {
        "duration": 4,
        "start_time": "2024-10-21T09:03:22.150Z"
      },
      {
        "duration": 3,
        "start_time": "2024-10-21T09:03:30.184Z"
      },
      {
        "duration": 11,
        "start_time": "2024-10-21T09:03:32.798Z"
      },
      {
        "duration": 3,
        "start_time": "2024-10-21T09:03:40.022Z"
      },
      {
        "duration": 159,
        "start_time": "2024-10-21T09:03:40.026Z"
      },
      {
        "duration": 248,
        "start_time": "2024-10-21T09:03:40.187Z"
      },
      {
        "duration": 831,
        "start_time": "2024-10-21T09:03:40.437Z"
      },
      {
        "duration": 5,
        "start_time": "2024-10-21T09:03:41.270Z"
      },
      {
        "duration": 11,
        "start_time": "2024-10-21T09:03:41.277Z"
      },
      {
        "duration": 36,
        "start_time": "2024-10-21T09:03:41.289Z"
      },
      {
        "duration": 15,
        "start_time": "2024-10-21T09:03:41.326Z"
      },
      {
        "duration": 7,
        "start_time": "2024-10-21T09:03:41.343Z"
      },
      {
        "duration": 6,
        "start_time": "2024-10-21T09:03:41.352Z"
      },
      {
        "duration": 8,
        "start_time": "2024-10-21T09:03:41.359Z"
      },
      {
        "duration": 23,
        "start_time": "2024-10-21T09:03:41.368Z"
      },
      {
        "duration": 59,
        "start_time": "2024-10-21T09:03:41.407Z"
      },
      {
        "duration": 125,
        "start_time": "2024-10-21T09:03:41.467Z"
      },
      {
        "duration": 5,
        "start_time": "2024-10-21T09:03:41.594Z"
      },
      {
        "duration": 89,
        "start_time": "2024-10-21T09:03:41.600Z"
      },
      {
        "duration": 14,
        "start_time": "2024-10-21T09:03:41.690Z"
      },
      {
        "duration": 11,
        "start_time": "2024-10-21T09:03:41.706Z"
      },
      {
        "duration": 22,
        "start_time": "2024-10-21T09:03:41.719Z"
      },
      {
        "duration": 111,
        "start_time": "2024-10-21T09:03:41.743Z"
      },
      {
        "duration": 106,
        "start_time": "2024-10-21T09:03:41.855Z"
      },
      {
        "duration": 6,
        "start_time": "2024-10-21T09:03:41.962Z"
      },
      {
        "duration": 12,
        "start_time": "2024-10-21T09:03:41.969Z"
      },
      {
        "duration": 23,
        "start_time": "2024-10-21T09:03:41.984Z"
      },
      {
        "duration": 18,
        "start_time": "2024-10-21T09:03:42.008Z"
      },
      {
        "duration": 66,
        "start_time": "2024-10-21T09:03:42.027Z"
      },
      {
        "duration": 2407,
        "start_time": "2024-10-21T09:03:42.094Z"
      },
      {
        "duration": 12,
        "start_time": "2024-10-21T09:03:44.503Z"
      },
      {
        "duration": 20,
        "start_time": "2024-10-21T09:03:44.516Z"
      },
      {
        "duration": 109,
        "start_time": "2024-10-21T09:03:44.537Z"
      },
      {
        "duration": 349,
        "start_time": "2024-10-21T09:03:44.647Z"
      },
      {
        "duration": 406,
        "start_time": "2024-10-21T09:03:44.997Z"
      },
      {
        "duration": 18,
        "start_time": "2024-10-21T09:03:45.404Z"
      },
      {
        "duration": 248,
        "start_time": "2024-10-21T09:03:45.423Z"
      },
      {
        "duration": 190,
        "start_time": "2024-10-21T09:03:45.672Z"
      },
      {
        "duration": 103,
        "start_time": "2024-10-21T09:03:45.863Z"
      },
      {
        "duration": 177,
        "start_time": "2024-10-21T09:03:45.967Z"
      },
      {
        "duration": 4,
        "start_time": "2024-10-21T09:03:46.146Z"
      },
      {
        "duration": 4,
        "start_time": "2024-10-21T09:03:46.151Z"
      },
      {
        "duration": 15,
        "start_time": "2024-10-21T09:03:46.156Z"
      },
      {
        "duration": 20,
        "start_time": "2024-10-21T09:03:46.173Z"
      },
      {
        "duration": 40,
        "start_time": "2024-10-21T09:03:46.195Z"
      },
      {
        "duration": 3,
        "start_time": "2024-10-21T09:03:46.236Z"
      },
      {
        "duration": 22,
        "start_time": "2024-10-21T09:03:46.241Z"
      },
      {
        "duration": 16,
        "start_time": "2024-10-21T09:03:46.265Z"
      },
      {
        "duration": 6,
        "start_time": "2024-10-21T09:03:46.283Z"
      },
      {
        "duration": 10,
        "start_time": "2024-10-21T09:03:46.290Z"
      },
      {
        "duration": 46,
        "start_time": "2024-10-21T09:03:46.301Z"
      },
      {
        "duration": 19,
        "start_time": "2024-10-21T09:03:46.348Z"
      },
      {
        "duration": 12,
        "start_time": "2024-10-21T09:03:46.368Z"
      },
      {
        "duration": 48,
        "start_time": "2024-10-21T09:03:46.381Z"
      },
      {
        "duration": 21,
        "start_time": "2024-10-21T09:03:46.430Z"
      },
      {
        "duration": 29,
        "start_time": "2024-10-21T09:03:46.452Z"
      },
      {
        "duration": 595,
        "start_time": "2024-10-21T09:03:46.483Z"
      },
      {
        "duration": 5,
        "start_time": "2024-10-21T09:03:47.080Z"
      },
      {
        "duration": 139,
        "start_time": "2024-10-21T09:03:47.086Z"
      },
      {
        "duration": 32,
        "start_time": "2024-10-21T09:03:47.226Z"
      },
      {
        "duration": 24,
        "start_time": "2024-10-21T09:03:47.259Z"
      },
      {
        "duration": 31,
        "start_time": "2024-10-21T09:03:47.284Z"
      },
      {
        "duration": 32,
        "start_time": "2024-10-21T09:03:47.317Z"
      },
      {
        "duration": 38,
        "start_time": "2024-10-21T09:03:47.351Z"
      },
      {
        "duration": 277,
        "start_time": "2024-10-21T09:03:47.390Z"
      },
      {
        "duration": 26,
        "start_time": "2024-10-21T09:03:47.669Z"
      },
      {
        "duration": 18,
        "start_time": "2024-10-21T09:03:47.696Z"
      },
      {
        "duration": 11,
        "start_time": "2024-10-21T09:04:46.986Z"
      },
      {
        "duration": 4,
        "start_time": "2024-10-21T09:11:15.786Z"
      },
      {
        "duration": 8,
        "start_time": "2024-10-21T09:17:01.008Z"
      },
      {
        "duration": 136,
        "start_time": "2024-10-21T09:17:02.763Z"
      },
      {
        "duration": 3,
        "start_time": "2024-10-21T09:18:19.610Z"
      },
      {
        "duration": 127,
        "start_time": "2024-10-21T09:18:20.542Z"
      },
      {
        "duration": 1083,
        "start_time": "2024-10-21T09:18:29.089Z"
      },
      {
        "duration": 53,
        "start_time": "2024-10-21T09:18:30.174Z"
      },
      {
        "duration": 314,
        "start_time": "2024-10-21T09:18:30.229Z"
      },
      {
        "duration": 807,
        "start_time": "2024-10-21T09:18:30.545Z"
      },
      {
        "duration": 5,
        "start_time": "2024-10-21T09:18:31.353Z"
      },
      {
        "duration": 40,
        "start_time": "2024-10-21T09:18:31.359Z"
      },
      {
        "duration": 64,
        "start_time": "2024-10-21T09:18:31.400Z"
      },
      {
        "duration": 36,
        "start_time": "2024-10-21T09:18:31.465Z"
      },
      {
        "duration": 8,
        "start_time": "2024-10-21T09:18:31.503Z"
      },
      {
        "duration": 23,
        "start_time": "2024-10-21T09:18:31.513Z"
      },
      {
        "duration": 267,
        "start_time": "2024-10-21T09:18:31.538Z"
      },
      {
        "duration": 59,
        "start_time": "2024-10-21T09:18:31.806Z"
      },
      {
        "duration": 33,
        "start_time": "2024-10-21T09:18:31.866Z"
      },
      {
        "duration": 135,
        "start_time": "2024-10-21T09:18:31.901Z"
      },
      {
        "duration": 8,
        "start_time": "2024-10-21T09:18:32.037Z"
      },
      {
        "duration": 30,
        "start_time": "2024-10-21T09:18:32.046Z"
      },
      {
        "duration": 51,
        "start_time": "2024-10-21T09:18:32.077Z"
      },
      {
        "duration": 105,
        "start_time": "2024-10-21T09:18:32.130Z"
      },
      {
        "duration": 9,
        "start_time": "2024-10-21T09:18:32.237Z"
      },
      {
        "duration": 166,
        "start_time": "2024-10-21T09:18:32.247Z"
      },
      {
        "duration": 120,
        "start_time": "2024-10-21T09:18:32.414Z"
      },
      {
        "duration": 6,
        "start_time": "2024-10-21T09:18:32.536Z"
      },
      {
        "duration": 20,
        "start_time": "2024-10-21T09:18:32.544Z"
      },
      {
        "duration": 52,
        "start_time": "2024-10-21T09:18:32.565Z"
      },
      {
        "duration": 23,
        "start_time": "2024-10-21T09:18:32.619Z"
      },
      {
        "duration": 10,
        "start_time": "2024-10-21T09:18:32.643Z"
      },
      {
        "duration": 128,
        "start_time": "2024-10-21T09:18:32.654Z"
      },
      {
        "duration": 3,
        "start_time": "2024-10-21T09:18:32.785Z"
      },
      {
        "duration": 2519,
        "start_time": "2024-10-21T09:18:32.789Z"
      },
      {
        "duration": 12,
        "start_time": "2024-10-21T09:18:35.309Z"
      },
      {
        "duration": 374,
        "start_time": "2024-10-21T09:18:35.323Z"
      },
      {
        "duration": 415,
        "start_time": "2024-10-21T09:18:35.698Z"
      },
      {
        "duration": 19,
        "start_time": "2024-10-21T09:18:36.114Z"
      },
      {
        "duration": 86,
        "start_time": "2024-10-21T09:18:36.134Z"
      },
      {
        "duration": 27,
        "start_time": "2024-10-21T09:18:36.221Z"
      },
      {
        "duration": 45,
        "start_time": "2024-10-21T09:18:36.249Z"
      },
      {
        "duration": 159,
        "start_time": "2024-10-21T09:18:36.296Z"
      },
      {
        "duration": 4,
        "start_time": "2024-10-21T09:18:36.457Z"
      },
      {
        "duration": 32,
        "start_time": "2024-10-21T09:18:36.462Z"
      },
      {
        "duration": 21,
        "start_time": "2024-10-21T09:18:36.495Z"
      },
      {
        "duration": 64,
        "start_time": "2024-10-21T09:18:36.517Z"
      },
      {
        "duration": 43,
        "start_time": "2024-10-21T09:18:36.582Z"
      },
      {
        "duration": 4,
        "start_time": "2024-10-21T09:18:36.626Z"
      },
      {
        "duration": 25,
        "start_time": "2024-10-21T09:18:36.631Z"
      },
      {
        "duration": 39,
        "start_time": "2024-10-21T09:18:36.657Z"
      },
      {
        "duration": 10,
        "start_time": "2024-10-21T09:18:36.697Z"
      },
      {
        "duration": 10,
        "start_time": "2024-10-21T09:18:36.709Z"
      },
      {
        "duration": 20,
        "start_time": "2024-10-21T09:18:36.720Z"
      },
      {
        "duration": 10,
        "start_time": "2024-10-21T09:18:36.742Z"
      },
      {
        "duration": 19,
        "start_time": "2024-10-21T09:18:36.753Z"
      },
      {
        "duration": 17,
        "start_time": "2024-10-21T09:18:36.773Z"
      },
      {
        "duration": 26,
        "start_time": "2024-10-21T09:18:36.791Z"
      },
      {
        "duration": 30,
        "start_time": "2024-10-21T09:18:36.818Z"
      },
      {
        "duration": 628,
        "start_time": "2024-10-21T09:18:36.849Z"
      },
      {
        "duration": 5,
        "start_time": "2024-10-21T09:18:37.478Z"
      },
      {
        "duration": 30,
        "start_time": "2024-10-21T09:18:37.484Z"
      },
      {
        "duration": 103,
        "start_time": "2024-10-21T09:18:37.515Z"
      },
      {
        "duration": 162,
        "start_time": "2024-10-21T09:18:37.619Z"
      },
      {
        "duration": 22,
        "start_time": "2024-10-21T09:18:37.783Z"
      },
      {
        "duration": 12,
        "start_time": "2024-10-21T09:18:37.806Z"
      },
      {
        "duration": 16,
        "start_time": "2024-10-21T09:18:37.820Z"
      },
      {
        "duration": 31,
        "start_time": "2024-10-21T09:18:37.837Z"
      },
      {
        "duration": 14,
        "start_time": "2024-10-21T09:18:37.869Z"
      },
      {
        "duration": 19,
        "start_time": "2024-10-21T09:18:37.884Z"
      },
      {
        "duration": 3,
        "start_time": "2024-10-21T09:20:42.251Z"
      },
      {
        "duration": 3,
        "start_time": "2024-10-21T09:21:29.856Z"
      },
      {
        "duration": 92,
        "start_time": "2024-10-21T09:23:00.563Z"
      },
      {
        "duration": 10,
        "start_time": "2024-10-21T09:23:08.448Z"
      },
      {
        "duration": 3,
        "start_time": "2024-10-21T09:23:09.147Z"
      },
      {
        "duration": 147,
        "start_time": "2024-10-21T09:23:10.748Z"
      },
      {
        "duration": 7,
        "start_time": "2024-10-21T09:26:08.535Z"
      },
      {
        "duration": 630,
        "start_time": "2024-10-21T09:32:16.503Z"
      },
      {
        "duration": 641,
        "start_time": "2024-10-21T09:32:28.433Z"
      },
      {
        "duration": 647,
        "start_time": "2024-10-21T09:32:34.583Z"
      },
      {
        "duration": 6,
        "start_time": "2024-10-21T09:36:57.334Z"
      },
      {
        "duration": 6,
        "start_time": "2024-10-21T09:46:23.472Z"
      },
      {
        "duration": 4,
        "start_time": "2024-10-21T09:46:56.676Z"
      },
      {
        "duration": 4,
        "start_time": "2024-10-21T09:52:23.828Z"
      },
      {
        "duration": 5,
        "start_time": "2024-10-21T09:52:33.204Z"
      },
      {
        "duration": 6,
        "start_time": "2024-10-21T09:52:49.422Z"
      },
      {
        "duration": 5,
        "start_time": "2024-10-21T09:52:51.739Z"
      },
      {
        "duration": 5,
        "start_time": "2024-10-21T09:53:03.923Z"
      },
      {
        "duration": 5,
        "start_time": "2024-10-21T09:53:06.761Z"
      },
      {
        "duration": 14,
        "start_time": "2024-10-21T09:53:44.321Z"
      },
      {
        "duration": 14,
        "start_time": "2024-10-21T09:56:16.931Z"
      },
      {
        "duration": 4,
        "start_time": "2024-10-21T09:56:39.672Z"
      },
      {
        "duration": 3,
        "start_time": "2024-10-21T09:56:46.326Z"
      },
      {
        "duration": 97,
        "start_time": "2024-10-21T09:59:44.916Z"
      },
      {
        "duration": 6,
        "start_time": "2024-10-21T09:59:47.906Z"
      },
      {
        "duration": 90,
        "start_time": "2024-10-21T09:59:48.712Z"
      },
      {
        "duration": 3,
        "start_time": "2024-10-21T10:03:54.345Z"
      },
      {
        "duration": 103,
        "start_time": "2024-10-21T10:04:02.017Z"
      },
      {
        "duration": 6,
        "start_time": "2024-10-21T10:04:05.687Z"
      },
      {
        "duration": 107,
        "start_time": "2024-10-21T10:04:15.029Z"
      },
      {
        "duration": 2,
        "start_time": "2024-10-21T10:04:27.836Z"
      },
      {
        "duration": 433,
        "start_time": "2024-10-21T10:04:29.360Z"
      },
      {
        "duration": 3,
        "start_time": "2024-10-21T10:05:10.525Z"
      },
      {
        "duration": 172,
        "start_time": "2024-10-21T10:05:11.902Z"
      },
      {
        "duration": 113,
        "start_time": "2024-10-21T10:05:56.705Z"
      },
      {
        "duration": 77,
        "start_time": "2024-10-21T10:06:15.039Z"
      },
      {
        "duration": 106,
        "start_time": "2024-10-21T10:06:26.838Z"
      },
      {
        "duration": 2,
        "start_time": "2024-10-21T10:07:07.921Z"
      },
      {
        "duration": 93,
        "start_time": "2024-10-21T10:07:08.801Z"
      },
      {
        "duration": 3,
        "start_time": "2024-10-21T10:07:27.113Z"
      },
      {
        "duration": 116,
        "start_time": "2024-10-21T10:07:28.607Z"
      },
      {
        "duration": 3,
        "start_time": "2024-10-21T10:07:46.196Z"
      },
      {
        "duration": 108,
        "start_time": "2024-10-21T10:07:48.162Z"
      },
      {
        "duration": 3,
        "start_time": "2024-10-21T10:08:30.641Z"
      },
      {
        "duration": 3,
        "start_time": "2024-10-21T10:08:34.601Z"
      },
      {
        "duration": 116,
        "start_time": "2024-10-21T10:08:35.885Z"
      },
      {
        "duration": 7,
        "start_time": "2024-10-21T10:08:46.848Z"
      },
      {
        "duration": 3,
        "start_time": "2024-10-21T10:08:54.563Z"
      },
      {
        "duration": 4,
        "start_time": "2024-10-21T10:09:08.351Z"
      },
      {
        "duration": 3,
        "start_time": "2024-10-21T10:09:11.171Z"
      },
      {
        "duration": 2,
        "start_time": "2024-10-21T10:09:12.944Z"
      },
      {
        "duration": 111,
        "start_time": "2024-10-21T10:09:14.713Z"
      },
      {
        "duration": 2,
        "start_time": "2024-10-21T10:10:13.630Z"
      },
      {
        "duration": 95,
        "start_time": "2024-10-21T10:10:17.382Z"
      },
      {
        "duration": 95,
        "start_time": "2024-10-21T10:10:47.535Z"
      },
      {
        "duration": 3,
        "start_time": "2024-10-21T10:10:51.555Z"
      },
      {
        "duration": 109,
        "start_time": "2024-10-21T10:10:54.971Z"
      },
      {
        "duration": 5,
        "start_time": "2024-10-21T10:11:14.198Z"
      },
      {
        "duration": 3,
        "start_time": "2024-10-21T10:11:23.139Z"
      },
      {
        "duration": 132,
        "start_time": "2024-10-21T10:11:29.632Z"
      },
      {
        "duration": 113,
        "start_time": "2024-10-21T10:11:34.475Z"
      },
      {
        "duration": 3,
        "start_time": "2024-10-21T10:12:33.293Z"
      },
      {
        "duration": 98,
        "start_time": "2024-10-21T10:12:35.120Z"
      },
      {
        "duration": 2,
        "start_time": "2024-10-21T10:12:55.749Z"
      },
      {
        "duration": 167,
        "start_time": "2024-10-21T10:12:57.162Z"
      },
      {
        "duration": 3,
        "start_time": "2024-10-21T10:14:18.463Z"
      },
      {
        "duration": 110,
        "start_time": "2024-10-21T10:14:43.837Z"
      },
      {
        "duration": 677,
        "start_time": "2024-10-21T10:15:38.910Z"
      },
      {
        "duration": 3,
        "start_time": "2024-10-21T10:16:34.814Z"
      },
      {
        "duration": 1097,
        "start_time": "2024-10-21T10:16:50.811Z"
      },
      {
        "duration": 120,
        "start_time": "2024-10-21T10:16:51.909Z"
      },
      {
        "duration": 388,
        "start_time": "2024-10-21T10:16:52.031Z"
      },
      {
        "duration": 842,
        "start_time": "2024-10-21T10:16:52.421Z"
      },
      {
        "duration": 5,
        "start_time": "2024-10-21T10:16:53.265Z"
      },
      {
        "duration": 61,
        "start_time": "2024-10-21T10:16:53.271Z"
      },
      {
        "duration": 69,
        "start_time": "2024-10-21T10:16:53.333Z"
      },
      {
        "duration": 16,
        "start_time": "2024-10-21T10:16:53.404Z"
      },
      {
        "duration": 17,
        "start_time": "2024-10-21T10:16:53.421Z"
      },
      {
        "duration": 30,
        "start_time": "2024-10-21T10:16:53.440Z"
      },
      {
        "duration": 11,
        "start_time": "2024-10-21T10:16:53.471Z"
      },
      {
        "duration": 24,
        "start_time": "2024-10-21T10:16:53.483Z"
      },
      {
        "duration": 8,
        "start_time": "2024-10-21T10:16:53.509Z"
      },
      {
        "duration": 123,
        "start_time": "2024-10-21T10:16:53.518Z"
      },
      {
        "duration": 8,
        "start_time": "2024-10-21T10:16:53.643Z"
      },
      {
        "duration": 6,
        "start_time": "2024-10-21T10:16:53.653Z"
      },
      {
        "duration": 18,
        "start_time": "2024-10-21T10:16:53.660Z"
      },
      {
        "duration": 5,
        "start_time": "2024-10-21T10:16:53.681Z"
      },
      {
        "duration": 22,
        "start_time": "2024-10-21T10:16:53.688Z"
      },
      {
        "duration": 131,
        "start_time": "2024-10-21T10:16:53.711Z"
      },
      {
        "duration": 141,
        "start_time": "2024-10-21T10:16:53.843Z"
      },
      {
        "duration": 6,
        "start_time": "2024-10-21T10:16:53.985Z"
      },
      {
        "duration": 55,
        "start_time": "2024-10-21T10:16:53.992Z"
      },
      {
        "duration": 13,
        "start_time": "2024-10-21T10:16:54.048Z"
      },
      {
        "duration": 19,
        "start_time": "2024-10-21T10:16:54.063Z"
      },
      {
        "duration": 19,
        "start_time": "2024-10-21T10:16:54.083Z"
      },
      {
        "duration": 6,
        "start_time": "2024-10-21T10:16:54.103Z"
      },
      {
        "duration": 102,
        "start_time": "2024-10-21T10:16:54.112Z"
      },
      {
        "duration": 3,
        "start_time": "2024-10-21T10:16:54.215Z"
      },
      {
        "duration": 2459,
        "start_time": "2024-10-21T10:16:54.219Z"
      },
      {
        "duration": 9,
        "start_time": "2024-10-21T10:16:56.680Z"
      },
      {
        "duration": 346,
        "start_time": "2024-10-21T10:16:56.691Z"
      },
      {
        "duration": 442,
        "start_time": "2024-10-21T10:16:57.038Z"
      },
      {
        "duration": 27,
        "start_time": "2024-10-21T10:16:57.482Z"
      },
      {
        "duration": 12,
        "start_time": "2024-10-21T10:16:57.512Z"
      },
      {
        "duration": 14,
        "start_time": "2024-10-21T10:16:57.525Z"
      },
      {
        "duration": 36,
        "start_time": "2024-10-21T10:16:57.540Z"
      },
      {
        "duration": 161,
        "start_time": "2024-10-21T10:16:57.577Z"
      },
      {
        "duration": 4,
        "start_time": "2024-10-21T10:16:57.739Z"
      },
      {
        "duration": 14,
        "start_time": "2024-10-21T10:16:57.744Z"
      },
      {
        "duration": 15,
        "start_time": "2024-10-21T10:16:57.759Z"
      },
      {
        "duration": 5,
        "start_time": "2024-10-21T10:16:57.775Z"
      },
      {
        "duration": 12,
        "start_time": "2024-10-21T10:16:57.781Z"
      },
      {
        "duration": 98,
        "start_time": "2024-10-21T10:16:57.794Z"
      },
      {
        "duration": 150,
        "start_time": "2024-10-21T10:16:57.894Z"
      },
      {
        "duration": 8,
        "start_time": "2024-10-21T10:16:58.045Z"
      },
      {
        "duration": 16,
        "start_time": "2024-10-21T10:16:58.054Z"
      },
      {
        "duration": 2,
        "start_time": "2024-10-21T10:16:58.071Z"
      },
      {
        "duration": 20,
        "start_time": "2024-10-21T10:16:58.074Z"
      },
      {
        "duration": 7,
        "start_time": "2024-10-21T10:16:58.095Z"
      },
      {
        "duration": 23,
        "start_time": "2024-10-21T10:16:58.104Z"
      },
      {
        "duration": 12,
        "start_time": "2024-10-21T10:16:58.128Z"
      },
      {
        "duration": 15,
        "start_time": "2024-10-21T10:16:58.141Z"
      },
      {
        "duration": 13,
        "start_time": "2024-10-21T10:16:58.157Z"
      },
      {
        "duration": 18,
        "start_time": "2024-10-21T10:16:58.171Z"
      },
      {
        "duration": 17,
        "start_time": "2024-10-21T10:16:58.191Z"
      },
      {
        "duration": 764,
        "start_time": "2024-10-21T10:16:58.209Z"
      },
      {
        "duration": 5,
        "start_time": "2024-10-21T10:16:58.975Z"
      },
      {
        "duration": 24,
        "start_time": "2024-10-21T10:16:59.007Z"
      },
      {
        "duration": 23,
        "start_time": "2024-10-21T10:16:59.033Z"
      },
      {
        "duration": 10,
        "start_time": "2024-10-21T10:16:59.057Z"
      },
      {
        "duration": 21,
        "start_time": "2024-10-21T10:16:59.068Z"
      },
      {
        "duration": 16,
        "start_time": "2024-10-21T10:16:59.090Z"
      },
      {
        "duration": 8,
        "start_time": "2024-10-21T10:16:59.107Z"
      },
      {
        "duration": 8,
        "start_time": "2024-10-21T10:16:59.116Z"
      },
      {
        "duration": 7,
        "start_time": "2024-10-21T10:16:59.125Z"
      },
      {
        "duration": 5,
        "start_time": "2024-10-21T10:16:59.134Z"
      },
      {
        "duration": 5,
        "start_time": "2024-10-21T10:16:59.140Z"
      },
      {
        "duration": 11,
        "start_time": "2024-10-21T11:13:10.799Z"
      },
      {
        "duration": 105,
        "start_time": "2024-10-21T11:13:38.346Z"
      },
      {
        "duration": 6,
        "start_time": "2024-10-21T11:13:49.652Z"
      },
      {
        "duration": 8,
        "start_time": "2024-10-21T11:13:58.245Z"
      },
      {
        "duration": 6,
        "start_time": "2024-10-21T11:13:59.568Z"
      },
      {
        "duration": 110,
        "start_time": "2024-10-21T11:14:03.616Z"
      },
      {
        "duration": 10,
        "start_time": "2024-10-21T11:14:41.823Z"
      },
      {
        "duration": 8,
        "start_time": "2024-10-21T11:14:43.645Z"
      },
      {
        "duration": 16,
        "start_time": "2024-10-21T11:15:11.029Z"
      },
      {
        "duration": 8,
        "start_time": "2024-10-21T11:15:12.227Z"
      },
      {
        "duration": 100,
        "start_time": "2024-10-21T11:15:18.856Z"
      },
      {
        "duration": 148,
        "start_time": "2024-10-21T11:15:35.867Z"
      },
      {
        "duration": 107,
        "start_time": "2024-10-21T11:15:46.633Z"
      },
      {
        "duration": 112,
        "start_time": "2024-10-21T11:15:50.256Z"
      },
      {
        "duration": 119,
        "start_time": "2024-10-21T11:16:20.869Z"
      },
      {
        "duration": 19,
        "start_time": "2024-10-21T11:16:24.915Z"
      },
      {
        "duration": 19,
        "start_time": "2024-10-21T11:17:25.856Z"
      },
      {
        "duration": 18,
        "start_time": "2024-10-21T11:17:28.653Z"
      },
      {
        "duration": 120,
        "start_time": "2024-10-21T11:17:38.648Z"
      },
      {
        "duration": 2,
        "start_time": "2024-10-21T11:19:16.396Z"
      },
      {
        "duration": 96,
        "start_time": "2024-10-21T11:19:30.626Z"
      },
      {
        "duration": 7,
        "start_time": "2024-10-21T11:19:36.921Z"
      },
      {
        "duration": 98,
        "start_time": "2024-10-21T11:19:38.318Z"
      },
      {
        "duration": 5,
        "start_time": "2024-10-21T11:19:55.136Z"
      },
      {
        "duration": 97,
        "start_time": "2024-10-21T11:20:18.805Z"
      },
      {
        "duration": 1107,
        "start_time": "2024-10-21T11:20:32.767Z"
      },
      {
        "duration": 12,
        "start_time": "2024-10-21T11:20:36.241Z"
      },
      {
        "duration": 122,
        "start_time": "2024-10-21T11:20:37.855Z"
      },
      {
        "duration": 148,
        "start_time": "2024-10-21T11:22:03.211Z"
      },
      {
        "duration": 226,
        "start_time": "2024-10-21T11:22:10.362Z"
      },
      {
        "duration": 16,
        "start_time": "2024-10-21T11:23:38.950Z"
      },
      {
        "duration": 176,
        "start_time": "2024-10-21T11:23:53.469Z"
      },
      {
        "duration": 10,
        "start_time": "2024-10-21T11:24:01.380Z"
      },
      {
        "duration": 12,
        "start_time": "2024-10-21T11:24:21.361Z"
      },
      {
        "duration": 229,
        "start_time": "2024-10-21T11:24:35.986Z"
      },
      {
        "duration": 219,
        "start_time": "2024-10-21T11:27:09.388Z"
      },
      {
        "duration": 20,
        "start_time": "2024-10-21T11:27:25.012Z"
      },
      {
        "duration": 3,
        "start_time": "2024-10-21T11:28:28.957Z"
      },
      {
        "duration": 69,
        "start_time": "2024-10-21T11:28:28.962Z"
      },
      {
        "duration": 277,
        "start_time": "2024-10-21T11:28:29.032Z"
      },
      {
        "duration": 842,
        "start_time": "2024-10-21T11:28:29.312Z"
      },
      {
        "duration": 4,
        "start_time": "2024-10-21T11:28:30.155Z"
      },
      {
        "duration": 358,
        "start_time": "2024-10-21T11:28:30.160Z"
      },
      {
        "duration": 33,
        "start_time": "2024-10-21T11:28:30.519Z"
      },
      {
        "duration": 17,
        "start_time": "2024-10-21T11:28:30.554Z"
      },
      {
        "duration": 26,
        "start_time": "2024-10-21T11:28:30.574Z"
      },
      {
        "duration": 23,
        "start_time": "2024-10-21T11:28:30.601Z"
      },
      {
        "duration": 24,
        "start_time": "2024-10-21T11:28:30.625Z"
      },
      {
        "duration": 32,
        "start_time": "2024-10-21T11:28:30.651Z"
      },
      {
        "duration": 51,
        "start_time": "2024-10-21T11:28:30.684Z"
      },
      {
        "duration": 242,
        "start_time": "2024-10-21T11:28:30.736Z"
      },
      {
        "duration": 7,
        "start_time": "2024-10-21T11:28:30.979Z"
      },
      {
        "duration": 26,
        "start_time": "2024-10-21T11:28:30.987Z"
      },
      {
        "duration": 15,
        "start_time": "2024-10-21T11:28:31.015Z"
      },
      {
        "duration": 6,
        "start_time": "2024-10-21T11:28:31.031Z"
      },
      {
        "duration": 15,
        "start_time": "2024-10-21T11:28:31.039Z"
      },
      {
        "duration": 144,
        "start_time": "2024-10-21T11:28:31.055Z"
      },
      {
        "duration": 117,
        "start_time": "2024-10-21T11:28:31.200Z"
      },
      {
        "duration": 7,
        "start_time": "2024-10-21T11:28:31.319Z"
      },
      {
        "duration": 42,
        "start_time": "2024-10-21T11:28:31.328Z"
      },
      {
        "duration": 26,
        "start_time": "2024-10-21T11:28:31.373Z"
      },
      {
        "duration": 18,
        "start_time": "2024-10-21T11:28:31.401Z"
      },
      {
        "duration": 6,
        "start_time": "2024-10-21T11:28:31.420Z"
      },
      {
        "duration": 26,
        "start_time": "2024-10-21T11:28:31.428Z"
      },
      {
        "duration": 27,
        "start_time": "2024-10-21T11:28:31.455Z"
      },
      {
        "duration": 119,
        "start_time": "2024-10-21T11:28:31.484Z"
      },
      {
        "duration": 18,
        "start_time": "2024-10-21T11:28:31.607Z"
      },
      {
        "duration": 321,
        "start_time": "2024-10-21T11:28:31.627Z"
      },
      {
        "duration": 242,
        "start_time": "2024-10-21T11:28:31.949Z"
      },
      {
        "duration": 3,
        "start_time": "2024-10-21T11:28:32.192Z"
      },
      {
        "duration": 2505,
        "start_time": "2024-10-21T11:28:32.196Z"
      },
      {
        "duration": 14,
        "start_time": "2024-10-21T11:28:34.702Z"
      },
      {
        "duration": 369,
        "start_time": "2024-10-21T11:28:34.718Z"
      },
      {
        "duration": 517,
        "start_time": "2024-10-21T11:28:35.088Z"
      },
      {
        "duration": 16,
        "start_time": "2024-10-21T11:28:35.607Z"
      },
      {
        "duration": 94,
        "start_time": "2024-10-21T11:28:35.625Z"
      },
      {
        "duration": 79,
        "start_time": "2024-10-21T11:28:35.721Z"
      },
      {
        "duration": 25,
        "start_time": "2024-10-21T11:28:35.802Z"
      },
      {
        "duration": 170,
        "start_time": "2024-10-21T11:28:35.828Z"
      },
      {
        "duration": 8,
        "start_time": "2024-10-21T11:28:35.999Z"
      },
      {
        "duration": 30,
        "start_time": "2024-10-21T11:28:36.009Z"
      },
      {
        "duration": 30,
        "start_time": "2024-10-21T11:28:36.040Z"
      },
      {
        "duration": 137,
        "start_time": "2024-10-21T11:28:36.071Z"
      },
      {
        "duration": 241,
        "start_time": "2024-10-21T11:28:36.209Z"
      },
      {
        "duration": 32,
        "start_time": "2024-10-21T11:28:36.452Z"
      },
      {
        "duration": 31,
        "start_time": "2024-10-21T11:28:36.486Z"
      },
      {
        "duration": 4,
        "start_time": "2024-10-21T11:28:36.518Z"
      },
      {
        "duration": 30,
        "start_time": "2024-10-21T11:28:36.523Z"
      },
      {
        "duration": 15,
        "start_time": "2024-10-21T11:28:36.554Z"
      },
      {
        "duration": 13,
        "start_time": "2024-10-21T11:28:36.570Z"
      },
      {
        "duration": 19,
        "start_time": "2024-10-21T11:28:36.585Z"
      },
      {
        "duration": 44,
        "start_time": "2024-10-21T11:28:36.605Z"
      },
      {
        "duration": 30,
        "start_time": "2024-10-21T11:28:36.651Z"
      },
      {
        "duration": 22,
        "start_time": "2024-10-21T11:28:36.682Z"
      },
      {
        "duration": 16,
        "start_time": "2024-10-21T11:28:36.705Z"
      },
      {
        "duration": 3,
        "start_time": "2024-10-21T11:28:36.722Z"
      },
      {
        "duration": 47,
        "start_time": "2024-10-21T11:28:36.726Z"
      },
      {
        "duration": 780,
        "start_time": "2024-10-21T11:28:36.775Z"
      },
      {
        "duration": 5,
        "start_time": "2024-10-21T11:28:37.556Z"
      },
      {
        "duration": 94,
        "start_time": "2024-10-21T11:28:37.562Z"
      },
      {
        "duration": 39,
        "start_time": "2024-10-21T11:28:37.657Z"
      },
      {
        "duration": 131,
        "start_time": "2024-10-21T11:28:37.697Z"
      },
      {
        "duration": 18,
        "start_time": "2024-10-21T11:28:37.829Z"
      },
      {
        "duration": 31,
        "start_time": "2024-10-21T11:28:37.848Z"
      },
      {
        "duration": 34,
        "start_time": "2024-10-21T11:28:37.881Z"
      },
      {
        "duration": 59,
        "start_time": "2024-10-21T11:28:37.919Z"
      },
      {
        "duration": 38,
        "start_time": "2024-10-21T11:28:37.979Z"
      },
      {
        "duration": 14,
        "start_time": "2024-10-21T11:28:38.018Z"
      },
      {
        "duration": 23,
        "start_time": "2024-10-21T11:28:38.033Z"
      },
      {
        "duration": 9,
        "start_time": "2024-10-21T11:33:54.193Z"
      },
      {
        "duration": 2,
        "start_time": "2024-10-21T11:35:13.381Z"
      },
      {
        "duration": 189,
        "start_time": "2024-10-21T11:46:35.745Z"
      },
      {
        "duration": 53,
        "start_time": "2024-10-21T11:54:49.526Z"
      },
      {
        "duration": 1002,
        "start_time": "2024-10-21T11:54:55.242Z"
      },
      {
        "duration": 1214,
        "start_time": "2024-10-21T11:55:14.680Z"
      },
      {
        "duration": 22,
        "start_time": "2024-10-21T11:55:21.265Z"
      },
      {
        "duration": 20,
        "start_time": "2024-10-21T11:55:33.342Z"
      },
      {
        "duration": 5,
        "start_time": "2024-10-21T11:55:39.897Z"
      },
      {
        "duration": 9,
        "start_time": "2024-10-21T11:55:44.836Z"
      },
      {
        "duration": 6,
        "start_time": "2024-10-21T11:56:47.815Z"
      },
      {
        "duration": 346,
        "start_time": "2024-10-21T11:57:04.008Z"
      },
      {
        "duration": 321,
        "start_time": "2024-10-21T11:57:54.412Z"
      },
      {
        "duration": 414,
        "start_time": "2024-10-21T11:58:01.618Z"
      },
      {
        "duration": 344,
        "start_time": "2024-10-21T11:58:09.254Z"
      },
      {
        "duration": 1060,
        "start_time": "2024-10-21T11:58:50.139Z"
      },
      {
        "duration": 72,
        "start_time": "2024-10-21T11:58:51.201Z"
      },
      {
        "duration": 459,
        "start_time": "2024-10-21T11:58:51.274Z"
      },
      {
        "duration": 828,
        "start_time": "2024-10-21T11:58:51.735Z"
      },
      {
        "duration": 4,
        "start_time": "2024-10-21T11:58:52.565Z"
      },
      {
        "duration": 135,
        "start_time": "2024-10-21T11:58:52.570Z"
      },
      {
        "duration": 31,
        "start_time": "2024-10-21T11:58:52.706Z"
      },
      {
        "duration": 15,
        "start_time": "2024-10-21T11:58:52.738Z"
      },
      {
        "duration": 7,
        "start_time": "2024-10-21T11:58:52.755Z"
      },
      {
        "duration": 8,
        "start_time": "2024-10-21T11:58:52.764Z"
      },
      {
        "duration": 13,
        "start_time": "2024-10-21T11:58:52.773Z"
      },
      {
        "duration": 20,
        "start_time": "2024-10-21T11:58:52.788Z"
      },
      {
        "duration": 25,
        "start_time": "2024-10-21T11:58:52.809Z"
      },
      {
        "duration": 133,
        "start_time": "2024-10-21T11:58:52.836Z"
      },
      {
        "duration": 7,
        "start_time": "2024-10-21T11:58:52.970Z"
      },
      {
        "duration": 26,
        "start_time": "2024-10-21T11:58:52.978Z"
      },
      {
        "duration": 15,
        "start_time": "2024-10-21T11:58:53.006Z"
      },
      {
        "duration": 12,
        "start_time": "2024-10-21T11:58:53.022Z"
      },
      {
        "duration": 8,
        "start_time": "2024-10-21T11:58:53.035Z"
      },
      {
        "duration": 111,
        "start_time": "2024-10-21T11:58:53.044Z"
      },
      {
        "duration": 119,
        "start_time": "2024-10-21T11:58:53.156Z"
      },
      {
        "duration": 5,
        "start_time": "2024-10-21T11:58:53.276Z"
      },
      {
        "duration": 25,
        "start_time": "2024-10-21T11:58:53.282Z"
      },
      {
        "duration": 12,
        "start_time": "2024-10-21T11:58:53.308Z"
      },
      {
        "duration": 19,
        "start_time": "2024-10-21T11:58:53.321Z"
      },
      {
        "duration": 6,
        "start_time": "2024-10-21T11:58:53.342Z"
      },
      {
        "duration": 9,
        "start_time": "2024-10-21T11:58:53.349Z"
      },
      {
        "duration": 24,
        "start_time": "2024-10-21T11:58:53.362Z"
      },
      {
        "duration": 120,
        "start_time": "2024-10-21T11:58:53.387Z"
      },
      {
        "duration": 12,
        "start_time": "2024-10-21T11:58:53.509Z"
      },
      {
        "duration": 250,
        "start_time": "2024-10-21T11:58:53.523Z"
      },
      {
        "duration": 264,
        "start_time": "2024-10-21T11:58:53.774Z"
      },
      {
        "duration": 3,
        "start_time": "2024-10-21T11:58:54.039Z"
      },
      {
        "duration": 2438,
        "start_time": "2024-10-21T11:58:54.043Z"
      },
      {
        "duration": 9,
        "start_time": "2024-10-21T11:58:56.482Z"
      },
      {
        "duration": 438,
        "start_time": "2024-10-21T11:58:56.493Z"
      },
      {
        "duration": 420,
        "start_time": "2024-10-21T11:58:56.932Z"
      },
      {
        "duration": 26,
        "start_time": "2024-10-21T11:58:57.354Z"
      },
      {
        "duration": 12,
        "start_time": "2024-10-21T11:58:57.382Z"
      },
      {
        "duration": 20,
        "start_time": "2024-10-21T11:58:57.406Z"
      },
      {
        "duration": 18,
        "start_time": "2024-10-21T11:58:57.427Z"
      },
      {
        "duration": 169,
        "start_time": "2024-10-21T11:58:57.446Z"
      },
      {
        "duration": 3,
        "start_time": "2024-10-21T11:58:57.616Z"
      },
      {
        "duration": 28,
        "start_time": "2024-10-21T11:58:57.620Z"
      },
      {
        "duration": 88,
        "start_time": "2024-10-21T11:58:57.650Z"
      },
      {
        "duration": 19,
        "start_time": "2024-10-21T11:58:57.740Z"
      },
      {
        "duration": 22,
        "start_time": "2024-10-21T11:58:57.761Z"
      },
      {
        "duration": 16,
        "start_time": "2024-10-21T11:58:57.784Z"
      },
      {
        "duration": 45,
        "start_time": "2024-10-21T11:58:57.802Z"
      },
      {
        "duration": 4,
        "start_time": "2024-10-21T11:58:57.848Z"
      },
      {
        "duration": 49,
        "start_time": "2024-10-21T11:58:57.853Z"
      },
      {
        "duration": 32,
        "start_time": "2024-10-21T11:58:57.904Z"
      },
      {
        "duration": 30,
        "start_time": "2024-10-21T11:58:57.937Z"
      },
      {
        "duration": 16,
        "start_time": "2024-10-21T11:58:57.969Z"
      },
      {
        "duration": 20,
        "start_time": "2024-10-21T11:58:57.987Z"
      },
      {
        "duration": 12,
        "start_time": "2024-10-21T11:58:58.008Z"
      },
      {
        "duration": 8,
        "start_time": "2024-10-21T11:58:58.021Z"
      },
      {
        "duration": 14,
        "start_time": "2024-10-21T11:58:58.031Z"
      },
      {
        "duration": 20,
        "start_time": "2024-10-21T11:58:58.046Z"
      },
      {
        "duration": 26,
        "start_time": "2024-10-21T11:58:58.067Z"
      },
      {
        "duration": 701,
        "start_time": "2024-10-21T11:58:58.094Z"
      },
      {
        "duration": 11,
        "start_time": "2024-10-21T11:58:58.797Z"
      },
      {
        "duration": 24,
        "start_time": "2024-10-21T11:58:58.809Z"
      },
      {
        "duration": 5,
        "start_time": "2024-10-21T11:58:58.834Z"
      },
      {
        "duration": 30,
        "start_time": "2024-10-21T11:58:58.840Z"
      },
      {
        "duration": 13,
        "start_time": "2024-10-21T11:58:58.872Z"
      },
      {
        "duration": 16,
        "start_time": "2024-10-21T11:58:58.886Z"
      },
      {
        "duration": 11,
        "start_time": "2024-10-21T11:58:58.903Z"
      },
      {
        "duration": 124,
        "start_time": "2024-10-21T11:58:58.915Z"
      },
      {
        "duration": 10,
        "start_time": "2024-10-21T11:58:59.040Z"
      },
      {
        "duration": 24,
        "start_time": "2024-10-21T11:58:59.051Z"
      },
      {
        "duration": 20,
        "start_time": "2024-10-21T11:58:59.076Z"
      },
      {
        "duration": 7,
        "start_time": "2024-10-21T11:58:59.098Z"
      },
      {
        "duration": 23,
        "start_time": "2024-10-21T11:58:59.107Z"
      },
      {
        "duration": 370,
        "start_time": "2024-10-21T11:58:59.131Z"
      },
      {
        "duration": 101,
        "start_time": "2024-10-21T11:59:36.765Z"
      },
      {
        "duration": 89,
        "start_time": "2024-10-21T11:59:53.271Z"
      },
      {
        "duration": 102,
        "start_time": "2024-10-21T12:00:11.155Z"
      },
      {
        "duration": 99,
        "start_time": "2024-10-21T12:00:24.287Z"
      },
      {
        "duration": 142,
        "start_time": "2024-10-21T12:00:28.133Z"
      },
      {
        "duration": 3,
        "start_time": "2024-10-21T12:04:44.140Z"
      },
      {
        "duration": 132,
        "start_time": "2024-10-21T12:05:00.688Z"
      },
      {
        "duration": 124,
        "start_time": "2024-10-21T12:05:12.848Z"
      },
      {
        "duration": 4,
        "start_time": "2024-10-21T12:05:59.417Z"
      },
      {
        "duration": 4,
        "start_time": "2024-10-21T12:06:02.196Z"
      },
      {
        "duration": 3,
        "start_time": "2024-10-21T12:06:13.857Z"
      },
      {
        "duration": 7,
        "start_time": "2024-10-21T12:07:06.496Z"
      },
      {
        "duration": 4,
        "start_time": "2024-10-21T12:07:57.632Z"
      },
      {
        "duration": 5,
        "start_time": "2024-10-21T12:08:00.801Z"
      },
      {
        "duration": 9,
        "start_time": "2024-10-21T12:10:18.441Z"
      },
      {
        "duration": 143,
        "start_time": "2024-10-21T12:10:23.144Z"
      },
      {
        "duration": 257,
        "start_time": "2024-10-21T12:10:29.967Z"
      },
      {
        "duration": 4,
        "start_time": "2024-10-21T12:11:49.499Z"
      },
      {
        "duration": 3,
        "start_time": "2024-10-21T12:11:50.393Z"
      },
      {
        "duration": 6,
        "start_time": "2024-10-21T12:14:15.210Z"
      },
      {
        "duration": 5,
        "start_time": "2024-10-21T12:16:04.674Z"
      },
      {
        "duration": 5,
        "start_time": "2024-10-21T12:16:08.394Z"
      },
      {
        "duration": 4,
        "start_time": "2024-10-21T12:16:18.865Z"
      },
      {
        "duration": 237,
        "start_time": "2024-10-21T12:16:37.763Z"
      },
      {
        "duration": 5,
        "start_time": "2024-10-21T12:16:57.742Z"
      },
      {
        "duration": 4,
        "start_time": "2024-10-21T12:17:10.766Z"
      },
      {
        "duration": 6,
        "start_time": "2024-10-21T12:17:22.166Z"
      },
      {
        "duration": 5,
        "start_time": "2024-10-21T12:17:44.553Z"
      },
      {
        "duration": 5,
        "start_time": "2024-10-21T12:23:28.150Z"
      },
      {
        "duration": 5,
        "start_time": "2024-10-21T12:24:29.878Z"
      },
      {
        "duration": 3,
        "start_time": "2024-10-21T12:26:43.572Z"
      },
      {
        "duration": 1089,
        "start_time": "2024-10-21T12:26:49.097Z"
      },
      {
        "duration": 109,
        "start_time": "2024-10-21T12:26:50.187Z"
      },
      {
        "duration": 419,
        "start_time": "2024-10-21T12:26:50.297Z"
      },
      {
        "duration": 822,
        "start_time": "2024-10-21T12:26:50.718Z"
      },
      {
        "duration": 5,
        "start_time": "2024-10-21T12:26:51.541Z"
      },
      {
        "duration": 9,
        "start_time": "2024-10-21T12:26:51.547Z"
      },
      {
        "duration": 38,
        "start_time": "2024-10-21T12:26:51.558Z"
      },
      {
        "duration": 22,
        "start_time": "2024-10-21T12:26:51.597Z"
      },
      {
        "duration": 22,
        "start_time": "2024-10-21T12:26:51.621Z"
      },
      {
        "duration": 21,
        "start_time": "2024-10-21T12:26:51.646Z"
      },
      {
        "duration": 16,
        "start_time": "2024-10-21T12:26:51.669Z"
      },
      {
        "duration": 29,
        "start_time": "2024-10-21T12:26:51.686Z"
      },
      {
        "duration": 21,
        "start_time": "2024-10-21T12:26:51.717Z"
      },
      {
        "duration": 118,
        "start_time": "2024-10-21T12:26:51.739Z"
      },
      {
        "duration": 7,
        "start_time": "2024-10-21T12:26:51.858Z"
      },
      {
        "duration": 25,
        "start_time": "2024-10-21T12:26:51.866Z"
      },
      {
        "duration": 24,
        "start_time": "2024-10-21T12:26:51.892Z"
      },
      {
        "duration": 11,
        "start_time": "2024-10-21T12:26:51.918Z"
      },
      {
        "duration": 23,
        "start_time": "2024-10-21T12:26:51.931Z"
      },
      {
        "duration": 118,
        "start_time": "2024-10-21T12:26:51.956Z"
      },
      {
        "duration": 115,
        "start_time": "2024-10-21T12:26:52.076Z"
      },
      {
        "duration": 19,
        "start_time": "2024-10-21T12:26:52.193Z"
      },
      {
        "duration": 26,
        "start_time": "2024-10-21T12:26:52.213Z"
      },
      {
        "duration": 10,
        "start_time": "2024-10-21T12:26:52.241Z"
      },
      {
        "duration": 42,
        "start_time": "2024-10-21T12:26:52.252Z"
      },
      {
        "duration": 14,
        "start_time": "2024-10-21T12:26:52.295Z"
      },
      {
        "duration": 22,
        "start_time": "2024-10-21T12:26:52.310Z"
      },
      {
        "duration": 202,
        "start_time": "2024-10-21T12:26:52.336Z"
      },
      {
        "duration": 146,
        "start_time": "2024-10-21T12:26:52.540Z"
      },
      {
        "duration": 13,
        "start_time": "2024-10-21T12:26:52.688Z"
      },
      {
        "duration": 236,
        "start_time": "2024-10-21T12:26:52.707Z"
      },
      {
        "duration": 250,
        "start_time": "2024-10-21T12:26:52.944Z"
      },
      {
        "duration": 3,
        "start_time": "2024-10-21T12:26:53.195Z"
      },
      {
        "duration": 2459,
        "start_time": "2024-10-21T12:26:53.199Z"
      },
      {
        "duration": 10,
        "start_time": "2024-10-21T12:26:55.659Z"
      },
      {
        "duration": 365,
        "start_time": "2024-10-21T12:26:55.670Z"
      },
      {
        "duration": 410,
        "start_time": "2024-10-21T12:26:56.036Z"
      },
      {
        "duration": 18,
        "start_time": "2024-10-21T12:26:56.447Z"
      },
      {
        "duration": 16,
        "start_time": "2024-10-21T12:26:56.467Z"
      },
      {
        "duration": 8,
        "start_time": "2024-10-21T12:26:56.485Z"
      },
      {
        "duration": 14,
        "start_time": "2024-10-21T12:26:56.495Z"
      },
      {
        "duration": 165,
        "start_time": "2024-10-21T12:26:56.510Z"
      },
      {
        "duration": 4,
        "start_time": "2024-10-21T12:26:56.677Z"
      },
      {
        "duration": 8,
        "start_time": "2024-10-21T12:26:56.683Z"
      },
      {
        "duration": 18,
        "start_time": "2024-10-21T12:26:56.692Z"
      },
      {
        "duration": 95,
        "start_time": "2024-10-21T12:26:56.711Z"
      },
      {
        "duration": 43,
        "start_time": "2024-10-21T12:26:56.807Z"
      },
      {
        "duration": 11,
        "start_time": "2024-10-21T12:26:56.851Z"
      },
      {
        "duration": 41,
        "start_time": "2024-10-21T12:26:56.864Z"
      },
      {
        "duration": 4,
        "start_time": "2024-10-21T12:26:56.906Z"
      },
      {
        "duration": 39,
        "start_time": "2024-10-21T12:26:56.911Z"
      },
      {
        "duration": 10,
        "start_time": "2024-10-21T12:26:56.951Z"
      },
      {
        "duration": 8,
        "start_time": "2024-10-21T12:26:56.962Z"
      },
      {
        "duration": 6,
        "start_time": "2024-10-21T12:26:56.971Z"
      },
      {
        "duration": 29,
        "start_time": "2024-10-21T12:26:56.978Z"
      },
      {
        "duration": 16,
        "start_time": "2024-10-21T12:26:57.009Z"
      },
      {
        "duration": 5,
        "start_time": "2024-10-21T12:26:57.026Z"
      },
      {
        "duration": 22,
        "start_time": "2024-10-21T12:26:57.032Z"
      },
      {
        "duration": 100,
        "start_time": "2024-10-21T12:26:57.055Z"
      },
      {
        "duration": 20,
        "start_time": "2024-10-21T12:26:57.157Z"
      },
      {
        "duration": 728,
        "start_time": "2024-10-21T12:26:57.179Z"
      },
      {
        "duration": 5,
        "start_time": "2024-10-21T12:26:57.909Z"
      },
      {
        "duration": 21,
        "start_time": "2024-10-21T12:26:57.915Z"
      },
      {
        "duration": 8,
        "start_time": "2024-10-21T12:26:57.937Z"
      },
      {
        "duration": 11,
        "start_time": "2024-10-21T12:26:57.946Z"
      },
      {
        "duration": 10,
        "start_time": "2024-10-21T12:26:57.958Z"
      },
      {
        "duration": 16,
        "start_time": "2024-10-21T12:26:57.969Z"
      },
      {
        "duration": 13,
        "start_time": "2024-10-21T12:26:57.986Z"
      },
      {
        "duration": 20,
        "start_time": "2024-10-21T12:26:58.000Z"
      },
      {
        "duration": 8,
        "start_time": "2024-10-21T12:26:58.022Z"
      },
      {
        "duration": 8,
        "start_time": "2024-10-21T12:26:58.031Z"
      },
      {
        "duration": 11,
        "start_time": "2024-10-21T12:26:58.041Z"
      },
      {
        "duration": 8,
        "start_time": "2024-10-21T12:26:58.053Z"
      },
      {
        "duration": 251,
        "start_time": "2024-10-21T12:26:58.063Z"
      },
      {
        "duration": 3,
        "start_time": "2024-10-21T12:26:58.315Z"
      },
      {
        "duration": 9,
        "start_time": "2024-10-21T12:26:58.319Z"
      },
      {
        "duration": 7,
        "start_time": "2024-10-21T12:26:58.329Z"
      },
      {
        "duration": 5,
        "start_time": "2024-10-21T12:26:58.337Z"
      },
      {
        "duration": 264,
        "start_time": "2024-10-21T12:26:58.343Z"
      },
      {
        "duration": 3,
        "start_time": "2024-10-21T12:26:58.609Z"
      },
      {
        "duration": 6,
        "start_time": "2024-10-21T12:26:58.613Z"
      },
      {
        "duration": 5,
        "start_time": "2024-10-21T12:26:58.623Z"
      },
      {
        "duration": 1198,
        "start_time": "2024-10-21T12:30:08.950Z"
      },
      {
        "duration": 1147,
        "start_time": "2024-10-21T12:30:19.283Z"
      },
      {
        "duration": 11,
        "start_time": "2024-10-21T12:30:28.327Z"
      },
      {
        "duration": 10,
        "start_time": "2024-10-21T12:30:31.687Z"
      },
      {
        "duration": 21,
        "start_time": "2024-10-21T12:30:46.626Z"
      },
      {
        "duration": 24,
        "start_time": "2024-10-21T12:31:40.068Z"
      },
      {
        "duration": 26,
        "start_time": "2024-10-21T12:32:16.479Z"
      },
      {
        "duration": 27,
        "start_time": "2024-10-21T12:32:38.122Z"
      },
      {
        "duration": 28,
        "start_time": "2024-10-21T12:33:02.729Z"
      },
      {
        "duration": 17,
        "start_time": "2024-10-21T12:33:56.650Z"
      },
      {
        "duration": 16,
        "start_time": "2024-10-21T12:34:17.796Z"
      },
      {
        "duration": 23,
        "start_time": "2024-10-21T12:37:40.321Z"
      },
      {
        "duration": 10,
        "start_time": "2024-10-21T12:37:45.193Z"
      },
      {
        "duration": 352,
        "start_time": "2024-10-21T12:37:49.893Z"
      },
      {
        "duration": 5,
        "start_time": "2024-10-21T12:37:52.028Z"
      },
      {
        "duration": 5,
        "start_time": "2024-10-21T12:37:55.916Z"
      },
      {
        "duration": 20,
        "start_time": "2024-10-21T12:38:11.429Z"
      },
      {
        "duration": 5,
        "start_time": "2024-10-21T12:38:31.458Z"
      },
      {
        "duration": 7,
        "start_time": "2024-10-21T12:39:47.586Z"
      },
      {
        "duration": 5,
        "start_time": "2024-10-21T12:39:55.661Z"
      },
      {
        "duration": 288,
        "start_time": "2024-10-21T12:39:56.620Z"
      },
      {
        "duration": 3,
        "start_time": "2024-10-21T12:39:58.432Z"
      },
      {
        "duration": 3,
        "start_time": "2024-10-21T12:39:59.355Z"
      },
      {
        "duration": 6,
        "start_time": "2024-10-21T12:40:01.344Z"
      },
      {
        "duration": 8,
        "start_time": "2024-10-21T12:41:45.249Z"
      },
      {
        "duration": 3,
        "start_time": "2024-10-21T12:43:07.224Z"
      },
      {
        "duration": 1057,
        "start_time": "2024-10-21T12:43:23.440Z"
      },
      {
        "duration": 61,
        "start_time": "2024-10-21T12:43:24.499Z"
      },
      {
        "duration": 328,
        "start_time": "2024-10-21T12:43:24.562Z"
      },
      {
        "duration": 822,
        "start_time": "2024-10-21T12:43:24.893Z"
      },
      {
        "duration": 4,
        "start_time": "2024-10-21T12:43:25.717Z"
      },
      {
        "duration": 9,
        "start_time": "2024-10-21T12:43:25.722Z"
      },
      {
        "duration": 25,
        "start_time": "2024-10-21T12:43:25.732Z"
      },
      {
        "duration": 15,
        "start_time": "2024-10-21T12:43:25.759Z"
      },
      {
        "duration": 122,
        "start_time": "2024-10-21T12:43:25.776Z"
      },
      {
        "duration": 29,
        "start_time": "2024-10-21T12:43:25.900Z"
      },
      {
        "duration": 17,
        "start_time": "2024-10-21T12:43:25.930Z"
      },
      {
        "duration": 21,
        "start_time": "2024-10-21T12:43:25.948Z"
      },
      {
        "duration": 38,
        "start_time": "2024-10-21T12:43:25.971Z"
      },
      {
        "duration": 6,
        "start_time": "2024-10-21T12:43:26.010Z"
      },
      {
        "duration": 134,
        "start_time": "2024-10-21T12:43:26.017Z"
      },
      {
        "duration": 8,
        "start_time": "2024-10-21T12:43:26.153Z"
      },
      {
        "duration": 8,
        "start_time": "2024-10-21T12:43:26.163Z"
      },
      {
        "duration": 14,
        "start_time": "2024-10-21T12:43:26.172Z"
      },
      {
        "duration": 42,
        "start_time": "2024-10-21T12:43:26.187Z"
      },
      {
        "duration": 12,
        "start_time": "2024-10-21T12:43:26.230Z"
      },
      {
        "duration": 116,
        "start_time": "2024-10-21T12:43:26.243Z"
      },
      {
        "duration": 110,
        "start_time": "2024-10-21T12:43:26.360Z"
      },
      {
        "duration": 6,
        "start_time": "2024-10-21T12:43:26.472Z"
      },
      {
        "duration": 179,
        "start_time": "2024-10-21T12:43:26.479Z"
      },
      {
        "duration": 39,
        "start_time": "2024-10-21T12:43:26.660Z"
      },
      {
        "duration": 45,
        "start_time": "2024-10-21T12:43:26.700Z"
      },
      {
        "duration": 9,
        "start_time": "2024-10-21T12:43:26.746Z"
      },
      {
        "duration": 27,
        "start_time": "2024-10-21T12:43:26.761Z"
      },
      {
        "duration": 9,
        "start_time": "2024-10-21T12:43:26.790Z"
      },
      {
        "duration": 190,
        "start_time": "2024-10-21T12:43:26.801Z"
      },
      {
        "duration": 23,
        "start_time": "2024-10-21T12:43:26.992Z"
      },
      {
        "duration": 241,
        "start_time": "2024-10-21T12:43:27.017Z"
      },
      {
        "duration": 274,
        "start_time": "2024-10-21T12:43:27.259Z"
      },
      {
        "duration": 3,
        "start_time": "2024-10-21T12:43:27.535Z"
      },
      {
        "duration": 2500,
        "start_time": "2024-10-21T12:43:27.539Z"
      },
      {
        "duration": 11,
        "start_time": "2024-10-21T12:43:30.040Z"
      },
      {
        "duration": 420,
        "start_time": "2024-10-21T12:43:30.052Z"
      },
      {
        "duration": 394,
        "start_time": "2024-10-21T12:43:30.474Z"
      },
      {
        "duration": 19,
        "start_time": "2024-10-21T12:43:30.869Z"
      },
      {
        "duration": 39,
        "start_time": "2024-10-21T12:43:30.890Z"
      },
      {
        "duration": 30,
        "start_time": "2024-10-21T12:43:30.931Z"
      },
      {
        "duration": 36,
        "start_time": "2024-10-21T12:43:30.963Z"
      },
      {
        "duration": 182,
        "start_time": "2024-10-21T12:43:31.001Z"
      },
      {
        "duration": 4,
        "start_time": "2024-10-21T12:43:31.184Z"
      },
      {
        "duration": 66,
        "start_time": "2024-10-21T12:43:31.189Z"
      },
      {
        "duration": 117,
        "start_time": "2024-10-21T12:43:31.256Z"
      },
      {
        "duration": 34,
        "start_time": "2024-10-21T12:43:31.374Z"
      },
      {
        "duration": 23,
        "start_time": "2024-10-21T12:43:31.409Z"
      },
      {
        "duration": 23,
        "start_time": "2024-10-21T12:43:31.433Z"
      },
      {
        "duration": 84,
        "start_time": "2024-10-21T12:43:31.458Z"
      },
      {
        "duration": 4,
        "start_time": "2024-10-21T12:43:31.543Z"
      },
      {
        "duration": 63,
        "start_time": "2024-10-21T12:43:31.548Z"
      },
      {
        "duration": 27,
        "start_time": "2024-10-21T12:43:31.612Z"
      },
      {
        "duration": 4,
        "start_time": "2024-10-21T12:43:31.640Z"
      },
      {
        "duration": 20,
        "start_time": "2024-10-21T12:43:31.645Z"
      },
      {
        "duration": 36,
        "start_time": "2024-10-21T12:43:31.667Z"
      },
      {
        "duration": 16,
        "start_time": "2024-10-21T12:43:31.704Z"
      },
      {
        "duration": 60,
        "start_time": "2024-10-21T12:43:31.721Z"
      },
      {
        "duration": 116,
        "start_time": "2024-10-21T12:43:31.782Z"
      },
      {
        "duration": 12,
        "start_time": "2024-10-21T12:43:31.899Z"
      },
      {
        "duration": 34,
        "start_time": "2024-10-21T12:43:31.912Z"
      },
      {
        "duration": 691,
        "start_time": "2024-10-21T12:43:31.947Z"
      },
      {
        "duration": 5,
        "start_time": "2024-10-21T12:43:32.640Z"
      },
      {
        "duration": 38,
        "start_time": "2024-10-21T12:43:32.647Z"
      },
      {
        "duration": 130,
        "start_time": "2024-10-21T12:43:32.686Z"
      },
      {
        "duration": 94,
        "start_time": "2024-10-21T12:43:32.818Z"
      },
      {
        "duration": 17,
        "start_time": "2024-10-21T12:43:32.913Z"
      },
      {
        "duration": 16,
        "start_time": "2024-10-21T12:43:32.932Z"
      },
      {
        "duration": 32,
        "start_time": "2024-10-21T12:43:32.949Z"
      },
      {
        "duration": 33,
        "start_time": "2024-10-21T12:43:32.982Z"
      },
      {
        "duration": 24,
        "start_time": "2024-10-21T12:43:33.016Z"
      },
      {
        "duration": 6,
        "start_time": "2024-10-21T12:43:33.041Z"
      },
      {
        "duration": 52,
        "start_time": "2024-10-21T12:43:33.048Z"
      },
      {
        "duration": 9,
        "start_time": "2024-10-21T12:43:33.102Z"
      },
      {
        "duration": 352,
        "start_time": "2024-10-21T12:43:33.112Z"
      },
      {
        "duration": 4,
        "start_time": "2024-10-21T12:43:33.465Z"
      },
      {
        "duration": 38,
        "start_time": "2024-10-21T12:43:33.470Z"
      },
      {
        "duration": 7,
        "start_time": "2024-10-21T12:43:33.509Z"
      },
      {
        "duration": 16,
        "start_time": "2024-10-21T12:43:33.517Z"
      },
      {
        "duration": 5,
        "start_time": "2024-10-21T12:43:33.534Z"
      },
      {
        "duration": 245,
        "start_time": "2024-10-21T12:43:33.540Z"
      },
      {
        "duration": 4,
        "start_time": "2024-10-21T12:43:33.790Z"
      },
      {
        "duration": 118,
        "start_time": "2024-10-21T12:43:33.795Z"
      },
      {
        "duration": 26,
        "start_time": "2024-10-21T12:43:33.914Z"
      },
      {
        "duration": 9,
        "start_time": "2024-10-21T12:43:54.198Z"
      },
      {
        "duration": 9,
        "start_time": "2024-10-21T12:44:00.102Z"
      },
      {
        "duration": 8,
        "start_time": "2024-10-21T12:44:06.728Z"
      },
      {
        "duration": 7,
        "start_time": "2024-10-21T12:44:11.015Z"
      },
      {
        "duration": 3,
        "start_time": "2024-10-21T12:46:36.445Z"
      },
      {
        "duration": 103,
        "start_time": "2024-10-21T12:46:36.449Z"
      },
      {
        "duration": 252,
        "start_time": "2024-10-21T12:46:36.554Z"
      },
      {
        "duration": 903,
        "start_time": "2024-10-21T12:46:36.808Z"
      },
      {
        "duration": 4,
        "start_time": "2024-10-21T12:46:37.713Z"
      },
      {
        "duration": 34,
        "start_time": "2024-10-21T12:46:37.718Z"
      },
      {
        "duration": 70,
        "start_time": "2024-10-21T12:46:37.754Z"
      },
      {
        "duration": 103,
        "start_time": "2024-10-21T12:46:37.825Z"
      },
      {
        "duration": 62,
        "start_time": "2024-10-21T12:46:37.930Z"
      },
      {
        "duration": 65,
        "start_time": "2024-10-21T12:46:37.994Z"
      },
      {
        "duration": 42,
        "start_time": "2024-10-21T12:46:38.061Z"
      },
      {
        "duration": 53,
        "start_time": "2024-10-21T12:46:38.105Z"
      },
      {
        "duration": 65,
        "start_time": "2024-10-21T12:46:38.159Z"
      },
      {
        "duration": 17,
        "start_time": "2024-10-21T12:46:38.226Z"
      },
      {
        "duration": 120,
        "start_time": "2024-10-21T12:46:38.245Z"
      },
      {
        "duration": 7,
        "start_time": "2024-10-21T12:46:38.366Z"
      },
      {
        "duration": 38,
        "start_time": "2024-10-21T12:46:38.375Z"
      },
      {
        "duration": 18,
        "start_time": "2024-10-21T12:46:38.414Z"
      },
      {
        "duration": 6,
        "start_time": "2024-10-21T12:46:38.434Z"
      },
      {
        "duration": 155,
        "start_time": "2024-10-21T12:46:38.442Z"
      },
      {
        "duration": 149,
        "start_time": "2024-10-21T12:46:38.599Z"
      },
      {
        "duration": 112,
        "start_time": "2024-10-21T12:46:38.750Z"
      },
      {
        "duration": 5,
        "start_time": "2024-10-21T12:46:38.863Z"
      },
      {
        "duration": 102,
        "start_time": "2024-10-21T12:46:38.871Z"
      },
      {
        "duration": 28,
        "start_time": "2024-10-21T12:46:38.974Z"
      },
      {
        "duration": 34,
        "start_time": "2024-10-21T12:46:39.003Z"
      },
      {
        "duration": 11,
        "start_time": "2024-10-21T12:46:39.038Z"
      },
      {
        "duration": 52,
        "start_time": "2024-10-21T12:46:39.050Z"
      },
      {
        "duration": 40,
        "start_time": "2024-10-21T12:46:39.104Z"
      },
      {
        "duration": 190,
        "start_time": "2024-10-21T12:46:39.145Z"
      },
      {
        "duration": 12,
        "start_time": "2024-10-21T12:46:39.336Z"
      },
      {
        "duration": 302,
        "start_time": "2024-10-21T12:46:39.350Z"
      },
      {
        "duration": 241,
        "start_time": "2024-10-21T12:46:39.653Z"
      },
      {
        "duration": 2,
        "start_time": "2024-10-21T12:46:39.896Z"
      },
      {
        "duration": 2405,
        "start_time": "2024-10-21T12:46:39.899Z"
      },
      {
        "duration": 10,
        "start_time": "2024-10-21T12:46:42.306Z"
      },
      {
        "duration": 380,
        "start_time": "2024-10-21T12:46:42.317Z"
      },
      {
        "duration": 414,
        "start_time": "2024-10-21T12:46:42.699Z"
      },
      {
        "duration": 17,
        "start_time": "2024-10-21T12:46:43.115Z"
      },
      {
        "duration": 6,
        "start_time": "2024-10-21T12:46:43.134Z"
      },
      {
        "duration": 11,
        "start_time": "2024-10-21T12:46:43.141Z"
      },
      {
        "duration": 21,
        "start_time": "2024-10-21T12:46:43.153Z"
      },
      {
        "duration": 239,
        "start_time": "2024-10-21T12:46:43.176Z"
      },
      {
        "duration": 4,
        "start_time": "2024-10-21T12:46:43.416Z"
      },
      {
        "duration": 14,
        "start_time": "2024-10-21T12:46:43.421Z"
      },
      {
        "duration": 22,
        "start_time": "2024-10-21T12:46:43.436Z"
      },
      {
        "duration": 15,
        "start_time": "2024-10-21T12:46:43.459Z"
      },
      {
        "duration": 21,
        "start_time": "2024-10-21T12:46:43.475Z"
      },
      {
        "duration": 12,
        "start_time": "2024-10-21T12:46:43.497Z"
      },
      {
        "duration": 27,
        "start_time": "2024-10-21T12:46:43.510Z"
      },
      {
        "duration": 3,
        "start_time": "2024-10-21T12:46:43.539Z"
      },
      {
        "duration": 12,
        "start_time": "2024-10-21T12:46:43.543Z"
      },
      {
        "duration": 18,
        "start_time": "2024-10-21T12:46:43.557Z"
      },
      {
        "duration": 30,
        "start_time": "2024-10-21T12:46:43.576Z"
      },
      {
        "duration": 17,
        "start_time": "2024-10-21T12:46:43.607Z"
      },
      {
        "duration": 19,
        "start_time": "2024-10-21T12:46:43.625Z"
      },
      {
        "duration": 21,
        "start_time": "2024-10-21T12:46:43.645Z"
      },
      {
        "duration": 11,
        "start_time": "2024-10-21T12:46:43.667Z"
      },
      {
        "duration": 30,
        "start_time": "2024-10-21T12:46:43.679Z"
      },
      {
        "duration": 5,
        "start_time": "2024-10-21T12:46:43.711Z"
      },
      {
        "duration": 14,
        "start_time": "2024-10-21T12:46:43.717Z"
      },
      {
        "duration": 655,
        "start_time": "2024-10-21T12:46:43.732Z"
      },
      {
        "duration": 5,
        "start_time": "2024-10-21T12:46:44.389Z"
      },
      {
        "duration": 31,
        "start_time": "2024-10-21T12:46:44.395Z"
      },
      {
        "duration": 17,
        "start_time": "2024-10-21T12:46:44.428Z"
      },
      {
        "duration": 260,
        "start_time": "2024-10-21T12:46:44.446Z"
      },
      {
        "duration": 15,
        "start_time": "2024-10-21T12:46:44.708Z"
      },
      {
        "duration": 10,
        "start_time": "2024-10-21T12:46:44.724Z"
      },
      {
        "duration": 13,
        "start_time": "2024-10-21T12:46:44.738Z"
      },
      {
        "duration": 6,
        "start_time": "2024-10-21T12:46:44.753Z"
      },
      {
        "duration": 7,
        "start_time": "2024-10-21T12:46:44.760Z"
      },
      {
        "duration": 15,
        "start_time": "2024-10-21T12:46:44.768Z"
      },
      {
        "duration": 17,
        "start_time": "2024-10-21T12:46:44.784Z"
      },
      {
        "duration": 27,
        "start_time": "2024-10-21T12:46:44.802Z"
      },
      {
        "duration": 249,
        "start_time": "2024-10-21T12:46:44.831Z"
      },
      {
        "duration": 3,
        "start_time": "2024-10-21T12:46:45.082Z"
      },
      {
        "duration": 70,
        "start_time": "2024-10-21T12:46:45.086Z"
      },
      {
        "duration": 187,
        "start_time": "2024-10-21T12:46:45.158Z"
      },
      {
        "duration": 80,
        "start_time": "2024-10-21T12:46:45.347Z"
      },
      {
        "duration": 56,
        "start_time": "2024-10-21T12:46:45.429Z"
      },
      {
        "duration": 260,
        "start_time": "2024-10-21T12:46:45.487Z"
      },
      {
        "duration": 3,
        "start_time": "2024-10-21T12:46:45.749Z"
      },
      {
        "duration": 10,
        "start_time": "2024-10-21T12:46:45.753Z"
      },
      {
        "duration": 11,
        "start_time": "2024-10-21T12:46:45.764Z"
      },
      {
        "duration": 1102,
        "start_time": "2024-10-21T12:47:15.392Z"
      },
      {
        "duration": 72,
        "start_time": "2024-10-21T12:47:16.495Z"
      },
      {
        "duration": 310,
        "start_time": "2024-10-21T12:47:16.568Z"
      },
      {
        "duration": 816,
        "start_time": "2024-10-21T12:47:16.880Z"
      },
      {
        "duration": 9,
        "start_time": "2024-10-21T12:47:17.698Z"
      },
      {
        "duration": 6,
        "start_time": "2024-10-21T12:47:17.708Z"
      },
      {
        "duration": 36,
        "start_time": "2024-10-21T12:47:17.715Z"
      },
      {
        "duration": 17,
        "start_time": "2024-10-21T12:47:17.753Z"
      },
      {
        "duration": 16,
        "start_time": "2024-10-21T12:47:20.058Z"
      },
      {
        "duration": 24,
        "start_time": "2024-10-21T12:47:27.418Z"
      },
      {
        "duration": 17,
        "start_time": "2024-10-21T12:47:40.772Z"
      },
      {
        "duration": 4,
        "start_time": "2024-10-21T12:48:24.393Z"
      },
      {
        "duration": 66,
        "start_time": "2024-10-21T12:48:24.398Z"
      },
      {
        "duration": 289,
        "start_time": "2024-10-21T12:48:24.466Z"
      },
      {
        "duration": 866,
        "start_time": "2024-10-21T12:48:24.757Z"
      },
      {
        "duration": 4,
        "start_time": "2024-10-21T12:48:25.625Z"
      },
      {
        "duration": 12,
        "start_time": "2024-10-21T12:48:25.630Z"
      },
      {
        "duration": 34,
        "start_time": "2024-10-21T12:48:25.643Z"
      },
      {
        "duration": 16,
        "start_time": "2024-10-21T12:48:25.678Z"
      },
      {
        "duration": 18,
        "start_time": "2024-10-21T12:48:25.707Z"
      },
      {
        "duration": 8,
        "start_time": "2024-10-21T12:48:25.726Z"
      },
      {
        "duration": 9,
        "start_time": "2024-10-21T12:48:25.735Z"
      },
      {
        "duration": 11,
        "start_time": "2024-10-21T12:48:25.745Z"
      },
      {
        "duration": 13,
        "start_time": "2024-10-21T12:48:25.757Z"
      },
      {
        "duration": 5,
        "start_time": "2024-10-21T12:48:25.771Z"
      },
      {
        "duration": 136,
        "start_time": "2024-10-21T12:48:25.777Z"
      },
      {
        "duration": 7,
        "start_time": "2024-10-21T12:48:25.914Z"
      },
      {
        "duration": 18,
        "start_time": "2024-10-21T12:48:25.922Z"
      },
      {
        "duration": 35,
        "start_time": "2024-10-21T12:48:25.941Z"
      },
      {
        "duration": 22,
        "start_time": "2024-10-21T12:48:25.977Z"
      },
      {
        "duration": 20,
        "start_time": "2024-10-21T12:48:26.000Z"
      },
      {
        "duration": 115,
        "start_time": "2024-10-21T12:48:26.021Z"
      },
      {
        "duration": 116,
        "start_time": "2024-10-21T12:48:26.138Z"
      },
      {
        "duration": 6,
        "start_time": "2024-10-21T12:48:26.255Z"
      },
      {
        "duration": 33,
        "start_time": "2024-10-21T12:48:26.264Z"
      },
      {
        "duration": 13,
        "start_time": "2024-10-21T12:48:26.298Z"
      },
      {
        "duration": 22,
        "start_time": "2024-10-21T12:48:26.313Z"
      },
      {
        "duration": 20,
        "start_time": "2024-10-21T12:48:26.336Z"
      },
      {
        "duration": 33,
        "start_time": "2024-10-21T12:48:26.357Z"
      },
      {
        "duration": 33,
        "start_time": "2024-10-21T12:48:26.391Z"
      },
      {
        "duration": 118,
        "start_time": "2024-10-21T12:48:26.426Z"
      },
      {
        "duration": 12,
        "start_time": "2024-10-21T12:48:26.546Z"
      },
      {
        "duration": 336,
        "start_time": "2024-10-21T12:48:26.559Z"
      },
      {
        "duration": 248,
        "start_time": "2024-10-21T12:48:26.896Z"
      },
      {
        "duration": 3,
        "start_time": "2024-10-21T12:48:27.145Z"
      },
      {
        "duration": 2441,
        "start_time": "2024-10-21T12:48:27.149Z"
      },
      {
        "duration": 16,
        "start_time": "2024-10-21T12:48:29.591Z"
      },
      {
        "duration": 356,
        "start_time": "2024-10-21T12:48:29.608Z"
      },
      {
        "duration": 480,
        "start_time": "2024-10-21T12:48:29.965Z"
      },
      {
        "duration": 21,
        "start_time": "2024-10-21T12:48:30.447Z"
      },
      {
        "duration": 33,
        "start_time": "2024-10-21T12:48:30.469Z"
      },
      {
        "duration": 10,
        "start_time": "2024-10-21T12:48:30.504Z"
      },
      {
        "duration": 13,
        "start_time": "2024-10-21T12:48:30.516Z"
      },
      {
        "duration": 179,
        "start_time": "2024-10-21T12:48:30.530Z"
      },
      {
        "duration": 4,
        "start_time": "2024-10-21T12:48:30.711Z"
      },
      {
        "duration": 19,
        "start_time": "2024-10-21T12:48:30.717Z"
      },
      {
        "duration": 17,
        "start_time": "2024-10-21T12:48:30.738Z"
      },
      {
        "duration": 25,
        "start_time": "2024-10-21T12:48:30.757Z"
      },
      {
        "duration": 34,
        "start_time": "2024-10-21T12:48:30.784Z"
      },
      {
        "duration": 23,
        "start_time": "2024-10-21T12:48:30.819Z"
      },
      {
        "duration": 48,
        "start_time": "2024-10-21T12:48:30.844Z"
      },
      {
        "duration": 107,
        "start_time": "2024-10-21T12:48:30.894Z"
      },
      {
        "duration": 11,
        "start_time": "2024-10-21T12:48:31.003Z"
      },
      {
        "duration": 7,
        "start_time": "2024-10-21T12:48:31.016Z"
      },
      {
        "duration": 15,
        "start_time": "2024-10-21T12:48:31.025Z"
      },
      {
        "duration": 10,
        "start_time": "2024-10-21T12:48:31.041Z"
      },
      {
        "duration": 27,
        "start_time": "2024-10-21T12:48:31.052Z"
      },
      {
        "duration": 26,
        "start_time": "2024-10-21T12:48:31.081Z"
      },
      {
        "duration": 28,
        "start_time": "2024-10-21T12:48:31.108Z"
      },
      {
        "duration": 35,
        "start_time": "2024-10-21T12:48:31.137Z"
      },
      {
        "duration": 153,
        "start_time": "2024-10-21T12:48:31.174Z"
      },
      {
        "duration": 25,
        "start_time": "2024-10-21T12:48:31.328Z"
      },
      {
        "duration": 660,
        "start_time": "2024-10-21T12:48:31.355Z"
      },
      {
        "duration": 6,
        "start_time": "2024-10-21T12:48:32.017Z"
      },
      {
        "duration": 22,
        "start_time": "2024-10-21T12:48:32.024Z"
      },
      {
        "duration": 14,
        "start_time": "2024-10-21T12:48:32.047Z"
      },
      {
        "duration": 36,
        "start_time": "2024-10-21T12:48:32.062Z"
      },
      {
        "duration": 29,
        "start_time": "2024-10-21T12:48:32.100Z"
      },
      {
        "duration": 12,
        "start_time": "2024-10-21T12:48:32.131Z"
      },
      {
        "duration": 18,
        "start_time": "2024-10-21T12:48:32.148Z"
      },
      {
        "duration": 33,
        "start_time": "2024-10-21T12:48:32.167Z"
      },
      {
        "duration": 7,
        "start_time": "2024-10-21T12:48:32.201Z"
      },
      {
        "duration": 8,
        "start_time": "2024-10-21T12:48:32.209Z"
      },
      {
        "duration": 15,
        "start_time": "2024-10-21T12:48:32.218Z"
      },
      {
        "duration": 9,
        "start_time": "2024-10-21T12:48:32.234Z"
      },
      {
        "duration": 249,
        "start_time": "2024-10-21T12:48:32.244Z"
      },
      {
        "duration": 3,
        "start_time": "2024-10-21T12:48:32.495Z"
      },
      {
        "duration": 215,
        "start_time": "2024-10-21T12:48:32.507Z"
      },
      {
        "duration": 24,
        "start_time": "2024-10-21T12:48:32.724Z"
      },
      {
        "duration": 58,
        "start_time": "2024-10-21T12:48:32.750Z"
      },
      {
        "duration": 8,
        "start_time": "2024-10-21T12:48:32.809Z"
      },
      {
        "duration": 250,
        "start_time": "2024-10-21T12:48:32.818Z"
      },
      {
        "duration": 4,
        "start_time": "2024-10-21T12:48:33.069Z"
      },
      {
        "duration": 20,
        "start_time": "2024-10-21T12:48:33.075Z"
      },
      {
        "duration": 7,
        "start_time": "2024-10-21T12:48:33.096Z"
      },
      {
        "duration": 1139,
        "start_time": "2024-10-21T13:48:33.395Z"
      },
      {
        "duration": 4,
        "start_time": "2024-10-21T13:48:42.424Z"
      },
      {
        "duration": 11,
        "start_time": "2024-10-21T13:48:50.828Z"
      },
      {
        "duration": 5,
        "start_time": "2024-10-21T13:49:04.827Z"
      },
      {
        "duration": 65,
        "start_time": "2024-10-21T13:49:40.302Z"
      },
      {
        "duration": 17,
        "start_time": "2024-10-21T13:49:43.581Z"
      },
      {
        "duration": 14,
        "start_time": "2024-10-21T13:49:48.422Z"
      },
      {
        "duration": 18,
        "start_time": "2024-10-21T13:50:50.938Z"
      },
      {
        "duration": 276,
        "start_time": "2024-10-21T13:52:18.885Z"
      },
      {
        "duration": 7,
        "start_time": "2024-10-21T13:52:27.442Z"
      },
      {
        "duration": 2,
        "start_time": "2024-10-21T13:53:49.161Z"
      },
      {
        "duration": 2,
        "start_time": "2024-10-21T13:54:06.169Z"
      },
      {
        "duration": 67,
        "start_time": "2024-10-21T13:54:10.603Z"
      },
      {
        "duration": 22,
        "start_time": "2024-10-21T13:54:32.738Z"
      },
      {
        "duration": 14,
        "start_time": "2024-10-21T13:54:45.449Z"
      },
      {
        "duration": 1062,
        "start_time": "2024-10-21T13:54:59.930Z"
      },
      {
        "duration": 68,
        "start_time": "2024-10-21T13:55:00.994Z"
      },
      {
        "duration": 429,
        "start_time": "2024-10-21T13:55:01.063Z"
      },
      {
        "duration": 808,
        "start_time": "2024-10-21T13:55:01.494Z"
      },
      {
        "duration": 6,
        "start_time": "2024-10-21T13:55:02.303Z"
      },
      {
        "duration": 21,
        "start_time": "2024-10-21T13:55:02.310Z"
      },
      {
        "duration": 60,
        "start_time": "2024-10-21T13:55:02.332Z"
      },
      {
        "duration": 20,
        "start_time": "2024-10-21T13:55:02.394Z"
      },
      {
        "duration": 17,
        "start_time": "2024-10-21T13:55:02.415Z"
      },
      {
        "duration": 27,
        "start_time": "2024-10-21T13:55:02.436Z"
      },
      {
        "duration": 65,
        "start_time": "2024-10-21T13:55:02.464Z"
      },
      {
        "duration": 20,
        "start_time": "2024-10-21T13:55:02.531Z"
      },
      {
        "duration": 81,
        "start_time": "2024-10-21T13:55:02.553Z"
      },
      {
        "duration": 21,
        "start_time": "2024-10-21T13:55:02.635Z"
      },
      {
        "duration": 177,
        "start_time": "2024-10-21T13:55:02.658Z"
      },
      {
        "duration": 7,
        "start_time": "2024-10-21T13:55:02.836Z"
      },
      {
        "duration": 198,
        "start_time": "2024-10-21T13:55:02.844Z"
      },
      {
        "duration": 29,
        "start_time": "2024-10-21T13:55:03.044Z"
      },
      {
        "duration": 79,
        "start_time": "2024-10-21T13:55:03.075Z"
      },
      {
        "duration": 103,
        "start_time": "2024-10-21T13:55:03.156Z"
      },
      {
        "duration": 218,
        "start_time": "2024-10-21T13:55:03.261Z"
      },
      {
        "duration": 121,
        "start_time": "2024-10-21T13:55:03.481Z"
      },
      {
        "duration": 5,
        "start_time": "2024-10-21T13:55:03.606Z"
      },
      {
        "duration": 76,
        "start_time": "2024-10-21T13:55:03.612Z"
      },
      {
        "duration": 20,
        "start_time": "2024-10-21T13:55:03.689Z"
      },
      {
        "duration": 20,
        "start_time": "2024-10-21T13:55:03.711Z"
      },
      {
        "duration": 6,
        "start_time": "2024-10-21T13:55:03.732Z"
      },
      {
        "duration": 18,
        "start_time": "2024-10-21T13:55:03.742Z"
      },
      {
        "duration": 41,
        "start_time": "2024-10-21T13:55:03.761Z"
      },
      {
        "duration": 135,
        "start_time": "2024-10-21T13:55:03.804Z"
      },
      {
        "duration": 13,
        "start_time": "2024-10-21T13:55:03.941Z"
      },
      {
        "duration": 262,
        "start_time": "2024-10-21T13:55:03.956Z"
      },
      {
        "duration": 252,
        "start_time": "2024-10-21T13:55:04.220Z"
      },
      {
        "duration": 3,
        "start_time": "2024-10-21T13:55:04.474Z"
      },
      {
        "duration": 2582,
        "start_time": "2024-10-21T13:55:04.478Z"
      },
      {
        "duration": 10,
        "start_time": "2024-10-21T13:55:07.062Z"
      },
      {
        "duration": 392,
        "start_time": "2024-10-21T13:55:07.073Z"
      },
      {
        "duration": 422,
        "start_time": "2024-10-21T13:55:07.466Z"
      },
      {
        "duration": 21,
        "start_time": "2024-10-21T13:55:07.889Z"
      },
      {
        "duration": 6,
        "start_time": "2024-10-21T13:55:07.912Z"
      },
      {
        "duration": 26,
        "start_time": "2024-10-21T13:55:07.919Z"
      },
      {
        "duration": 34,
        "start_time": "2024-10-21T13:55:07.946Z"
      },
      {
        "duration": 170,
        "start_time": "2024-10-21T13:55:07.981Z"
      },
      {
        "duration": 4,
        "start_time": "2024-10-21T13:55:08.152Z"
      },
      {
        "duration": 49,
        "start_time": "2024-10-21T13:55:08.157Z"
      },
      {
        "duration": 21,
        "start_time": "2024-10-21T13:55:08.207Z"
      },
      {
        "duration": 55,
        "start_time": "2024-10-21T13:55:08.230Z"
      },
      {
        "duration": 42,
        "start_time": "2024-10-21T13:55:08.286Z"
      },
      {
        "duration": 28,
        "start_time": "2024-10-21T13:55:08.329Z"
      },
      {
        "duration": 47,
        "start_time": "2024-10-21T13:55:08.358Z"
      },
      {
        "duration": 25,
        "start_time": "2024-10-21T13:55:08.406Z"
      },
      {
        "duration": 31,
        "start_time": "2024-10-21T13:55:08.432Z"
      },
      {
        "duration": 15,
        "start_time": "2024-10-21T13:55:08.464Z"
      },
      {
        "duration": 8,
        "start_time": "2024-10-21T13:55:08.481Z"
      },
      {
        "duration": 17,
        "start_time": "2024-10-21T13:55:08.490Z"
      },
      {
        "duration": 19,
        "start_time": "2024-10-21T13:55:08.509Z"
      },
      {
        "duration": 23,
        "start_time": "2024-10-21T13:55:08.529Z"
      },
      {
        "duration": 29,
        "start_time": "2024-10-21T13:55:08.553Z"
      },
      {
        "duration": 15,
        "start_time": "2024-10-21T13:55:08.584Z"
      },
      {
        "duration": 40,
        "start_time": "2024-10-21T13:55:08.601Z"
      },
      {
        "duration": 29,
        "start_time": "2024-10-21T13:55:08.642Z"
      },
      {
        "duration": 671,
        "start_time": "2024-10-21T13:55:08.672Z"
      },
      {
        "duration": 2,
        "start_time": "2024-10-21T13:55:09.345Z"
      },
      {
        "duration": 168,
        "start_time": "2024-10-21T13:55:09.348Z"
      },
      {
        "duration": 0,
        "start_time": "2024-10-21T13:55:09.517Z"
      },
      {
        "duration": 0,
        "start_time": "2024-10-21T13:55:09.518Z"
      },
      {
        "duration": 0,
        "start_time": "2024-10-21T13:55:09.519Z"
      },
      {
        "duration": 0,
        "start_time": "2024-10-21T13:55:09.520Z"
      },
      {
        "duration": 0,
        "start_time": "2024-10-21T13:55:09.521Z"
      },
      {
        "duration": 0,
        "start_time": "2024-10-21T13:55:09.522Z"
      },
      {
        "duration": 0,
        "start_time": "2024-10-21T13:55:09.523Z"
      },
      {
        "duration": 0,
        "start_time": "2024-10-21T13:55:09.524Z"
      },
      {
        "duration": 0,
        "start_time": "2024-10-21T13:55:09.524Z"
      },
      {
        "duration": 0,
        "start_time": "2024-10-21T13:55:09.526Z"
      },
      {
        "duration": 0,
        "start_time": "2024-10-21T13:55:09.526Z"
      },
      {
        "duration": 0,
        "start_time": "2024-10-21T13:55:09.527Z"
      },
      {
        "duration": 0,
        "start_time": "2024-10-21T13:55:09.527Z"
      },
      {
        "duration": 0,
        "start_time": "2024-10-21T13:55:09.528Z"
      },
      {
        "duration": 0,
        "start_time": "2024-10-21T13:55:09.529Z"
      },
      {
        "duration": 0,
        "start_time": "2024-10-21T13:55:09.529Z"
      },
      {
        "duration": 0,
        "start_time": "2024-10-21T13:55:09.530Z"
      },
      {
        "duration": 0,
        "start_time": "2024-10-21T13:55:09.531Z"
      },
      {
        "duration": 0,
        "start_time": "2024-10-21T13:55:09.532Z"
      },
      {
        "duration": 0,
        "start_time": "2024-10-21T13:55:09.532Z"
      },
      {
        "duration": 0,
        "start_time": "2024-10-21T13:55:09.533Z"
      },
      {
        "duration": 15,
        "start_time": "2024-10-21T13:55:19.862Z"
      },
      {
        "duration": 7,
        "start_time": "2024-10-21T13:55:44.993Z"
      },
      {
        "duration": 8,
        "start_time": "2024-10-21T13:55:51.989Z"
      },
      {
        "duration": 6,
        "start_time": "2024-10-21T13:56:07.294Z"
      },
      {
        "duration": 4,
        "start_time": "2024-10-21T13:56:26.182Z"
      },
      {
        "duration": 5,
        "start_time": "2024-10-21T13:56:41.383Z"
      },
      {
        "duration": 7,
        "start_time": "2024-10-21T13:56:44.710Z"
      },
      {
        "duration": 3,
        "start_time": "2024-10-21T13:56:53.821Z"
      },
      {
        "duration": 5,
        "start_time": "2024-10-21T13:57:00.056Z"
      },
      {
        "duration": 3,
        "start_time": "2024-10-21T13:58:01.409Z"
      },
      {
        "duration": 4,
        "start_time": "2024-10-21T13:58:05.033Z"
      },
      {
        "duration": 4,
        "start_time": "2024-10-21T13:58:20.180Z"
      },
      {
        "duration": 7,
        "start_time": "2024-10-21T13:59:05.097Z"
      },
      {
        "duration": 8,
        "start_time": "2024-10-21T13:59:16.974Z"
      },
      {
        "duration": 4,
        "start_time": "2024-10-21T13:59:41.543Z"
      },
      {
        "duration": 8,
        "start_time": "2024-10-21T13:59:49.206Z"
      },
      {
        "duration": 8,
        "start_time": "2024-10-21T13:59:59.542Z"
      },
      {
        "duration": 3,
        "start_time": "2024-10-21T14:00:13.362Z"
      },
      {
        "duration": 5,
        "start_time": "2024-10-21T14:00:23.229Z"
      },
      {
        "duration": 2,
        "start_time": "2024-10-21T14:00:38.952Z"
      },
      {
        "duration": 4,
        "start_time": "2024-10-21T14:00:39.458Z"
      },
      {
        "duration": 1055,
        "start_time": "2024-10-21T14:00:46.750Z"
      },
      {
        "duration": 315,
        "start_time": "2024-10-21T14:00:47.807Z"
      },
      {
        "duration": 167,
        "start_time": "2024-10-21T14:00:48.123Z"
      },
      {
        "duration": 815,
        "start_time": "2024-10-21T14:00:48.292Z"
      },
      {
        "duration": 5,
        "start_time": "2024-10-21T14:00:49.109Z"
      },
      {
        "duration": 20,
        "start_time": "2024-10-21T14:00:49.115Z"
      },
      {
        "duration": 46,
        "start_time": "2024-10-21T14:00:49.136Z"
      },
      {
        "duration": 23,
        "start_time": "2024-10-21T14:00:49.184Z"
      },
      {
        "duration": 30,
        "start_time": "2024-10-21T14:00:49.209Z"
      },
      {
        "duration": 40,
        "start_time": "2024-10-21T14:00:49.243Z"
      },
      {
        "duration": 78,
        "start_time": "2024-10-21T14:00:49.284Z"
      },
      {
        "duration": 55,
        "start_time": "2024-10-21T14:00:49.364Z"
      },
      {
        "duration": 20,
        "start_time": "2024-10-21T14:00:49.421Z"
      },
      {
        "duration": 10,
        "start_time": "2024-10-21T14:00:49.442Z"
      },
      {
        "duration": 130,
        "start_time": "2024-10-21T14:00:49.454Z"
      },
      {
        "duration": 9,
        "start_time": "2024-10-21T14:00:49.585Z"
      },
      {
        "duration": 126,
        "start_time": "2024-10-21T14:00:49.596Z"
      },
      {
        "duration": 13,
        "start_time": "2024-10-21T14:00:49.723Z"
      },
      {
        "duration": 32,
        "start_time": "2024-10-21T14:00:49.737Z"
      },
      {
        "duration": 46,
        "start_time": "2024-10-21T14:00:49.770Z"
      },
      {
        "duration": 146,
        "start_time": "2024-10-21T14:00:49.818Z"
      },
      {
        "duration": 119,
        "start_time": "2024-10-21T14:00:49.965Z"
      },
      {
        "duration": 5,
        "start_time": "2024-10-21T14:00:50.086Z"
      },
      {
        "duration": 110,
        "start_time": "2024-10-21T14:00:50.092Z"
      },
      {
        "duration": 34,
        "start_time": "2024-10-21T14:00:50.203Z"
      },
      {
        "duration": 37,
        "start_time": "2024-10-21T14:00:50.239Z"
      },
      {
        "duration": 19,
        "start_time": "2024-10-21T14:00:50.278Z"
      },
      {
        "duration": 20,
        "start_time": "2024-10-21T14:00:50.301Z"
      },
      {
        "duration": 34,
        "start_time": "2024-10-21T14:00:50.322Z"
      },
      {
        "duration": 115,
        "start_time": "2024-10-21T14:00:50.357Z"
      },
      {
        "duration": 13,
        "start_time": "2024-10-21T14:00:50.473Z"
      },
      {
        "duration": 357,
        "start_time": "2024-10-21T14:00:50.487Z"
      },
      {
        "duration": 249,
        "start_time": "2024-10-21T14:00:50.845Z"
      },
      {
        "duration": 11,
        "start_time": "2024-10-21T14:00:51.096Z"
      },
      {
        "duration": 2495,
        "start_time": "2024-10-21T14:00:51.108Z"
      },
      {
        "duration": 9,
        "start_time": "2024-10-21T14:00:53.605Z"
      },
      {
        "duration": 378,
        "start_time": "2024-10-21T14:00:53.616Z"
      },
      {
        "duration": 430,
        "start_time": "2024-10-21T14:00:53.995Z"
      },
      {
        "duration": 16,
        "start_time": "2024-10-21T14:00:54.427Z"
      },
      {
        "duration": 12,
        "start_time": "2024-10-21T14:00:54.444Z"
      },
      {
        "duration": 19,
        "start_time": "2024-10-21T14:00:54.457Z"
      },
      {
        "duration": 10,
        "start_time": "2024-10-21T14:00:54.478Z"
      },
      {
        "duration": 161,
        "start_time": "2024-10-21T14:00:54.489Z"
      },
      {
        "duration": 4,
        "start_time": "2024-10-21T14:00:54.651Z"
      },
      {
        "duration": 16,
        "start_time": "2024-10-21T14:00:54.656Z"
      },
      {
        "duration": 17,
        "start_time": "2024-10-21T14:00:54.674Z"
      },
      {
        "duration": 19,
        "start_time": "2024-10-21T14:00:54.692Z"
      },
      {
        "duration": 19,
        "start_time": "2024-10-21T14:00:54.712Z"
      },
      {
        "duration": 11,
        "start_time": "2024-10-21T14:00:54.732Z"
      },
      {
        "duration": 27,
        "start_time": "2024-10-21T14:00:54.745Z"
      },
      {
        "duration": 4,
        "start_time": "2024-10-21T14:00:54.773Z"
      },
      {
        "duration": 24,
        "start_time": "2024-10-21T14:00:54.778Z"
      },
      {
        "duration": 7,
        "start_time": "2024-10-21T14:00:54.803Z"
      },
      {
        "duration": 182,
        "start_time": "2024-10-21T14:00:54.811Z"
      },
      {
        "duration": 21,
        "start_time": "2024-10-21T14:00:54.995Z"
      },
      {
        "duration": 22,
        "start_time": "2024-10-21T14:00:55.017Z"
      },
      {
        "duration": 27,
        "start_time": "2024-10-21T14:00:55.040Z"
      },
      {
        "duration": 40,
        "start_time": "2024-10-21T14:00:55.068Z"
      },
      {
        "duration": 56,
        "start_time": "2024-10-21T14:00:55.110Z"
      },
      {
        "duration": 30,
        "start_time": "2024-10-21T14:00:55.168Z"
      },
      {
        "duration": 33,
        "start_time": "2024-10-21T14:00:55.199Z"
      },
      {
        "duration": 646,
        "start_time": "2024-10-21T14:00:55.233Z"
      },
      {
        "duration": 97,
        "start_time": "2024-10-21T14:00:55.880Z"
      },
      {
        "duration": 0,
        "start_time": "2024-10-21T14:00:55.978Z"
      },
      {
        "duration": 0,
        "start_time": "2024-10-21T14:00:55.980Z"
      },
      {
        "duration": 0,
        "start_time": "2024-10-21T14:00:55.981Z"
      },
      {
        "duration": 0,
        "start_time": "2024-10-21T14:00:55.982Z"
      },
      {
        "duration": 0,
        "start_time": "2024-10-21T14:00:55.983Z"
      },
      {
        "duration": 0,
        "start_time": "2024-10-21T14:00:55.984Z"
      },
      {
        "duration": 0,
        "start_time": "2024-10-21T14:00:55.985Z"
      },
      {
        "duration": 0,
        "start_time": "2024-10-21T14:00:55.986Z"
      },
      {
        "duration": 0,
        "start_time": "2024-10-21T14:00:55.987Z"
      },
      {
        "duration": 0,
        "start_time": "2024-10-21T14:00:56.007Z"
      },
      {
        "duration": 0,
        "start_time": "2024-10-21T14:00:56.008Z"
      },
      {
        "duration": 0,
        "start_time": "2024-10-21T14:00:56.009Z"
      },
      {
        "duration": 0,
        "start_time": "2024-10-21T14:00:56.010Z"
      },
      {
        "duration": 1,
        "start_time": "2024-10-21T14:00:56.011Z"
      },
      {
        "duration": 0,
        "start_time": "2024-10-21T14:00:56.013Z"
      },
      {
        "duration": 0,
        "start_time": "2024-10-21T14:00:56.014Z"
      },
      {
        "duration": 0,
        "start_time": "2024-10-21T14:00:56.015Z"
      },
      {
        "duration": 0,
        "start_time": "2024-10-21T14:00:56.016Z"
      },
      {
        "duration": 0,
        "start_time": "2024-10-21T14:00:56.017Z"
      },
      {
        "duration": 0,
        "start_time": "2024-10-21T14:00:56.018Z"
      },
      {
        "duration": 0,
        "start_time": "2024-10-21T14:00:56.019Z"
      },
      {
        "duration": 0,
        "start_time": "2024-10-21T14:00:56.021Z"
      },
      {
        "duration": 0,
        "start_time": "2024-10-21T14:00:56.022Z"
      },
      {
        "duration": 0,
        "start_time": "2024-10-21T14:00:56.023Z"
      },
      {
        "duration": 0,
        "start_time": "2024-10-21T14:00:56.024Z"
      },
      {
        "duration": 2,
        "start_time": "2024-10-21T14:01:07.378Z"
      },
      {
        "duration": 64,
        "start_time": "2024-10-21T14:01:07.382Z"
      },
      {
        "duration": 102,
        "start_time": "2024-10-21T14:01:07.447Z"
      },
      {
        "duration": 114,
        "start_time": "2024-10-21T14:01:07.551Z"
      },
      {
        "duration": 78,
        "start_time": "2024-10-21T14:01:07.667Z"
      },
      {
        "duration": 159,
        "start_time": "2024-10-21T14:01:07.746Z"
      },
      {
        "duration": 34,
        "start_time": "2024-10-21T14:01:07.906Z"
      },
      {
        "duration": 22,
        "start_time": "2024-10-21T14:01:07.941Z"
      },
      {
        "duration": 37,
        "start_time": "2024-10-21T14:01:07.965Z"
      },
      {
        "duration": 24,
        "start_time": "2024-10-21T14:01:08.004Z"
      },
      {
        "duration": 32,
        "start_time": "2024-10-21T14:01:08.029Z"
      },
      {
        "duration": 25,
        "start_time": "2024-10-21T14:01:08.062Z"
      },
      {
        "duration": 12,
        "start_time": "2024-10-21T14:01:08.089Z"
      },
      {
        "duration": 21,
        "start_time": "2024-10-21T14:01:08.102Z"
      },
      {
        "duration": 80,
        "start_time": "2024-10-21T14:01:08.124Z"
      },
      {
        "duration": 245,
        "start_time": "2024-10-21T14:01:08.206Z"
      },
      {
        "duration": 4,
        "start_time": "2024-10-21T14:01:08.453Z"
      },
      {
        "duration": 35,
        "start_time": "2024-10-21T14:01:08.458Z"
      },
      {
        "duration": 19,
        "start_time": "2024-10-21T14:01:08.494Z"
      },
      {
        "duration": 19,
        "start_time": "2024-10-21T14:01:08.515Z"
      },
      {
        "duration": 6,
        "start_time": "2024-10-21T14:01:08.535Z"
      },
      {
        "duration": 240,
        "start_time": "2024-10-21T14:01:08.542Z"
      },
      {
        "duration": 4,
        "start_time": "2024-10-21T14:01:08.783Z"
      },
      {
        "duration": 17,
        "start_time": "2024-10-21T14:01:08.790Z"
      },
      {
        "duration": 79,
        "start_time": "2024-10-21T14:01:08.809Z"
      },
      {
        "duration": 3,
        "start_time": "2024-10-21T14:02:25.833Z"
      },
      {
        "duration": 3,
        "start_time": "2024-10-21T14:02:48.589Z"
      },
      {
        "duration": 8,
        "start_time": "2024-10-21T14:03:26.661Z"
      },
      {
        "duration": 5,
        "start_time": "2024-10-21T14:03:33.567Z"
      },
      {
        "duration": 80,
        "start_time": "2024-10-21T14:04:07.178Z"
      },
      {
        "duration": 53,
        "start_time": "2024-10-21T14:04:12.278Z"
      },
      {
        "duration": 5,
        "start_time": "2024-10-21T14:04:15.286Z"
      },
      {
        "duration": 117,
        "start_time": "2024-10-21T14:42:56.192Z"
      },
      {
        "duration": 129,
        "start_time": "2024-10-21T14:43:10.273Z"
      },
      {
        "duration": 56,
        "start_time": "2024-10-21T14:43:15.426Z"
      },
      {
        "duration": 92,
        "start_time": "2024-10-21T14:43:23.349Z"
      },
      {
        "duration": 125,
        "start_time": "2024-10-21T14:43:28.715Z"
      },
      {
        "duration": 69,
        "start_time": "2024-10-21T14:44:15.629Z"
      },
      {
        "duration": 117,
        "start_time": "2024-10-21T14:44:31.339Z"
      },
      {
        "duration": 61,
        "start_time": "2024-10-21T14:45:00.524Z"
      },
      {
        "duration": 78,
        "start_time": "2024-10-21T14:45:07.431Z"
      },
      {
        "duration": 77,
        "start_time": "2024-10-21T14:45:41.241Z"
      },
      {
        "duration": 73,
        "start_time": "2024-10-21T14:45:47.732Z"
      },
      {
        "duration": 79,
        "start_time": "2024-10-21T14:45:53.074Z"
      },
      {
        "duration": 79,
        "start_time": "2024-10-21T14:46:18.906Z"
      },
      {
        "duration": 98,
        "start_time": "2024-10-21T14:46:49.520Z"
      },
      {
        "duration": 80,
        "start_time": "2024-10-21T14:46:57.917Z"
      },
      {
        "duration": 87,
        "start_time": "2024-10-21T14:47:20.084Z"
      },
      {
        "duration": 92,
        "start_time": "2024-10-21T14:47:43.890Z"
      },
      {
        "duration": 107,
        "start_time": "2024-10-21T14:47:55.292Z"
      },
      {
        "duration": 68,
        "start_time": "2024-10-21T14:49:34.104Z"
      },
      {
        "duration": 100,
        "start_time": "2024-10-21T14:49:38.087Z"
      },
      {
        "duration": 100,
        "start_time": "2024-10-21T14:49:43.378Z"
      },
      {
        "duration": 155,
        "start_time": "2024-10-21T14:51:05.510Z"
      },
      {
        "duration": 67,
        "start_time": "2024-10-21T14:52:26.126Z"
      },
      {
        "duration": 138,
        "start_time": "2024-10-21T14:52:32.285Z"
      },
      {
        "duration": 215,
        "start_time": "2024-10-21T14:52:40.200Z"
      },
      {
        "duration": 204,
        "start_time": "2024-10-21T14:52:47.934Z"
      },
      {
        "duration": 265,
        "start_time": "2024-10-21T14:58:46.970Z"
      },
      {
        "duration": 65,
        "start_time": "2024-10-21T14:59:31.754Z"
      },
      {
        "duration": 153,
        "start_time": "2024-10-21T14:59:51.898Z"
      },
      {
        "duration": 234,
        "start_time": "2024-10-21T15:00:05.323Z"
      },
      {
        "duration": 211,
        "start_time": "2024-10-21T15:00:21.051Z"
      },
      {
        "duration": 252,
        "start_time": "2024-10-21T15:42:37.745Z"
      },
      {
        "duration": 61,
        "start_time": "2024-10-21T15:42:59.829Z"
      },
      {
        "duration": 189,
        "start_time": "2024-10-21T15:43:04.293Z"
      },
      {
        "duration": 191,
        "start_time": "2024-10-21T15:43:09.046Z"
      },
      {
        "duration": 213,
        "start_time": "2024-10-21T15:43:21.526Z"
      },
      {
        "duration": 186,
        "start_time": "2024-10-21T15:43:28.831Z"
      },
      {
        "duration": 80,
        "start_time": "2024-10-21T15:46:17.817Z"
      },
      {
        "duration": 1120,
        "start_time": "2024-10-21T15:51:58.481Z"
      },
      {
        "duration": 77,
        "start_time": "2024-10-21T15:51:59.603Z"
      },
      {
        "duration": 291,
        "start_time": "2024-10-21T15:51:59.681Z"
      },
      {
        "duration": 843,
        "start_time": "2024-10-21T15:51:59.974Z"
      },
      {
        "duration": 5,
        "start_time": "2024-10-21T15:52:00.818Z"
      },
      {
        "duration": 33,
        "start_time": "2024-10-21T15:52:00.824Z"
      },
      {
        "duration": 60,
        "start_time": "2024-10-21T15:52:00.858Z"
      },
      {
        "duration": 16,
        "start_time": "2024-10-21T15:52:00.919Z"
      },
      {
        "duration": 48,
        "start_time": "2024-10-21T15:52:00.936Z"
      },
      {
        "duration": 100,
        "start_time": "2024-10-21T15:52:00.987Z"
      },
      {
        "duration": 74,
        "start_time": "2024-10-21T15:52:01.088Z"
      },
      {
        "duration": 64,
        "start_time": "2024-10-21T15:52:01.163Z"
      },
      {
        "duration": 33,
        "start_time": "2024-10-21T15:52:01.229Z"
      },
      {
        "duration": 41,
        "start_time": "2024-10-21T15:52:01.263Z"
      },
      {
        "duration": 149,
        "start_time": "2024-10-21T15:52:01.305Z"
      },
      {
        "duration": 7,
        "start_time": "2024-10-21T15:52:01.455Z"
      },
      {
        "duration": 24,
        "start_time": "2024-10-21T15:52:01.463Z"
      },
      {
        "duration": 31,
        "start_time": "2024-10-21T15:52:01.489Z"
      },
      {
        "duration": 4,
        "start_time": "2024-10-21T15:52:01.522Z"
      },
      {
        "duration": 27,
        "start_time": "2024-10-21T15:52:01.528Z"
      },
      {
        "duration": 171,
        "start_time": "2024-10-21T15:52:01.557Z"
      },
      {
        "duration": 129,
        "start_time": "2024-10-21T15:52:01.729Z"
      },
      {
        "duration": 6,
        "start_time": "2024-10-21T15:52:01.860Z"
      },
      {
        "duration": 92,
        "start_time": "2024-10-21T15:52:01.868Z"
      },
      {
        "duration": 171,
        "start_time": "2024-10-21T15:52:01.962Z"
      },
      {
        "duration": 82,
        "start_time": "2024-10-21T15:52:02.135Z"
      },
      {
        "duration": 138,
        "start_time": "2024-10-21T15:52:02.218Z"
      },
      {
        "duration": 93,
        "start_time": "2024-10-21T15:52:02.360Z"
      },
      {
        "duration": 95,
        "start_time": "2024-10-21T15:52:02.455Z"
      },
      {
        "duration": 270,
        "start_time": "2024-10-21T15:52:02.552Z"
      },
      {
        "duration": 12,
        "start_time": "2024-10-21T15:52:02.824Z"
      },
      {
        "duration": 292,
        "start_time": "2024-10-21T15:52:02.838Z"
      },
      {
        "duration": 284,
        "start_time": "2024-10-21T15:52:03.131Z"
      },
      {
        "duration": 2,
        "start_time": "2024-10-21T15:52:03.416Z"
      },
      {
        "duration": 2603,
        "start_time": "2024-10-21T15:52:03.419Z"
      },
      {
        "duration": 11,
        "start_time": "2024-10-21T15:52:06.023Z"
      },
      {
        "duration": 426,
        "start_time": "2024-10-21T15:52:06.035Z"
      },
      {
        "duration": 451,
        "start_time": "2024-10-21T15:52:06.462Z"
      },
      {
        "duration": 25,
        "start_time": "2024-10-21T15:52:06.921Z"
      },
      {
        "duration": 37,
        "start_time": "2024-10-21T15:52:06.948Z"
      },
      {
        "duration": 82,
        "start_time": "2024-10-21T15:52:06.987Z"
      },
      {
        "duration": 50,
        "start_time": "2024-10-21T15:52:07.070Z"
      },
      {
        "duration": 258,
        "start_time": "2024-10-21T15:52:07.122Z"
      },
      {
        "duration": 4,
        "start_time": "2024-10-21T15:52:07.382Z"
      },
      {
        "duration": 186,
        "start_time": "2024-10-21T15:52:07.388Z"
      },
      {
        "duration": 21,
        "start_time": "2024-10-21T15:52:07.576Z"
      },
      {
        "duration": 36,
        "start_time": "2024-10-21T15:52:07.598Z"
      },
      {
        "duration": 59,
        "start_time": "2024-10-21T15:52:07.635Z"
      },
      {
        "duration": 28,
        "start_time": "2024-10-21T15:52:07.695Z"
      },
      {
        "duration": 65,
        "start_time": "2024-10-21T15:52:07.724Z"
      },
      {
        "duration": 27,
        "start_time": "2024-10-21T15:52:07.790Z"
      },
      {
        "duration": 18,
        "start_time": "2024-10-21T15:52:07.818Z"
      },
      {
        "duration": 12,
        "start_time": "2024-10-21T15:52:07.837Z"
      },
      {
        "duration": 17,
        "start_time": "2024-10-21T15:52:07.850Z"
      },
      {
        "duration": 36,
        "start_time": "2024-10-21T15:52:07.869Z"
      },
      {
        "duration": 43,
        "start_time": "2024-10-21T15:52:07.906Z"
      },
      {
        "duration": 148,
        "start_time": "2024-10-21T15:52:07.950Z"
      },
      {
        "duration": 22,
        "start_time": "2024-10-21T15:52:08.099Z"
      },
      {
        "duration": 68,
        "start_time": "2024-10-21T15:52:08.122Z"
      },
      {
        "duration": 93,
        "start_time": "2024-10-21T15:52:08.191Z"
      },
      {
        "duration": 40,
        "start_time": "2024-10-21T15:52:08.285Z"
      },
      {
        "duration": 705,
        "start_time": "2024-10-21T15:52:08.326Z"
      },
      {
        "duration": 3,
        "start_time": "2024-10-21T15:52:09.032Z"
      },
      {
        "duration": 36,
        "start_time": "2024-10-21T15:52:09.036Z"
      },
      {
        "duration": 45,
        "start_time": "2024-10-21T15:52:09.073Z"
      },
      {
        "duration": 26,
        "start_time": "2024-10-21T15:52:09.120Z"
      },
      {
        "duration": 24,
        "start_time": "2024-10-21T15:52:09.147Z"
      },
      {
        "duration": 31,
        "start_time": "2024-10-21T15:52:09.173Z"
      },
      {
        "duration": 24,
        "start_time": "2024-10-21T15:52:09.206Z"
      },
      {
        "duration": 14,
        "start_time": "2024-10-21T15:52:09.231Z"
      },
      {
        "duration": 6,
        "start_time": "2024-10-21T15:52:09.248Z"
      },
      {
        "duration": 238,
        "start_time": "2024-10-21T15:52:09.256Z"
      },
      {
        "duration": 3,
        "start_time": "2024-10-21T15:52:09.496Z"
      },
      {
        "duration": 92,
        "start_time": "2024-10-21T15:52:09.501Z"
      },
      {
        "duration": 32,
        "start_time": "2024-10-21T15:52:09.594Z"
      },
      {
        "duration": 24,
        "start_time": "2024-10-21T15:52:09.628Z"
      },
      {
        "duration": 12,
        "start_time": "2024-10-21T15:52:09.653Z"
      },
      {
        "duration": 7,
        "start_time": "2024-10-21T15:52:09.666Z"
      },
      {
        "duration": 15,
        "start_time": "2024-10-21T15:52:09.674Z"
      },
      {
        "duration": 8,
        "start_time": "2024-10-21T15:52:09.690Z"
      },
      {
        "duration": 276,
        "start_time": "2024-10-21T15:52:09.700Z"
      },
      {
        "duration": 4,
        "start_time": "2024-10-21T15:52:09.981Z"
      },
      {
        "duration": 87,
        "start_time": "2024-10-21T15:52:09.986Z"
      },
      {
        "duration": 29,
        "start_time": "2024-10-21T15:52:10.074Z"
      },
      {
        "duration": 23,
        "start_time": "2024-10-21T15:52:10.104Z"
      },
      {
        "duration": 4,
        "start_time": "2024-10-21T15:52:10.129Z"
      },
      {
        "duration": 260,
        "start_time": "2024-10-21T15:52:10.134Z"
      },
      {
        "duration": 3,
        "start_time": "2024-10-21T15:52:10.395Z"
      },
      {
        "duration": 29,
        "start_time": "2024-10-21T15:52:10.399Z"
      },
      {
        "duration": 8,
        "start_time": "2024-10-21T15:52:10.429Z"
      },
      {
        "duration": 181,
        "start_time": "2024-10-22T05:28:01.295Z"
      },
      {
        "duration": 1440,
        "start_time": "2024-10-22T05:44:08.637Z"
      },
      {
        "duration": 95,
        "start_time": "2024-10-22T05:44:10.079Z"
      },
      {
        "duration": 278,
        "start_time": "2024-10-22T05:44:10.175Z"
      },
      {
        "duration": 905,
        "start_time": "2024-10-22T05:44:10.455Z"
      },
      {
        "duration": 5,
        "start_time": "2024-10-22T05:44:11.362Z"
      },
      {
        "duration": 22,
        "start_time": "2024-10-22T05:44:11.369Z"
      },
      {
        "duration": 33,
        "start_time": "2024-10-22T05:44:11.392Z"
      },
      {
        "duration": 39,
        "start_time": "2024-10-22T05:44:11.427Z"
      },
      {
        "duration": 63,
        "start_time": "2024-10-22T05:44:11.468Z"
      },
      {
        "duration": 10,
        "start_time": "2024-10-22T05:44:11.534Z"
      },
      {
        "duration": 8,
        "start_time": "2024-10-22T05:44:11.546Z"
      },
      {
        "duration": 41,
        "start_time": "2024-10-22T05:44:11.556Z"
      },
      {
        "duration": 21,
        "start_time": "2024-10-22T05:44:11.599Z"
      },
      {
        "duration": 6,
        "start_time": "2024-10-22T05:44:11.622Z"
      },
      {
        "duration": 138,
        "start_time": "2024-10-22T05:44:11.630Z"
      },
      {
        "duration": 9,
        "start_time": "2024-10-22T05:44:11.769Z"
      },
      {
        "duration": 51,
        "start_time": "2024-10-22T05:44:11.779Z"
      },
      {
        "duration": 11,
        "start_time": "2024-10-22T05:44:11.831Z"
      },
      {
        "duration": 6,
        "start_time": "2024-10-22T05:44:11.843Z"
      },
      {
        "duration": 6,
        "start_time": "2024-10-22T05:44:11.850Z"
      },
      {
        "duration": 135,
        "start_time": "2024-10-22T05:44:11.858Z"
      },
      {
        "duration": 144,
        "start_time": "2024-10-22T05:44:11.995Z"
      },
      {
        "duration": 11,
        "start_time": "2024-10-22T05:44:12.141Z"
      },
      {
        "duration": 15,
        "start_time": "2024-10-22T05:44:12.153Z"
      },
      {
        "duration": 12,
        "start_time": "2024-10-22T05:44:12.170Z"
      },
      {
        "duration": 25,
        "start_time": "2024-10-22T05:44:12.184Z"
      },
      {
        "duration": 8,
        "start_time": "2024-10-22T05:44:12.210Z"
      },
      {
        "duration": 31,
        "start_time": "2024-10-22T05:44:12.221Z"
      },
      {
        "duration": 3,
        "start_time": "2024-10-22T05:44:12.254Z"
      },
      {
        "duration": 131,
        "start_time": "2024-10-22T05:44:12.259Z"
      },
      {
        "duration": 15,
        "start_time": "2024-10-22T05:44:12.391Z"
      },
      {
        "duration": 304,
        "start_time": "2024-10-22T05:44:12.408Z"
      },
      {
        "duration": 303,
        "start_time": "2024-10-22T05:44:12.713Z"
      },
      {
        "duration": 4,
        "start_time": "2024-10-22T05:44:13.017Z"
      },
      {
        "duration": 2860,
        "start_time": "2024-10-22T05:44:13.022Z"
      },
      {
        "duration": 12,
        "start_time": "2024-10-22T05:44:15.884Z"
      },
      {
        "duration": 384,
        "start_time": "2024-10-22T05:44:15.898Z"
      },
      {
        "duration": 451,
        "start_time": "2024-10-22T05:44:16.284Z"
      },
      {
        "duration": 25,
        "start_time": "2024-10-22T05:44:16.737Z"
      },
      {
        "duration": 8,
        "start_time": "2024-10-22T05:44:16.764Z"
      },
      {
        "duration": 11,
        "start_time": "2024-10-22T05:44:16.774Z"
      },
      {
        "duration": 12,
        "start_time": "2024-10-22T05:44:16.786Z"
      },
      {
        "duration": 206,
        "start_time": "2024-10-22T05:44:16.799Z"
      },
      {
        "duration": 3,
        "start_time": "2024-10-22T05:44:17.007Z"
      },
      {
        "duration": 47,
        "start_time": "2024-10-22T05:44:17.011Z"
      },
      {
        "duration": 10,
        "start_time": "2024-10-22T05:44:17.060Z"
      },
      {
        "duration": 7,
        "start_time": "2024-10-22T05:44:17.072Z"
      },
      {
        "duration": 10,
        "start_time": "2024-10-22T05:44:17.080Z"
      },
      {
        "duration": 9,
        "start_time": "2024-10-22T05:44:17.092Z"
      },
      {
        "duration": 32,
        "start_time": "2024-10-22T05:44:17.102Z"
      },
      {
        "duration": 18,
        "start_time": "2024-10-22T05:44:17.136Z"
      },
      {
        "duration": 14,
        "start_time": "2024-10-22T05:44:19.315Z"
      },
      {
        "duration": 11,
        "start_time": "2024-10-22T05:44:46.883Z"
      },
      {
        "duration": 3,
        "start_time": "2024-10-22T05:45:12.762Z"
      },
      {
        "duration": 3,
        "start_time": "2024-10-22T05:45:13.126Z"
      },
      {
        "duration": 4,
        "start_time": "2024-10-22T05:45:13.748Z"
      },
      {
        "duration": 9,
        "start_time": "2024-10-22T05:45:14.276Z"
      },
      {
        "duration": 11,
        "start_time": "2024-10-22T05:45:14.875Z"
      },
      {
        "duration": 4,
        "start_time": "2024-10-22T05:45:15.627Z"
      },
      {
        "duration": 12,
        "start_time": "2024-10-22T05:45:16.076Z"
      },
      {
        "duration": 4,
        "start_time": "2024-10-22T05:45:16.963Z"
      },
      {
        "duration": 11,
        "start_time": "2024-10-22T05:45:17.893Z"
      },
      {
        "duration": 14,
        "start_time": "2024-10-22T05:45:40.422Z"
      },
      {
        "duration": 12,
        "start_time": "2024-10-22T05:45:55.813Z"
      },
      {
        "duration": 102,
        "start_time": "2024-10-22T05:47:52.734Z"
      },
      {
        "duration": 1217,
        "start_time": "2024-10-22T05:49:24.839Z"
      },
      {
        "duration": 64,
        "start_time": "2024-10-22T05:49:26.058Z"
      },
      {
        "duration": 271,
        "start_time": "2024-10-22T05:49:26.123Z"
      },
      {
        "duration": 856,
        "start_time": "2024-10-22T05:49:26.396Z"
      },
      {
        "duration": 4,
        "start_time": "2024-10-22T05:49:27.254Z"
      },
      {
        "duration": 12,
        "start_time": "2024-10-22T05:49:27.260Z"
      },
      {
        "duration": 29,
        "start_time": "2024-10-22T05:49:27.274Z"
      },
      {
        "duration": 18,
        "start_time": "2024-10-22T05:49:27.304Z"
      },
      {
        "duration": 41,
        "start_time": "2024-10-22T05:49:27.324Z"
      },
      {
        "duration": 9,
        "start_time": "2024-10-22T05:49:27.367Z"
      },
      {
        "duration": 13,
        "start_time": "2024-10-22T05:49:27.378Z"
      },
      {
        "duration": 13,
        "start_time": "2024-10-22T05:49:27.393Z"
      },
      {
        "duration": 17,
        "start_time": "2024-10-22T05:49:27.409Z"
      },
      {
        "duration": 26,
        "start_time": "2024-10-22T05:49:27.427Z"
      },
      {
        "duration": 139,
        "start_time": "2024-10-22T05:49:27.455Z"
      },
      {
        "duration": 8,
        "start_time": "2024-10-22T05:49:27.596Z"
      },
      {
        "duration": 11,
        "start_time": "2024-10-22T05:49:27.605Z"
      },
      {
        "duration": 12,
        "start_time": "2024-10-22T05:49:27.617Z"
      },
      {
        "duration": 25,
        "start_time": "2024-10-22T05:49:27.630Z"
      },
      {
        "duration": 61,
        "start_time": "2024-10-22T05:49:27.657Z"
      },
      {
        "duration": 126,
        "start_time": "2024-10-22T05:49:27.719Z"
      },
      {
        "duration": 130,
        "start_time": "2024-10-22T05:49:27.847Z"
      },
      {
        "duration": 5,
        "start_time": "2024-10-22T05:49:27.979Z"
      },
      {
        "duration": 14,
        "start_time": "2024-10-22T05:49:27.986Z"
      },
      {
        "duration": 12,
        "start_time": "2024-10-22T05:49:28.002Z"
      },
      {
        "duration": 47,
        "start_time": "2024-10-22T05:49:28.016Z"
      },
      {
        "duration": 7,
        "start_time": "2024-10-22T05:49:28.065Z"
      },
      {
        "duration": 3,
        "start_time": "2024-10-22T05:49:28.073Z"
      },
      {
        "duration": 4,
        "start_time": "2024-10-22T05:49:28.078Z"
      },
      {
        "duration": 144,
        "start_time": "2024-10-22T05:49:28.083Z"
      },
      {
        "duration": 23,
        "start_time": "2024-10-22T05:49:28.229Z"
      },
      {
        "duration": 301,
        "start_time": "2024-10-22T05:49:28.254Z"
      },
      {
        "duration": 308,
        "start_time": "2024-10-22T05:49:28.556Z"
      },
      {
        "duration": 3,
        "start_time": "2024-10-22T05:49:28.866Z"
      },
      {
        "duration": 2829,
        "start_time": "2024-10-22T05:49:28.871Z"
      },
      {
        "duration": 12,
        "start_time": "2024-10-22T05:49:31.703Z"
      },
      {
        "duration": 389,
        "start_time": "2024-10-22T05:49:31.716Z"
      },
      {
        "duration": 467,
        "start_time": "2024-10-22T05:49:32.106Z"
      },
      {
        "duration": 21,
        "start_time": "2024-10-22T05:49:32.575Z"
      },
      {
        "duration": 7,
        "start_time": "2024-10-22T05:49:32.601Z"
      },
      {
        "duration": 31,
        "start_time": "2024-10-22T05:49:32.610Z"
      },
      {
        "duration": 20,
        "start_time": "2024-10-22T05:49:32.642Z"
      },
      {
        "duration": 193,
        "start_time": "2024-10-22T05:49:32.663Z"
      },
      {
        "duration": 5,
        "start_time": "2024-10-22T05:49:32.857Z"
      },
      {
        "duration": 55,
        "start_time": "2024-10-22T05:49:32.863Z"
      },
      {
        "duration": 5,
        "start_time": "2024-10-22T05:49:32.920Z"
      },
      {
        "duration": 10,
        "start_time": "2024-10-22T05:49:32.927Z"
      },
      {
        "duration": 22,
        "start_time": "2024-10-22T05:49:32.939Z"
      },
      {
        "duration": 25,
        "start_time": "2024-10-22T05:49:32.963Z"
      },
      {
        "duration": 43,
        "start_time": "2024-10-22T05:49:32.990Z"
      },
      {
        "duration": 90,
        "start_time": "2024-10-22T05:49:33.035Z"
      },
      {
        "duration": 9,
        "start_time": "2024-10-22T05:49:33.127Z"
      },
      {
        "duration": 16,
        "start_time": "2024-10-22T05:49:33.138Z"
      },
      {
        "duration": 7,
        "start_time": "2024-10-22T05:49:33.155Z"
      },
      {
        "duration": 4,
        "start_time": "2024-10-22T05:49:33.164Z"
      },
      {
        "duration": 57,
        "start_time": "2024-10-22T05:49:33.170Z"
      },
      {
        "duration": 30,
        "start_time": "2024-10-22T05:49:33.229Z"
      },
      {
        "duration": 10,
        "start_time": "2024-10-22T05:49:33.261Z"
      },
      {
        "duration": 21,
        "start_time": "2024-10-22T05:49:33.273Z"
      },
      {
        "duration": 18,
        "start_time": "2024-10-22T05:49:33.296Z"
      },
      {
        "duration": 12,
        "start_time": "2024-10-22T05:49:33.316Z"
      },
      {
        "duration": 18,
        "start_time": "2024-10-22T05:49:33.329Z"
      },
      {
        "duration": 866,
        "start_time": "2024-10-22T05:49:33.348Z"
      },
      {
        "duration": 3,
        "start_time": "2024-10-22T05:49:34.216Z"
      },
      {
        "duration": 12,
        "start_time": "2024-10-22T05:49:34.220Z"
      },
      {
        "duration": 21,
        "start_time": "2024-10-22T05:49:34.234Z"
      },
      {
        "duration": 10,
        "start_time": "2024-10-22T05:49:34.256Z"
      },
      {
        "duration": 7,
        "start_time": "2024-10-22T05:49:34.267Z"
      },
      {
        "duration": 5,
        "start_time": "2024-10-22T05:49:34.276Z"
      },
      {
        "duration": 23,
        "start_time": "2024-10-22T05:49:34.282Z"
      },
      {
        "duration": 15,
        "start_time": "2024-10-22T05:49:34.307Z"
      },
      {
        "duration": 5,
        "start_time": "2024-10-22T05:49:34.324Z"
      },
      {
        "duration": 237,
        "start_time": "2024-10-22T05:49:34.331Z"
      },
      {
        "duration": 5,
        "start_time": "2024-10-22T05:49:34.569Z"
      },
      {
        "duration": 6,
        "start_time": "2024-10-22T05:49:34.575Z"
      },
      {
        "duration": 13,
        "start_time": "2024-10-22T05:49:34.582Z"
      },
      {
        "duration": 32,
        "start_time": "2024-10-22T05:49:34.597Z"
      },
      {
        "duration": 5,
        "start_time": "2024-10-22T05:49:34.631Z"
      },
      {
        "duration": 14,
        "start_time": "2024-10-22T05:49:34.638Z"
      },
      {
        "duration": 9,
        "start_time": "2024-10-22T05:49:34.654Z"
      },
      {
        "duration": 105,
        "start_time": "2024-10-22T05:49:45.620Z"
      },
      {
        "duration": 5,
        "start_time": "2024-10-22T05:49:51.290Z"
      },
      {
        "duration": 5,
        "start_time": "2024-10-22T05:49:51.687Z"
      },
      {
        "duration": 1277,
        "start_time": "2024-10-22T07:29:08.458Z"
      },
      {
        "duration": 101,
        "start_time": "2024-10-22T07:29:09.737Z"
      },
      {
        "duration": 253,
        "start_time": "2024-10-22T07:29:09.839Z"
      },
      {
        "duration": 913,
        "start_time": "2024-10-22T07:29:10.094Z"
      },
      {
        "duration": 6,
        "start_time": "2024-10-22T07:29:11.009Z"
      },
      {
        "duration": 9,
        "start_time": "2024-10-22T07:29:11.017Z"
      },
      {
        "duration": 26,
        "start_time": "2024-10-22T07:29:11.028Z"
      },
      {
        "duration": 16,
        "start_time": "2024-10-22T07:29:11.055Z"
      },
      {
        "duration": 46,
        "start_time": "2024-10-22T07:29:11.072Z"
      },
      {
        "duration": 11,
        "start_time": "2024-10-22T07:29:11.121Z"
      },
      {
        "duration": 15,
        "start_time": "2024-10-22T07:29:11.134Z"
      },
      {
        "duration": 8,
        "start_time": "2024-10-22T07:29:11.151Z"
      },
      {
        "duration": 32,
        "start_time": "2024-10-22T07:29:11.160Z"
      },
      {
        "duration": 5,
        "start_time": "2024-10-22T07:29:11.193Z"
      },
      {
        "duration": 149,
        "start_time": "2024-10-22T07:29:11.199Z"
      },
      {
        "duration": 44,
        "start_time": "2024-10-22T07:29:11.349Z"
      },
      {
        "duration": 32,
        "start_time": "2024-10-22T07:29:11.395Z"
      },
      {
        "duration": 28,
        "start_time": "2024-10-22T07:29:11.429Z"
      },
      {
        "duration": 8,
        "start_time": "2024-10-22T07:29:11.459Z"
      },
      {
        "duration": 21,
        "start_time": "2024-10-22T07:29:11.468Z"
      },
      {
        "duration": 150,
        "start_time": "2024-10-22T07:29:11.491Z"
      },
      {
        "duration": 124,
        "start_time": "2024-10-22T07:29:11.643Z"
      },
      {
        "duration": 5,
        "start_time": "2024-10-22T07:29:11.768Z"
      },
      {
        "duration": 106,
        "start_time": "2024-10-22T07:29:11.774Z"
      },
      {
        "duration": 40,
        "start_time": "2024-10-22T07:29:11.882Z"
      },
      {
        "duration": 26,
        "start_time": "2024-10-22T07:29:11.924Z"
      },
      {
        "duration": 25,
        "start_time": "2024-10-22T07:29:11.952Z"
      },
      {
        "duration": 13,
        "start_time": "2024-10-22T07:29:11.981Z"
      },
      {
        "duration": 46,
        "start_time": "2024-10-22T07:29:11.995Z"
      },
      {
        "duration": 123,
        "start_time": "2024-10-22T07:29:12.042Z"
      },
      {
        "duration": 13,
        "start_time": "2024-10-22T07:29:12.166Z"
      },
      {
        "duration": 339,
        "start_time": "2024-10-22T07:29:12.180Z"
      },
      {
        "duration": 279,
        "start_time": "2024-10-22T07:29:12.521Z"
      },
      {
        "duration": 3,
        "start_time": "2024-10-22T07:29:12.806Z"
      },
      {
        "duration": 2546,
        "start_time": "2024-10-22T07:29:12.811Z"
      },
      {
        "duration": 11,
        "start_time": "2024-10-22T07:29:15.359Z"
      },
      {
        "duration": 437,
        "start_time": "2024-10-22T07:29:15.371Z"
      },
      {
        "duration": 462,
        "start_time": "2024-10-22T07:29:15.810Z"
      },
      {
        "duration": 17,
        "start_time": "2024-10-22T07:29:16.274Z"
      },
      {
        "duration": 18,
        "start_time": "2024-10-22T07:29:16.293Z"
      },
      {
        "duration": 20,
        "start_time": "2024-10-22T07:29:16.312Z"
      },
      {
        "duration": 9,
        "start_time": "2024-10-22T07:29:16.333Z"
      },
      {
        "duration": 170,
        "start_time": "2024-10-22T07:29:16.343Z"
      },
      {
        "duration": 4,
        "start_time": "2024-10-22T07:29:16.515Z"
      },
      {
        "duration": 65,
        "start_time": "2024-10-22T07:29:16.521Z"
      },
      {
        "duration": 58,
        "start_time": "2024-10-22T07:29:16.587Z"
      },
      {
        "duration": 48,
        "start_time": "2024-10-22T07:29:16.646Z"
      },
      {
        "duration": 102,
        "start_time": "2024-10-22T07:29:16.696Z"
      },
      {
        "duration": 35,
        "start_time": "2024-10-22T07:29:16.799Z"
      },
      {
        "duration": 39,
        "start_time": "2024-10-22T07:29:16.835Z"
      },
      {
        "duration": 3,
        "start_time": "2024-10-22T07:29:16.876Z"
      },
      {
        "duration": 103,
        "start_time": "2024-10-22T07:29:16.881Z"
      },
      {
        "duration": 33,
        "start_time": "2024-10-22T07:29:16.986Z"
      },
      {
        "duration": 16,
        "start_time": "2024-10-22T07:29:17.021Z"
      },
      {
        "duration": 14,
        "start_time": "2024-10-22T07:29:17.039Z"
      },
      {
        "duration": 23,
        "start_time": "2024-10-22T07:29:17.055Z"
      },
      {
        "duration": 30,
        "start_time": "2024-10-22T07:29:17.079Z"
      },
      {
        "duration": 17,
        "start_time": "2024-10-22T07:29:17.110Z"
      },
      {
        "duration": 21,
        "start_time": "2024-10-22T07:29:17.128Z"
      },
      {
        "duration": 7,
        "start_time": "2024-10-22T07:29:17.150Z"
      },
      {
        "duration": 14,
        "start_time": "2024-10-22T07:29:17.158Z"
      },
      {
        "duration": 28,
        "start_time": "2024-10-22T07:29:17.173Z"
      },
      {
        "duration": 755,
        "start_time": "2024-10-22T07:29:17.203Z"
      },
      {
        "duration": 2,
        "start_time": "2024-10-22T07:29:17.959Z"
      },
      {
        "duration": 25,
        "start_time": "2024-10-22T07:29:17.962Z"
      },
      {
        "duration": 44,
        "start_time": "2024-10-22T07:29:17.988Z"
      },
      {
        "duration": 11,
        "start_time": "2024-10-22T07:29:18.034Z"
      },
      {
        "duration": 27,
        "start_time": "2024-10-22T07:29:18.047Z"
      },
      {
        "duration": 20,
        "start_time": "2024-10-22T07:29:18.075Z"
      },
      {
        "duration": 126,
        "start_time": "2024-10-22T07:29:18.096Z"
      },
      {
        "duration": 24,
        "start_time": "2024-10-22T07:29:18.223Z"
      },
      {
        "duration": 32,
        "start_time": "2024-10-22T07:29:18.248Z"
      },
      {
        "duration": 252,
        "start_time": "2024-10-22T07:29:18.282Z"
      },
      {
        "duration": 3,
        "start_time": "2024-10-22T07:29:18.536Z"
      },
      {
        "duration": 19,
        "start_time": "2024-10-22T07:29:18.541Z"
      },
      {
        "duration": 8,
        "start_time": "2024-10-22T07:29:18.561Z"
      },
      {
        "duration": 16,
        "start_time": "2024-10-22T07:29:18.570Z"
      },
      {
        "duration": 37,
        "start_time": "2024-10-22T07:29:18.587Z"
      },
      {
        "duration": 9,
        "start_time": "2024-10-22T07:29:18.626Z"
      },
      {
        "duration": 10,
        "start_time": "2024-10-22T07:29:18.636Z"
      },
      {
        "duration": 6,
        "start_time": "2024-10-22T07:29:18.647Z"
      },
      {
        "duration": 393,
        "start_time": "2024-10-22T07:29:18.657Z"
      },
      {
        "duration": 57,
        "start_time": "2024-10-22T07:29:19.052Z"
      },
      {
        "duration": 17,
        "start_time": "2024-10-22T07:29:19.111Z"
      },
      {
        "duration": 7,
        "start_time": "2024-10-22T07:29:19.130Z"
      },
      {
        "duration": 11,
        "start_time": "2024-10-22T07:29:19.139Z"
      },
      {
        "duration": 9,
        "start_time": "2024-10-22T07:29:19.152Z"
      },
      {
        "duration": 319,
        "start_time": "2024-10-22T07:29:19.164Z"
      },
      {
        "duration": 3,
        "start_time": "2024-10-22T07:29:19.485Z"
      },
      {
        "duration": 6,
        "start_time": "2024-10-22T07:29:19.489Z"
      },
      {
        "duration": 24,
        "start_time": "2024-10-22T07:29:19.497Z"
      },
      {
        "duration": 6,
        "start_time": "2024-10-22T07:30:32.729Z"
      },
      {
        "duration": 3,
        "start_time": "2024-10-22T07:30:37.262Z"
      },
      {
        "duration": 95,
        "start_time": "2024-10-22T07:30:37.267Z"
      },
      {
        "duration": 150,
        "start_time": "2024-10-22T07:30:37.364Z"
      },
      {
        "duration": 913,
        "start_time": "2024-10-22T07:30:37.516Z"
      },
      {
        "duration": 4,
        "start_time": "2024-10-22T07:30:38.432Z"
      },
      {
        "duration": 12,
        "start_time": "2024-10-22T07:30:38.437Z"
      },
      {
        "duration": 29,
        "start_time": "2024-10-22T07:30:38.451Z"
      },
      {
        "duration": 46,
        "start_time": "2024-10-22T07:30:38.482Z"
      },
      {
        "duration": 15,
        "start_time": "2024-10-22T07:30:38.531Z"
      },
      {
        "duration": 7,
        "start_time": "2024-10-22T07:30:38.548Z"
      },
      {
        "duration": 10,
        "start_time": "2024-10-22T07:30:38.557Z"
      },
      {
        "duration": 7,
        "start_time": "2024-10-22T07:30:38.568Z"
      },
      {
        "duration": 35,
        "start_time": "2024-10-22T07:30:38.576Z"
      },
      {
        "duration": 8,
        "start_time": "2024-10-22T07:30:38.613Z"
      },
      {
        "duration": 134,
        "start_time": "2024-10-22T07:30:38.623Z"
      },
      {
        "duration": 6,
        "start_time": "2024-10-22T07:30:38.758Z"
      },
      {
        "duration": 9,
        "start_time": "2024-10-22T07:30:38.765Z"
      },
      {
        "duration": 12,
        "start_time": "2024-10-22T07:30:38.775Z"
      },
      {
        "duration": 22,
        "start_time": "2024-10-22T07:30:38.788Z"
      },
      {
        "duration": 11,
        "start_time": "2024-10-22T07:30:38.812Z"
      },
      {
        "duration": 140,
        "start_time": "2024-10-22T07:30:38.825Z"
      },
      {
        "duration": 134,
        "start_time": "2024-10-22T07:30:38.966Z"
      },
      {
        "duration": 6,
        "start_time": "2024-10-22T07:30:40.704Z"
      },
      {
        "duration": 8,
        "start_time": "2024-10-22T07:32:10.305Z"
      },
      {
        "duration": 11,
        "start_time": "2024-10-22T07:33:47.198Z"
      },
      {
        "duration": 18,
        "start_time": "2024-10-22T07:34:15.700Z"
      },
      {
        "duration": 3,
        "start_time": "2024-10-22T07:35:14.437Z"
      },
      {
        "duration": 14,
        "start_time": "2024-10-22T07:35:26.577Z"
      },
      {
        "duration": 4,
        "start_time": "2024-10-22T07:35:27.119Z"
      },
      {
        "duration": 14,
        "start_time": "2024-10-22T07:36:03.215Z"
      },
      {
        "duration": 17,
        "start_time": "2024-10-22T07:36:53.704Z"
      },
      {
        "duration": 3,
        "start_time": "2024-10-22T07:36:59.511Z"
      },
      {
        "duration": 3,
        "start_time": "2024-10-22T07:36:59.970Z"
      },
      {
        "duration": 146,
        "start_time": "2024-10-22T07:37:01.640Z"
      },
      {
        "duration": 105,
        "start_time": "2024-10-22T07:38:46.370Z"
      },
      {
        "duration": 16,
        "start_time": "2024-10-22T07:38:49.991Z"
      },
      {
        "duration": 4,
        "start_time": "2024-10-22T07:38:54.264Z"
      },
      {
        "duration": 6,
        "start_time": "2024-10-22T07:39:42.792Z"
      },
      {
        "duration": 134,
        "start_time": "2024-10-22T07:39:54.994Z"
      },
      {
        "duration": 17,
        "start_time": "2024-10-22T07:42:42.761Z"
      },
      {
        "duration": 17,
        "start_time": "2024-10-22T07:42:45.323Z"
      },
      {
        "duration": 17,
        "start_time": "2024-10-22T07:43:10.714Z"
      },
      {
        "duration": 10,
        "start_time": "2024-10-22T07:43:12.482Z"
      },
      {
        "duration": 13,
        "start_time": "2024-10-22T07:43:42.713Z"
      },
      {
        "duration": 8,
        "start_time": "2024-10-22T07:43:48.640Z"
      },
      {
        "duration": 266,
        "start_time": "2024-10-22T07:43:57.100Z"
      },
      {
        "duration": 244,
        "start_time": "2024-10-22T07:44:00.793Z"
      },
      {
        "duration": 284,
        "start_time": "2024-10-22T07:44:21.700Z"
      },
      {
        "duration": 274,
        "start_time": "2024-10-22T07:44:34.367Z"
      },
      {
        "duration": 12,
        "start_time": "2024-10-22T07:48:02.504Z"
      },
      {
        "duration": 7,
        "start_time": "2024-10-22T07:51:36.458Z"
      },
      {
        "duration": 7,
        "start_time": "2024-10-22T07:51:47.109Z"
      },
      {
        "duration": 9,
        "start_time": "2024-10-22T07:52:43.475Z"
      },
      {
        "duration": 115,
        "start_time": "2024-10-22T07:53:14.672Z"
      },
      {
        "duration": 7,
        "start_time": "2024-10-22T07:53:29.533Z"
      },
      {
        "duration": 9,
        "start_time": "2024-10-22T07:53:40.342Z"
      },
      {
        "duration": 15,
        "start_time": "2024-10-22T07:54:00.652Z"
      },
      {
        "duration": 5,
        "start_time": "2024-10-22T07:54:09.192Z"
      },
      {
        "duration": 10,
        "start_time": "2024-10-22T07:54:14.356Z"
      },
      {
        "duration": 5,
        "start_time": "2024-10-22T07:54:14.872Z"
      },
      {
        "duration": 7,
        "start_time": "2024-10-22T07:54:29.525Z"
      },
      {
        "duration": 4,
        "start_time": "2024-10-22T07:54:30.383Z"
      },
      {
        "duration": 7,
        "start_time": "2024-10-22T07:54:40.782Z"
      },
      {
        "duration": 56,
        "start_time": "2024-10-22T07:54:58.549Z"
      },
      {
        "duration": 17,
        "start_time": "2024-10-22T07:55:01.565Z"
      },
      {
        "duration": 4,
        "start_time": "2024-10-22T07:55:11.555Z"
      },
      {
        "duration": 4,
        "start_time": "2024-10-22T07:55:17.843Z"
      },
      {
        "duration": 5,
        "start_time": "2024-10-22T07:55:25.286Z"
      },
      {
        "duration": 7,
        "start_time": "2024-10-22T07:55:30.748Z"
      },
      {
        "duration": 3,
        "start_time": "2024-10-22T07:55:34.489Z"
      },
      {
        "duration": 6,
        "start_time": "2024-10-22T07:55:41.872Z"
      },
      {
        "duration": 4,
        "start_time": "2024-10-22T07:55:43.464Z"
      },
      {
        "duration": 4,
        "start_time": "2024-10-22T07:55:45.041Z"
      },
      {
        "duration": 7,
        "start_time": "2024-10-22T07:55:49.761Z"
      },
      {
        "duration": 4,
        "start_time": "2024-10-22T07:55:52.539Z"
      },
      {
        "duration": 3,
        "start_time": "2024-10-22T07:56:15.156Z"
      },
      {
        "duration": 6,
        "start_time": "2024-10-22T07:56:22.980Z"
      },
      {
        "duration": 4,
        "start_time": "2024-10-22T07:56:26.302Z"
      },
      {
        "duration": 3,
        "start_time": "2024-10-22T07:56:28.338Z"
      },
      {
        "duration": 4,
        "start_time": "2024-10-22T07:56:32.840Z"
      },
      {
        "duration": 136,
        "start_time": "2024-10-22T07:56:39.162Z"
      },
      {
        "duration": 109,
        "start_time": "2024-10-22T07:58:24.749Z"
      },
      {
        "duration": 117,
        "start_time": "2024-10-22T07:58:57.225Z"
      },
      {
        "duration": 148,
        "start_time": "2024-10-22T08:10:12.062Z"
      },
      {
        "duration": 148,
        "start_time": "2024-10-22T08:10:20.454Z"
      },
      {
        "duration": 16,
        "start_time": "2024-10-22T08:12:57.195Z"
      },
      {
        "duration": 1025,
        "start_time": "2024-10-22T08:13:07.362Z"
      },
      {
        "duration": 73,
        "start_time": "2024-10-22T08:13:08.389Z"
      },
      {
        "duration": 408,
        "start_time": "2024-10-22T08:13:08.463Z"
      },
      {
        "duration": 872,
        "start_time": "2024-10-22T08:13:08.873Z"
      },
      {
        "duration": 5,
        "start_time": "2024-10-22T08:13:09.746Z"
      },
      {
        "duration": 16,
        "start_time": "2024-10-22T08:13:09.752Z"
      },
      {
        "duration": 27,
        "start_time": "2024-10-22T08:13:09.769Z"
      },
      {
        "duration": 24,
        "start_time": "2024-10-22T08:13:09.797Z"
      },
      {
        "duration": 23,
        "start_time": "2024-10-22T08:13:09.823Z"
      },
      {
        "duration": 8,
        "start_time": "2024-10-22T08:13:09.848Z"
      },
      {
        "duration": 20,
        "start_time": "2024-10-22T08:13:09.857Z"
      },
      {
        "duration": 13,
        "start_time": "2024-10-22T08:13:09.878Z"
      },
      {
        "duration": 18,
        "start_time": "2024-10-22T08:13:09.893Z"
      },
      {
        "duration": 9,
        "start_time": "2024-10-22T08:13:09.913Z"
      },
      {
        "duration": 133,
        "start_time": "2024-10-22T08:13:09.924Z"
      },
      {
        "duration": 8,
        "start_time": "2024-10-22T08:13:10.059Z"
      },
      {
        "duration": 46,
        "start_time": "2024-10-22T08:13:10.069Z"
      },
      {
        "duration": 39,
        "start_time": "2024-10-22T08:13:10.117Z"
      },
      {
        "duration": 27,
        "start_time": "2024-10-22T08:13:10.157Z"
      },
      {
        "duration": 15,
        "start_time": "2024-10-22T08:13:10.186Z"
      },
      {
        "duration": 134,
        "start_time": "2024-10-22T08:13:10.202Z"
      },
      {
        "duration": 123,
        "start_time": "2024-10-22T08:13:10.337Z"
      },
      {
        "duration": 6,
        "start_time": "2024-10-22T08:13:10.462Z"
      },
      {
        "duration": 38,
        "start_time": "2024-10-22T08:13:10.469Z"
      },
      {
        "duration": 12,
        "start_time": "2024-10-22T08:13:10.508Z"
      },
      {
        "duration": 31,
        "start_time": "2024-10-22T08:13:10.522Z"
      },
      {
        "duration": 15,
        "start_time": "2024-10-22T08:13:10.555Z"
      },
      {
        "duration": 4,
        "start_time": "2024-10-22T08:13:10.574Z"
      },
      {
        "duration": 17,
        "start_time": "2024-10-22T08:13:10.579Z"
      },
      {
        "duration": 24,
        "start_time": "2024-10-22T08:13:10.598Z"
      },
      {
        "duration": 19,
        "start_time": "2024-10-22T08:13:10.623Z"
      },
      {
        "duration": 40,
        "start_time": "2024-10-22T08:13:10.643Z"
      },
      {
        "duration": 12,
        "start_time": "2024-10-22T08:13:10.684Z"
      },
      {
        "duration": 105,
        "start_time": "2024-10-22T08:13:10.697Z"
      },
      {
        "duration": 11,
        "start_time": "2024-10-22T08:13:10.804Z"
      },
      {
        "duration": 32,
        "start_time": "2024-10-22T08:13:10.816Z"
      },
      {
        "duration": 240,
        "start_time": "2024-10-22T08:13:10.850Z"
      },
      {
        "duration": 286,
        "start_time": "2024-10-22T08:13:11.091Z"
      },
      {
        "duration": 4,
        "start_time": "2024-10-22T08:13:11.379Z"
      },
      {
        "duration": 2713,
        "start_time": "2024-10-22T08:13:11.385Z"
      },
      {
        "duration": 15,
        "start_time": "2024-10-22T08:13:14.100Z"
      },
      {
        "duration": 444,
        "start_time": "2024-10-22T08:13:14.116Z"
      },
      {
        "duration": 539,
        "start_time": "2024-10-22T08:13:14.562Z"
      },
      {
        "duration": 12,
        "start_time": "2024-10-22T08:13:15.103Z"
      },
      {
        "duration": 282,
        "start_time": "2024-10-22T08:13:15.117Z"
      },
      {
        "duration": 111,
        "start_time": "2024-10-22T08:13:15.400Z"
      },
      {
        "duration": 136,
        "start_time": "2024-10-22T08:13:15.512Z"
      },
      {
        "duration": 14,
        "start_time": "2024-10-22T08:13:15.650Z"
      },
      {
        "duration": 22,
        "start_time": "2024-10-22T08:13:15.665Z"
      },
      {
        "duration": 25,
        "start_time": "2024-10-22T08:13:15.688Z"
      },
      {
        "duration": 156,
        "start_time": "2024-10-22T08:13:15.714Z"
      },
      {
        "duration": 4,
        "start_time": "2024-10-22T08:13:15.871Z"
      },
      {
        "duration": 51,
        "start_time": "2024-10-22T08:13:15.876Z"
      },
      {
        "duration": 27,
        "start_time": "2024-10-22T08:13:15.929Z"
      },
      {
        "duration": 13,
        "start_time": "2024-10-22T08:13:15.957Z"
      },
      {
        "duration": 106,
        "start_time": "2024-10-22T08:13:15.971Z"
      },
      {
        "duration": 25,
        "start_time": "2024-10-22T08:13:16.079Z"
      },
      {
        "duration": 40,
        "start_time": "2024-10-22T08:13:16.106Z"
      },
      {
        "duration": 67,
        "start_time": "2024-10-22T08:13:16.148Z"
      },
      {
        "duration": 12,
        "start_time": "2024-10-22T08:13:16.217Z"
      },
      {
        "duration": 20,
        "start_time": "2024-10-22T08:13:16.230Z"
      },
      {
        "duration": 5,
        "start_time": "2024-10-22T08:13:16.252Z"
      },
      {
        "duration": 21,
        "start_time": "2024-10-22T08:13:16.258Z"
      },
      {
        "duration": 12,
        "start_time": "2024-10-22T08:13:16.280Z"
      },
      {
        "duration": 18,
        "start_time": "2024-10-22T08:13:16.293Z"
      },
      {
        "duration": 22,
        "start_time": "2024-10-22T08:13:16.312Z"
      },
      {
        "duration": 7,
        "start_time": "2024-10-22T08:13:16.336Z"
      },
      {
        "duration": 19,
        "start_time": "2024-10-22T08:13:16.344Z"
      },
      {
        "duration": 112,
        "start_time": "2024-10-22T08:13:16.364Z"
      },
      {
        "duration": 49,
        "start_time": "2024-10-22T08:13:16.478Z"
      },
      {
        "duration": 42,
        "start_time": "2024-10-22T08:13:16.528Z"
      },
      {
        "duration": 737,
        "start_time": "2024-10-22T08:13:16.572Z"
      },
      {
        "duration": 3,
        "start_time": "2024-10-22T08:13:17.310Z"
      },
      {
        "duration": 42,
        "start_time": "2024-10-22T08:13:17.315Z"
      },
      {
        "duration": 49,
        "start_time": "2024-10-22T08:13:17.358Z"
      },
      {
        "duration": 232,
        "start_time": "2024-10-22T08:13:17.409Z"
      },
      {
        "duration": 27,
        "start_time": "2024-10-22T08:13:17.642Z"
      },
      {
        "duration": 38,
        "start_time": "2024-10-22T08:13:17.670Z"
      },
      {
        "duration": 68,
        "start_time": "2024-10-22T08:13:17.709Z"
      },
      {
        "duration": 25,
        "start_time": "2024-10-22T08:13:17.779Z"
      },
      {
        "duration": 23,
        "start_time": "2024-10-22T08:13:17.808Z"
      },
      {
        "duration": 209,
        "start_time": "2024-10-22T08:13:17.838Z"
      },
      {
        "duration": 5,
        "start_time": "2024-10-22T08:13:18.048Z"
      },
      {
        "duration": 64,
        "start_time": "2024-10-22T08:13:18.054Z"
      },
      {
        "duration": 27,
        "start_time": "2024-10-22T08:13:18.119Z"
      },
      {
        "duration": 39,
        "start_time": "2024-10-22T08:13:18.147Z"
      },
      {
        "duration": 26,
        "start_time": "2024-10-22T08:13:18.188Z"
      },
      {
        "duration": 23,
        "start_time": "2024-10-22T08:13:18.216Z"
      },
      {
        "duration": 28,
        "start_time": "2024-10-22T08:13:18.241Z"
      },
      {
        "duration": 23,
        "start_time": "2024-10-22T08:13:18.271Z"
      },
      {
        "duration": 299,
        "start_time": "2024-10-22T08:13:18.295Z"
      },
      {
        "duration": 3,
        "start_time": "2024-10-22T08:13:18.595Z"
      },
      {
        "duration": 30,
        "start_time": "2024-10-22T08:13:18.599Z"
      },
      {
        "duration": 28,
        "start_time": "2024-10-22T08:13:18.630Z"
      },
      {
        "duration": 53,
        "start_time": "2024-10-22T08:13:18.659Z"
      },
      {
        "duration": 39,
        "start_time": "2024-10-22T08:13:18.713Z"
      },
      {
        "duration": 532,
        "start_time": "2024-10-22T08:13:18.753Z"
      },
      {
        "duration": 3,
        "start_time": "2024-10-22T08:13:19.286Z"
      },
      {
        "duration": 23,
        "start_time": "2024-10-22T08:13:19.291Z"
      },
      {
        "duration": 27,
        "start_time": "2024-10-22T08:13:19.316Z"
      },
      {
        "duration": 13,
        "start_time": "2024-10-22T08:15:25.535Z"
      },
      {
        "duration": 61,
        "start_time": "2024-10-22T08:17:07.286Z"
      },
      {
        "duration": 1140,
        "start_time": "2024-10-22T08:17:12.753Z"
      },
      {
        "duration": 1141,
        "start_time": "2024-10-22T08:17:51.878Z"
      },
      {
        "duration": 1030,
        "start_time": "2024-10-22T08:18:46.851Z"
      },
      {
        "duration": 7,
        "start_time": "2024-10-22T08:19:59.363Z"
      },
      {
        "duration": 15,
        "start_time": "2024-10-22T08:20:04.362Z"
      },
      {
        "duration": 18,
        "start_time": "2024-10-22T08:20:11.874Z"
      },
      {
        "duration": 10,
        "start_time": "2024-10-22T08:20:14.499Z"
      },
      {
        "duration": 7,
        "start_time": "2024-10-22T08:20:52.565Z"
      },
      {
        "duration": 15,
        "start_time": "2024-10-22T08:20:54.128Z"
      },
      {
        "duration": 9,
        "start_time": "2024-10-22T08:21:11.088Z"
      },
      {
        "duration": 15,
        "start_time": "2024-10-22T08:21:24.845Z"
      },
      {
        "duration": 62,
        "start_time": "2024-10-22T08:22:22.673Z"
      },
      {
        "duration": 7,
        "start_time": "2024-10-22T08:22:30.512Z"
      },
      {
        "duration": 11,
        "start_time": "2024-10-22T08:22:33.443Z"
      },
      {
        "duration": 19,
        "start_time": "2024-10-22T08:22:38.157Z"
      },
      {
        "duration": 10,
        "start_time": "2024-10-22T08:22:40.461Z"
      },
      {
        "duration": 7,
        "start_time": "2024-10-22T08:22:59.107Z"
      },
      {
        "duration": 7,
        "start_time": "2024-10-22T08:24:20.579Z"
      },
      {
        "duration": 4,
        "start_time": "2024-10-22T08:24:33.029Z"
      },
      {
        "duration": 7,
        "start_time": "2024-10-22T08:24:41.963Z"
      },
      {
        "duration": 7,
        "start_time": "2024-10-22T08:24:42.609Z"
      },
      {
        "duration": 4,
        "start_time": "2024-10-22T08:24:50.076Z"
      },
      {
        "duration": 8,
        "start_time": "2024-10-22T08:24:54.697Z"
      },
      {
        "duration": 8,
        "start_time": "2024-10-22T08:27:32.777Z"
      },
      {
        "duration": 9,
        "start_time": "2024-10-22T08:27:38.475Z"
      },
      {
        "duration": 18,
        "start_time": "2024-10-22T08:28:21.473Z"
      },
      {
        "duration": 21,
        "start_time": "2024-10-22T08:29:04.419Z"
      },
      {
        "duration": 21,
        "start_time": "2024-10-22T08:29:12.737Z"
      },
      {
        "duration": 13,
        "start_time": "2024-10-22T08:29:17.775Z"
      },
      {
        "duration": 10,
        "start_time": "2024-10-22T08:29:22.815Z"
      },
      {
        "duration": 22,
        "start_time": "2024-10-22T08:29:26.093Z"
      },
      {
        "duration": 9,
        "start_time": "2024-10-22T08:29:28.692Z"
      },
      {
        "duration": 12,
        "start_time": "2024-10-22T08:29:31.178Z"
      },
      {
        "duration": 36,
        "start_time": "2024-10-22T08:29:43.329Z"
      },
      {
        "duration": 13,
        "start_time": "2024-10-22T08:29:45.236Z"
      },
      {
        "duration": 35,
        "start_time": "2024-10-22T08:30:00.412Z"
      },
      {
        "duration": 13,
        "start_time": "2024-10-22T08:30:02.011Z"
      },
      {
        "duration": 76,
        "start_time": "2024-10-22T08:30:12.121Z"
      },
      {
        "duration": 77,
        "start_time": "2024-10-22T08:30:15.558Z"
      },
      {
        "duration": 16,
        "start_time": "2024-10-22T08:30:16.886Z"
      },
      {
        "duration": 3,
        "start_time": "2024-10-22T08:31:19.149Z"
      },
      {
        "duration": 4,
        "start_time": "2024-10-22T08:31:19.846Z"
      },
      {
        "duration": 4,
        "start_time": "2024-10-22T08:31:20.397Z"
      },
      {
        "duration": 15,
        "start_time": "2024-10-22T08:31:21.031Z"
      },
      {
        "duration": 13,
        "start_time": "2024-10-22T08:31:23.929Z"
      },
      {
        "duration": 5,
        "start_time": "2024-10-22T08:31:25.413Z"
      },
      {
        "duration": 9,
        "start_time": "2024-10-22T08:31:26.035Z"
      },
      {
        "duration": 5,
        "start_time": "2024-10-22T08:31:26.859Z"
      },
      {
        "duration": 11,
        "start_time": "2024-10-22T08:31:28.365Z"
      },
      {
        "duration": 11,
        "start_time": "2024-10-22T08:31:36.149Z"
      },
      {
        "duration": 630,
        "start_time": "2024-10-22T08:31:42.308Z"
      },
      {
        "duration": 13,
        "start_time": "2024-10-22T08:32:59.911Z"
      },
      {
        "duration": 1131,
        "start_time": "2024-10-22T08:33:25.012Z"
      },
      {
        "duration": 136,
        "start_time": "2024-10-22T08:33:26.144Z"
      },
      {
        "duration": 205,
        "start_time": "2024-10-22T08:33:26.282Z"
      },
      {
        "duration": 837,
        "start_time": "2024-10-22T08:33:26.489Z"
      },
      {
        "duration": 8,
        "start_time": "2024-10-22T08:33:27.328Z"
      },
      {
        "duration": 48,
        "start_time": "2024-10-22T08:33:27.337Z"
      },
      {
        "duration": 34,
        "start_time": "2024-10-22T08:33:27.387Z"
      },
      {
        "duration": 17,
        "start_time": "2024-10-22T08:33:27.422Z"
      },
      {
        "duration": 16,
        "start_time": "2024-10-22T08:33:27.440Z"
      },
      {
        "duration": 8,
        "start_time": "2024-10-22T08:33:27.459Z"
      },
      {
        "duration": 15,
        "start_time": "2024-10-22T08:33:27.469Z"
      },
      {
        "duration": 36,
        "start_time": "2024-10-22T08:33:27.485Z"
      },
      {
        "duration": 26,
        "start_time": "2024-10-22T08:33:27.522Z"
      },
      {
        "duration": 11,
        "start_time": "2024-10-22T08:33:27.550Z"
      },
      {
        "duration": 164,
        "start_time": "2024-10-22T08:33:27.563Z"
      },
      {
        "duration": 7,
        "start_time": "2024-10-22T08:33:27.729Z"
      },
      {
        "duration": 5,
        "start_time": "2024-10-22T08:33:27.738Z"
      },
      {
        "duration": 10,
        "start_time": "2024-10-22T08:33:27.744Z"
      },
      {
        "duration": 5,
        "start_time": "2024-10-22T08:33:27.756Z"
      },
      {
        "duration": 33,
        "start_time": "2024-10-22T08:33:27.762Z"
      },
      {
        "duration": 150,
        "start_time": "2024-10-22T08:33:27.797Z"
      },
      {
        "duration": 116,
        "start_time": "2024-10-22T08:33:27.949Z"
      },
      {
        "duration": 5,
        "start_time": "2024-10-22T08:33:28.067Z"
      },
      {
        "duration": 19,
        "start_time": "2024-10-22T08:33:28.074Z"
      },
      {
        "duration": 101,
        "start_time": "2024-10-22T08:33:28.095Z"
      },
      {
        "duration": 25,
        "start_time": "2024-10-22T08:33:28.197Z"
      },
      {
        "duration": 19,
        "start_time": "2024-10-22T08:33:28.224Z"
      },
      {
        "duration": 3,
        "start_time": "2024-10-22T08:33:28.247Z"
      },
      {
        "duration": 20,
        "start_time": "2024-10-22T08:33:28.251Z"
      },
      {
        "duration": 26,
        "start_time": "2024-10-22T08:33:28.273Z"
      },
      {
        "duration": 9,
        "start_time": "2024-10-22T08:33:28.300Z"
      },
      {
        "duration": 21,
        "start_time": "2024-10-22T08:33:28.310Z"
      },
      {
        "duration": 20,
        "start_time": "2024-10-22T08:33:28.333Z"
      },
      {
        "duration": 115,
        "start_time": "2024-10-22T08:33:28.354Z"
      },
      {
        "duration": 17,
        "start_time": "2024-10-22T08:33:28.471Z"
      },
      {
        "duration": 22,
        "start_time": "2024-10-22T08:33:28.490Z"
      },
      {
        "duration": 249,
        "start_time": "2024-10-22T08:33:28.514Z"
      },
      {
        "duration": 251,
        "start_time": "2024-10-22T08:33:28.765Z"
      },
      {
        "duration": 3,
        "start_time": "2024-10-22T08:33:29.018Z"
      },
      {
        "duration": 2757,
        "start_time": "2024-10-22T08:33:29.023Z"
      },
      {
        "duration": 9,
        "start_time": "2024-10-22T08:33:31.782Z"
      },
      {
        "duration": 385,
        "start_time": "2024-10-22T08:33:31.792Z"
      },
      {
        "duration": 545,
        "start_time": "2024-10-22T08:33:32.178Z"
      },
      {
        "duration": 6,
        "start_time": "2024-10-22T08:33:32.725Z"
      },
      {
        "duration": 169,
        "start_time": "2024-10-22T08:33:32.733Z"
      },
      {
        "duration": 119,
        "start_time": "2024-10-22T08:33:32.904Z"
      },
      {
        "duration": 18,
        "start_time": "2024-10-22T08:33:33.025Z"
      },
      {
        "duration": 14,
        "start_time": "2024-10-22T08:33:33.044Z"
      },
      {
        "duration": 49,
        "start_time": "2024-10-22T08:33:33.059Z"
      },
      {
        "duration": 24,
        "start_time": "2024-10-22T08:33:33.109Z"
      },
      {
        "duration": 202,
        "start_time": "2024-10-22T08:33:33.134Z"
      },
      {
        "duration": 5,
        "start_time": "2024-10-22T08:33:33.338Z"
      },
      {
        "duration": 85,
        "start_time": "2024-10-22T08:33:33.344Z"
      },
      {
        "duration": 24,
        "start_time": "2024-10-22T08:33:33.431Z"
      },
      {
        "duration": 35,
        "start_time": "2024-10-22T08:33:33.456Z"
      },
      {
        "duration": 51,
        "start_time": "2024-10-22T08:33:33.493Z"
      },
      {
        "duration": 37,
        "start_time": "2024-10-22T08:33:33.546Z"
      },
      {
        "duration": 31,
        "start_time": "2024-10-22T08:33:33.584Z"
      },
      {
        "duration": 23,
        "start_time": "2024-10-22T08:33:33.616Z"
      },
      {
        "duration": 15,
        "start_time": "2024-10-22T08:33:33.640Z"
      },
      {
        "duration": 40,
        "start_time": "2024-10-22T08:33:33.657Z"
      },
      {
        "duration": 26,
        "start_time": "2024-10-22T08:33:33.699Z"
      },
      {
        "duration": 14,
        "start_time": "2024-10-22T08:33:33.726Z"
      },
      {
        "duration": 38,
        "start_time": "2024-10-22T08:33:33.742Z"
      },
      {
        "duration": 19,
        "start_time": "2024-10-22T08:33:33.782Z"
      },
      {
        "duration": 15,
        "start_time": "2024-10-22T08:33:33.802Z"
      },
      {
        "duration": 85,
        "start_time": "2024-10-22T08:33:33.818Z"
      },
      {
        "duration": 9,
        "start_time": "2024-10-22T08:33:33.904Z"
      },
      {
        "duration": 27,
        "start_time": "2024-10-22T08:33:33.914Z"
      },
      {
        "duration": 11,
        "start_time": "2024-10-22T08:33:33.943Z"
      },
      {
        "duration": 40,
        "start_time": "2024-10-22T08:33:33.955Z"
      },
      {
        "duration": 15,
        "start_time": "2024-10-22T08:33:33.996Z"
      },
      {
        "duration": 15,
        "start_time": "2024-10-22T08:33:34.012Z"
      },
      {
        "duration": 5,
        "start_time": "2024-10-22T08:33:34.029Z"
      },
      {
        "duration": 15,
        "start_time": "2024-10-22T08:33:34.036Z"
      },
      {
        "duration": 29,
        "start_time": "2024-10-22T08:33:34.053Z"
      },
      {
        "duration": 45,
        "start_time": "2024-10-22T08:33:34.084Z"
      },
      {
        "duration": 80,
        "start_time": "2024-10-22T08:33:34.130Z"
      },
      {
        "duration": 605,
        "start_time": "2024-10-22T08:33:34.212Z"
      },
      {
        "duration": 3,
        "start_time": "2024-10-22T08:33:34.819Z"
      },
      {
        "duration": 27,
        "start_time": "2024-10-22T08:33:34.824Z"
      },
      {
        "duration": 45,
        "start_time": "2024-10-22T08:33:34.856Z"
      },
      {
        "duration": 10,
        "start_time": "2024-10-22T08:33:34.903Z"
      },
      {
        "duration": 28,
        "start_time": "2024-10-22T08:33:34.914Z"
      },
      {
        "duration": 12,
        "start_time": "2024-10-22T08:33:34.943Z"
      },
      {
        "duration": 35,
        "start_time": "2024-10-22T08:33:34.956Z"
      },
      {
        "duration": 17,
        "start_time": "2024-10-22T08:33:34.993Z"
      },
      {
        "duration": 13,
        "start_time": "2024-10-22T08:33:35.012Z"
      },
      {
        "duration": 216,
        "start_time": "2024-10-22T08:33:35.026Z"
      },
      {
        "duration": 5,
        "start_time": "2024-10-22T08:33:35.244Z"
      },
      {
        "duration": 34,
        "start_time": "2024-10-22T08:33:35.250Z"
      },
      {
        "duration": 122,
        "start_time": "2024-10-22T08:33:35.285Z"
      },
      {
        "duration": 22,
        "start_time": "2024-10-22T08:33:35.409Z"
      },
      {
        "duration": 64,
        "start_time": "2024-10-22T08:33:35.432Z"
      },
      {
        "duration": 264,
        "start_time": "2024-10-22T08:33:35.498Z"
      },
      {
        "duration": 48,
        "start_time": "2024-10-22T08:33:35.763Z"
      },
      {
        "duration": 8,
        "start_time": "2024-10-22T08:33:35.812Z"
      },
      {
        "duration": 279,
        "start_time": "2024-10-22T08:33:35.822Z"
      },
      {
        "duration": 4,
        "start_time": "2024-10-22T08:33:36.102Z"
      },
      {
        "duration": 127,
        "start_time": "2024-10-22T08:33:36.108Z"
      },
      {
        "duration": 47,
        "start_time": "2024-10-22T08:33:36.237Z"
      },
      {
        "duration": 36,
        "start_time": "2024-10-22T08:33:36.285Z"
      },
      {
        "duration": 56,
        "start_time": "2024-10-22T08:33:36.323Z"
      },
      {
        "duration": 423,
        "start_time": "2024-10-22T08:33:36.381Z"
      },
      {
        "duration": 4,
        "start_time": "2024-10-22T08:33:36.807Z"
      },
      {
        "duration": 27,
        "start_time": "2024-10-22T08:33:36.813Z"
      },
      {
        "duration": 37,
        "start_time": "2024-10-22T08:33:36.842Z"
      },
      {
        "duration": 1222,
        "start_time": "2024-10-22T08:42:34.646Z"
      },
      {
        "duration": 3,
        "start_time": "2024-10-22T08:42:42.216Z"
      },
      {
        "duration": 7,
        "start_time": "2024-10-22T08:42:42.887Z"
      },
      {
        "duration": 4,
        "start_time": "2024-10-22T08:42:44.012Z"
      },
      {
        "duration": 15,
        "start_time": "2024-10-22T08:42:47.216Z"
      },
      {
        "duration": 3,
        "start_time": "2024-10-22T08:45:59.857Z"
      },
      {
        "duration": 3,
        "start_time": "2024-10-22T08:46:03.068Z"
      },
      {
        "duration": 8,
        "start_time": "2024-10-22T08:46:03.817Z"
      },
      {
        "duration": 9,
        "start_time": "2024-10-22T08:46:08.321Z"
      },
      {
        "duration": 8,
        "start_time": "2024-10-22T08:46:24.342Z"
      },
      {
        "duration": 11,
        "start_time": "2024-10-22T08:46:25.980Z"
      },
      {
        "duration": 16,
        "start_time": "2024-10-22T08:46:37.982Z"
      },
      {
        "duration": 3,
        "start_time": "2024-10-22T08:48:37.134Z"
      },
      {
        "duration": 14,
        "start_time": "2024-10-22T08:49:08.879Z"
      },
      {
        "duration": 12,
        "start_time": "2024-10-22T08:50:20.245Z"
      },
      {
        "duration": 11,
        "start_time": "2024-10-22T08:50:46.758Z"
      },
      {
        "duration": 4,
        "start_time": "2024-10-22T08:53:38.037Z"
      },
      {
        "duration": 3,
        "start_time": "2024-10-22T08:53:41.413Z"
      },
      {
        "duration": 9,
        "start_time": "2024-10-22T08:53:41.992Z"
      },
      {
        "duration": 10,
        "start_time": "2024-10-22T08:53:45.851Z"
      },
      {
        "duration": 5,
        "start_time": "2024-10-22T08:55:22.073Z"
      },
      {
        "duration": 16,
        "start_time": "2024-10-22T08:55:22.780Z"
      },
      {
        "duration": 8,
        "start_time": "2024-10-22T08:55:40.264Z"
      },
      {
        "duration": 11,
        "start_time": "2024-10-22T08:55:42.452Z"
      },
      {
        "duration": 1302,
        "start_time": "2024-10-22T08:57:24.114Z"
      },
      {
        "duration": 68,
        "start_time": "2024-10-22T08:57:25.418Z"
      },
      {
        "duration": 692,
        "start_time": "2024-10-22T08:57:25.488Z"
      },
      {
        "duration": 839,
        "start_time": "2024-10-22T08:57:26.182Z"
      },
      {
        "duration": 4,
        "start_time": "2024-10-22T08:57:27.022Z"
      },
      {
        "duration": 22,
        "start_time": "2024-10-22T08:57:27.028Z"
      },
      {
        "duration": 37,
        "start_time": "2024-10-22T08:57:27.051Z"
      },
      {
        "duration": 20,
        "start_time": "2024-10-22T08:57:27.090Z"
      },
      {
        "duration": 15,
        "start_time": "2024-10-22T08:57:27.111Z"
      },
      {
        "duration": 22,
        "start_time": "2024-10-22T08:57:27.129Z"
      },
      {
        "duration": 37,
        "start_time": "2024-10-22T08:57:27.152Z"
      },
      {
        "duration": 69,
        "start_time": "2024-10-22T08:57:27.190Z"
      },
      {
        "duration": 95,
        "start_time": "2024-10-22T08:57:27.261Z"
      },
      {
        "duration": 70,
        "start_time": "2024-10-22T08:57:27.357Z"
      },
      {
        "duration": 213,
        "start_time": "2024-10-22T08:57:27.428Z"
      },
      {
        "duration": 7,
        "start_time": "2024-10-22T08:57:27.643Z"
      },
      {
        "duration": 106,
        "start_time": "2024-10-22T08:57:27.651Z"
      },
      {
        "duration": 46,
        "start_time": "2024-10-22T08:57:27.759Z"
      },
      {
        "duration": 26,
        "start_time": "2024-10-22T08:57:27.806Z"
      },
      {
        "duration": 28,
        "start_time": "2024-10-22T08:57:27.834Z"
      },
      {
        "duration": 120,
        "start_time": "2024-10-22T08:57:27.864Z"
      },
      {
        "duration": 111,
        "start_time": "2024-10-22T08:57:27.985Z"
      },
      {
        "duration": 9,
        "start_time": "2024-10-22T08:57:28.098Z"
      },
      {
        "duration": 30,
        "start_time": "2024-10-22T08:57:28.109Z"
      },
      {
        "duration": 12,
        "start_time": "2024-10-22T08:57:28.141Z"
      },
      {
        "duration": 18,
        "start_time": "2024-10-22T08:57:28.155Z"
      },
      {
        "duration": 11,
        "start_time": "2024-10-22T08:57:28.174Z"
      },
      {
        "duration": 100,
        "start_time": "2024-10-22T08:57:28.190Z"
      },
      {
        "duration": 29,
        "start_time": "2024-10-22T08:57:28.291Z"
      },
      {
        "duration": 23,
        "start_time": "2024-10-22T08:57:28.322Z"
      },
      {
        "duration": 8,
        "start_time": "2024-10-22T08:57:28.347Z"
      },
      {
        "duration": 11,
        "start_time": "2024-10-22T08:57:28.356Z"
      },
      {
        "duration": 37,
        "start_time": "2024-10-22T08:57:28.368Z"
      },
      {
        "duration": 118,
        "start_time": "2024-10-22T08:57:28.407Z"
      },
      {
        "duration": 11,
        "start_time": "2024-10-22T08:57:28.527Z"
      },
      {
        "duration": 10,
        "start_time": "2024-10-22T08:57:28.539Z"
      },
      {
        "duration": 238,
        "start_time": "2024-10-22T08:57:28.551Z"
      },
      {
        "duration": 254,
        "start_time": "2024-10-22T08:57:28.791Z"
      },
      {
        "duration": 3,
        "start_time": "2024-10-22T08:57:29.047Z"
      },
      {
        "duration": 2624,
        "start_time": "2024-10-22T08:57:29.051Z"
      },
      {
        "duration": 10,
        "start_time": "2024-10-22T08:57:31.676Z"
      },
      {
        "duration": 451,
        "start_time": "2024-10-22T08:57:31.688Z"
      },
      {
        "duration": 541,
        "start_time": "2024-10-22T08:57:32.140Z"
      },
      {
        "duration": 6,
        "start_time": "2024-10-22T08:57:32.683Z"
      },
      {
        "duration": 237,
        "start_time": "2024-10-22T08:57:32.690Z"
      },
      {
        "duration": 115,
        "start_time": "2024-10-22T08:57:32.928Z"
      },
      {
        "duration": 17,
        "start_time": "2024-10-22T08:57:33.045Z"
      },
      {
        "duration": 29,
        "start_time": "2024-10-22T08:57:33.063Z"
      },
      {
        "duration": 28,
        "start_time": "2024-10-22T08:57:33.093Z"
      },
      {
        "duration": 29,
        "start_time": "2024-10-22T08:57:33.122Z"
      },
      {
        "duration": 182,
        "start_time": "2024-10-22T08:57:33.153Z"
      },
      {
        "duration": 3,
        "start_time": "2024-10-22T08:57:33.337Z"
      },
      {
        "duration": 7,
        "start_time": "2024-10-22T08:57:33.341Z"
      },
      {
        "duration": 27,
        "start_time": "2024-10-22T08:57:33.349Z"
      },
      {
        "duration": 27,
        "start_time": "2024-10-22T08:57:33.377Z"
      },
      {
        "duration": 16,
        "start_time": "2024-10-22T08:57:33.406Z"
      },
      {
        "duration": 30,
        "start_time": "2024-10-22T08:57:33.423Z"
      },
      {
        "duration": 138,
        "start_time": "2024-10-22T08:57:33.454Z"
      },
      {
        "duration": 227,
        "start_time": "2024-10-22T08:57:33.593Z"
      },
      {
        "duration": 6,
        "start_time": "2024-10-22T08:57:33.822Z"
      },
      {
        "duration": 28,
        "start_time": "2024-10-22T08:57:33.829Z"
      },
      {
        "duration": 33,
        "start_time": "2024-10-22T08:57:33.858Z"
      },
      {
        "duration": 17,
        "start_time": "2024-10-22T08:57:33.893Z"
      },
      {
        "duration": 9,
        "start_time": "2024-10-22T08:57:33.911Z"
      },
      {
        "duration": 6,
        "start_time": "2024-10-22T08:57:33.921Z"
      },
      {
        "duration": 10,
        "start_time": "2024-10-22T08:57:33.929Z"
      },
      {
        "duration": 91,
        "start_time": "2024-10-22T08:57:33.940Z"
      },
      {
        "duration": 8,
        "start_time": "2024-10-22T08:57:34.032Z"
      },
      {
        "duration": 6,
        "start_time": "2024-10-22T08:57:34.041Z"
      },
      {
        "duration": 35,
        "start_time": "2024-10-22T08:57:34.048Z"
      },
      {
        "duration": 12,
        "start_time": "2024-10-22T08:57:34.085Z"
      },
      {
        "duration": 17,
        "start_time": "2024-10-22T08:57:34.098Z"
      },
      {
        "duration": 13,
        "start_time": "2024-10-22T08:57:34.117Z"
      },
      {
        "duration": 5,
        "start_time": "2024-10-22T08:57:34.132Z"
      },
      {
        "duration": 13,
        "start_time": "2024-10-22T08:57:34.138Z"
      },
      {
        "duration": 23,
        "start_time": "2024-10-22T08:57:34.152Z"
      },
      {
        "duration": 125,
        "start_time": "2024-10-22T08:57:34.176Z"
      },
      {
        "duration": 610,
        "start_time": "2024-10-22T08:57:34.302Z"
      },
      {
        "duration": 6,
        "start_time": "2024-10-22T08:57:34.913Z"
      },
      {
        "duration": 52,
        "start_time": "2024-10-22T08:57:34.920Z"
      },
      {
        "duration": 20,
        "start_time": "2024-10-22T08:57:34.974Z"
      },
      {
        "duration": 8,
        "start_time": "2024-10-22T08:57:35.000Z"
      },
      {
        "duration": 94,
        "start_time": "2024-10-22T08:57:35.009Z"
      },
      {
        "duration": 0,
        "start_time": "2024-10-22T08:57:35.106Z"
      },
      {
        "duration": 0,
        "start_time": "2024-10-22T08:57:35.107Z"
      },
      {
        "duration": 0,
        "start_time": "2024-10-22T08:57:35.108Z"
      },
      {
        "duration": 0,
        "start_time": "2024-10-22T08:57:35.109Z"
      },
      {
        "duration": 0,
        "start_time": "2024-10-22T08:57:35.110Z"
      },
      {
        "duration": 0,
        "start_time": "2024-10-22T08:57:35.111Z"
      },
      {
        "duration": 0,
        "start_time": "2024-10-22T08:57:35.112Z"
      },
      {
        "duration": 0,
        "start_time": "2024-10-22T08:57:35.113Z"
      },
      {
        "duration": 0,
        "start_time": "2024-10-22T08:57:35.114Z"
      },
      {
        "duration": 0,
        "start_time": "2024-10-22T08:57:35.115Z"
      },
      {
        "duration": 0,
        "start_time": "2024-10-22T08:57:35.116Z"
      },
      {
        "duration": 1,
        "start_time": "2024-10-22T08:57:35.116Z"
      },
      {
        "duration": 0,
        "start_time": "2024-10-22T08:57:35.118Z"
      },
      {
        "duration": 0,
        "start_time": "2024-10-22T08:57:35.118Z"
      },
      {
        "duration": 0,
        "start_time": "2024-10-22T08:57:35.119Z"
      },
      {
        "duration": 0,
        "start_time": "2024-10-22T08:57:35.120Z"
      },
      {
        "duration": 0,
        "start_time": "2024-10-22T08:57:35.121Z"
      },
      {
        "duration": 0,
        "start_time": "2024-10-22T08:57:35.122Z"
      },
      {
        "duration": 0,
        "start_time": "2024-10-22T08:57:35.123Z"
      },
      {
        "duration": 0,
        "start_time": "2024-10-22T08:57:35.124Z"
      },
      {
        "duration": 0,
        "start_time": "2024-10-22T08:57:35.125Z"
      },
      {
        "duration": 6,
        "start_time": "2024-10-22T08:57:45.003Z"
      },
      {
        "duration": 4,
        "start_time": "2024-10-22T08:57:46.594Z"
      },
      {
        "duration": 3,
        "start_time": "2024-10-22T08:57:47.827Z"
      },
      {
        "duration": 9,
        "start_time": "2024-10-22T08:57:48.554Z"
      },
      {
        "duration": 4,
        "start_time": "2024-10-22T08:57:49.433Z"
      },
      {
        "duration": 100,
        "start_time": "2024-10-22T08:57:52.291Z"
      },
      {
        "duration": 4,
        "start_time": "2024-10-22T08:57:59.045Z"
      },
      {
        "duration": 3,
        "start_time": "2024-10-22T08:58:00.714Z"
      },
      {
        "duration": 10,
        "start_time": "2024-10-22T08:59:26.153Z"
      },
      {
        "duration": 104,
        "start_time": "2024-10-22T09:02:45.906Z"
      },
      {
        "duration": 100,
        "start_time": "2024-10-22T09:02:49.308Z"
      },
      {
        "duration": 9,
        "start_time": "2024-10-22T09:02:55.539Z"
      },
      {
        "duration": 105,
        "start_time": "2024-10-22T09:02:56.811Z"
      },
      {
        "duration": 135,
        "start_time": "2024-10-22T09:03:33.109Z"
      },
      {
        "duration": 94,
        "start_time": "2024-10-22T09:06:08.902Z"
      },
      {
        "duration": 8,
        "start_time": "2024-10-22T09:06:37.747Z"
      },
      {
        "duration": 5,
        "start_time": "2024-10-22T09:06:41.676Z"
      },
      {
        "duration": 4,
        "start_time": "2024-10-22T09:07:11.835Z"
      },
      {
        "duration": 4,
        "start_time": "2024-10-22T09:08:07.762Z"
      },
      {
        "duration": 448,
        "start_time": "2024-10-22T09:08:07.768Z"
      },
      {
        "duration": 4,
        "start_time": "2024-10-22T09:08:08.218Z"
      },
      {
        "duration": 7,
        "start_time": "2024-10-22T09:08:08.224Z"
      },
      {
        "duration": 83,
        "start_time": "2024-10-22T09:08:08.233Z"
      },
      {
        "duration": 48,
        "start_time": "2024-10-22T09:08:08.318Z"
      },
      {
        "duration": 7,
        "start_time": "2024-10-22T09:08:08.367Z"
      },
      {
        "duration": 262,
        "start_time": "2024-10-22T09:08:08.375Z"
      },
      {
        "duration": 4,
        "start_time": "2024-10-22T09:08:08.638Z"
      },
      {
        "duration": 22,
        "start_time": "2024-10-22T09:08:08.643Z"
      },
      {
        "duration": 7,
        "start_time": "2024-10-22T09:08:08.667Z"
      },
      {
        "duration": 7,
        "start_time": "2024-10-22T09:21:09.553Z"
      },
      {
        "duration": 104,
        "start_time": "2024-10-22T09:21:15.450Z"
      },
      {
        "duration": 96,
        "start_time": "2024-10-22T09:27:49.738Z"
      },
      {
        "duration": 11,
        "start_time": "2024-10-22T09:39:12.029Z"
      },
      {
        "duration": 3,
        "start_time": "2024-10-22T09:39:20.080Z"
      },
      {
        "duration": 141,
        "start_time": "2024-10-22T09:43:13.304Z"
      },
      {
        "duration": 1126,
        "start_time": "2024-10-22T09:43:18.855Z"
      },
      {
        "duration": 108,
        "start_time": "2024-10-22T09:43:19.983Z"
      },
      {
        "duration": 215,
        "start_time": "2024-10-22T09:43:20.092Z"
      },
      {
        "duration": 796,
        "start_time": "2024-10-22T09:43:20.309Z"
      },
      {
        "duration": 5,
        "start_time": "2024-10-22T09:43:21.106Z"
      },
      {
        "duration": 11,
        "start_time": "2024-10-22T09:43:21.113Z"
      },
      {
        "duration": 39,
        "start_time": "2024-10-22T09:43:21.126Z"
      },
      {
        "duration": 46,
        "start_time": "2024-10-22T09:43:21.167Z"
      },
      {
        "duration": 17,
        "start_time": "2024-10-22T09:43:21.216Z"
      },
      {
        "duration": 9,
        "start_time": "2024-10-22T09:43:21.235Z"
      },
      {
        "duration": 10,
        "start_time": "2024-10-22T09:43:21.245Z"
      },
      {
        "duration": 21,
        "start_time": "2024-10-22T09:43:21.257Z"
      },
      {
        "duration": 38,
        "start_time": "2024-10-22T09:43:21.282Z"
      },
      {
        "duration": 7,
        "start_time": "2024-10-22T09:43:21.321Z"
      },
      {
        "duration": 165,
        "start_time": "2024-10-22T09:43:21.330Z"
      },
      {
        "duration": 11,
        "start_time": "2024-10-22T09:43:21.497Z"
      },
      {
        "duration": 24,
        "start_time": "2024-10-22T09:43:21.509Z"
      },
      {
        "duration": 18,
        "start_time": "2024-10-22T09:43:21.536Z"
      },
      {
        "duration": 8,
        "start_time": "2024-10-22T09:43:21.556Z"
      },
      {
        "duration": 6,
        "start_time": "2024-10-22T09:43:21.566Z"
      },
      {
        "duration": 112,
        "start_time": "2024-10-22T09:43:21.573Z"
      },
      {
        "duration": 149,
        "start_time": "2024-10-22T09:43:21.687Z"
      },
      {
        "duration": 6,
        "start_time": "2024-10-22T09:43:21.838Z"
      },
      {
        "duration": 128,
        "start_time": "2024-10-22T09:43:21.846Z"
      },
      {
        "duration": 16,
        "start_time": "2024-10-22T09:43:21.976Z"
      },
      {
        "duration": 11,
        "start_time": "2024-10-22T09:43:21.994Z"
      },
      {
        "duration": 11,
        "start_time": "2024-10-22T09:43:22.007Z"
      },
      {
        "duration": 11,
        "start_time": "2024-10-22T09:43:22.020Z"
      },
      {
        "duration": 8,
        "start_time": "2024-10-22T09:43:22.032Z"
      },
      {
        "duration": 32,
        "start_time": "2024-10-22T09:43:22.041Z"
      },
      {
        "duration": 8,
        "start_time": "2024-10-22T09:43:22.075Z"
      },
      {
        "duration": 7,
        "start_time": "2024-10-22T09:43:22.084Z"
      },
      {
        "duration": 14,
        "start_time": "2024-10-22T09:43:22.107Z"
      },
      {
        "duration": 114,
        "start_time": "2024-10-22T09:43:22.123Z"
      },
      {
        "duration": 11,
        "start_time": "2024-10-22T09:43:22.238Z"
      },
      {
        "duration": 16,
        "start_time": "2024-10-22T09:43:22.250Z"
      },
      {
        "duration": 230,
        "start_time": "2024-10-22T09:43:22.267Z"
      },
      {
        "duration": 255,
        "start_time": "2024-10-22T09:43:22.498Z"
      },
      {
        "duration": 2,
        "start_time": "2024-10-22T09:43:22.755Z"
      },
      {
        "duration": 2546,
        "start_time": "2024-10-22T09:43:22.761Z"
      },
      {
        "duration": 12,
        "start_time": "2024-10-22T09:43:25.308Z"
      },
      {
        "duration": 390,
        "start_time": "2024-10-22T09:43:25.321Z"
      },
      {
        "duration": 493,
        "start_time": "2024-10-22T09:43:25.712Z"
      },
      {
        "duration": 8,
        "start_time": "2024-10-22T09:43:26.206Z"
      },
      {
        "duration": 152,
        "start_time": "2024-10-22T09:43:26.215Z"
      },
      {
        "duration": 116,
        "start_time": "2024-10-22T09:43:26.369Z"
      },
      {
        "duration": 29,
        "start_time": "2024-10-22T09:43:26.487Z"
      },
      {
        "duration": 6,
        "start_time": "2024-10-22T09:43:26.517Z"
      },
      {
        "duration": 34,
        "start_time": "2024-10-22T09:43:26.524Z"
      },
      {
        "duration": 15,
        "start_time": "2024-10-22T09:43:26.560Z"
      },
      {
        "duration": 162,
        "start_time": "2024-10-22T09:43:26.576Z"
      },
      {
        "duration": 4,
        "start_time": "2024-10-22T09:43:26.740Z"
      },
      {
        "duration": 7,
        "start_time": "2024-10-22T09:43:26.745Z"
      },
      {
        "duration": 6,
        "start_time": "2024-10-22T09:43:26.753Z"
      },
      {
        "duration": 11,
        "start_time": "2024-10-22T09:43:26.761Z"
      },
      {
        "duration": 32,
        "start_time": "2024-10-22T09:43:26.773Z"
      },
      {
        "duration": 16,
        "start_time": "2024-10-22T09:43:26.806Z"
      },
      {
        "duration": 56,
        "start_time": "2024-10-22T09:43:26.824Z"
      },
      {
        "duration": 16,
        "start_time": "2024-10-22T09:43:26.882Z"
      },
      {
        "duration": 108,
        "start_time": "2024-10-22T09:43:26.900Z"
      },
      {
        "duration": 22,
        "start_time": "2024-10-22T09:43:27.010Z"
      },
      {
        "duration": 19,
        "start_time": "2024-10-22T09:43:27.033Z"
      },
      {
        "duration": 24,
        "start_time": "2024-10-22T09:43:27.053Z"
      },
      {
        "duration": 15,
        "start_time": "2024-10-22T09:43:27.079Z"
      },
      {
        "duration": 17,
        "start_time": "2024-10-22T09:43:27.096Z"
      },
      {
        "duration": 20,
        "start_time": "2024-10-22T09:43:27.114Z"
      },
      {
        "duration": 159,
        "start_time": "2024-10-22T09:43:27.136Z"
      },
      {
        "duration": 7,
        "start_time": "2024-10-22T09:43:27.296Z"
      },
      {
        "duration": 15,
        "start_time": "2024-10-22T09:43:27.307Z"
      },
      {
        "duration": 12,
        "start_time": "2024-10-22T09:43:27.323Z"
      },
      {
        "duration": 11,
        "start_time": "2024-10-22T09:43:27.336Z"
      },
      {
        "duration": 22,
        "start_time": "2024-10-22T09:43:27.349Z"
      },
      {
        "duration": 31,
        "start_time": "2024-10-22T09:43:27.372Z"
      },
      {
        "duration": 37,
        "start_time": "2024-10-22T09:43:27.404Z"
      },
      {
        "duration": 47,
        "start_time": "2024-10-22T09:43:27.443Z"
      },
      {
        "duration": 17,
        "start_time": "2024-10-22T09:43:27.492Z"
      },
      {
        "duration": 22,
        "start_time": "2024-10-22T09:43:27.510Z"
      },
      {
        "duration": 563,
        "start_time": "2024-10-22T09:43:27.534Z"
      },
      {
        "duration": 12,
        "start_time": "2024-10-22T09:43:28.098Z"
      },
      {
        "duration": 33,
        "start_time": "2024-10-22T09:43:28.111Z"
      },
      {
        "duration": 18,
        "start_time": "2024-10-22T09:43:28.146Z"
      },
      {
        "duration": 29,
        "start_time": "2024-10-22T09:43:28.166Z"
      },
      {
        "duration": 21,
        "start_time": "2024-10-22T09:43:28.197Z"
      },
      {
        "duration": 5,
        "start_time": "2024-10-22T09:43:28.220Z"
      },
      {
        "duration": 11,
        "start_time": "2024-10-22T09:43:28.227Z"
      },
      {
        "duration": 7,
        "start_time": "2024-10-22T09:43:28.240Z"
      },
      {
        "duration": 120,
        "start_time": "2024-10-22T09:43:28.249Z"
      },
      {
        "duration": 4,
        "start_time": "2024-10-22T09:43:28.370Z"
      },
      {
        "duration": 102,
        "start_time": "2024-10-22T09:43:28.375Z"
      },
      {
        "duration": 15,
        "start_time": "2024-10-22T09:43:28.478Z"
      },
      {
        "duration": 13,
        "start_time": "2024-10-22T09:43:28.494Z"
      },
      {
        "duration": 16,
        "start_time": "2024-10-22T09:43:28.508Z"
      },
      {
        "duration": 235,
        "start_time": "2024-10-22T09:43:28.525Z"
      },
      {
        "duration": 4,
        "start_time": "2024-10-22T09:43:28.761Z"
      },
      {
        "duration": 51,
        "start_time": "2024-10-22T09:43:28.766Z"
      },
      {
        "duration": 37,
        "start_time": "2024-10-22T09:43:28.819Z"
      },
      {
        "duration": 143,
        "start_time": "2024-10-22T09:43:28.858Z"
      },
      {
        "duration": 14,
        "start_time": "2024-10-22T09:43:29.002Z"
      },
      {
        "duration": 263,
        "start_time": "2024-10-22T09:43:29.018Z"
      },
      {
        "duration": 3,
        "start_time": "2024-10-22T09:43:29.283Z"
      },
      {
        "duration": 25,
        "start_time": "2024-10-22T09:43:29.288Z"
      },
      {
        "duration": 35,
        "start_time": "2024-10-22T09:43:29.315Z"
      },
      {
        "duration": 3,
        "start_time": "2024-10-22T09:44:40.977Z"
      },
      {
        "duration": 50,
        "start_time": "2024-10-22T09:44:40.981Z"
      },
      {
        "duration": 234,
        "start_time": "2024-10-22T09:44:41.032Z"
      },
      {
        "duration": 906,
        "start_time": "2024-10-22T09:44:41.268Z"
      },
      {
        "duration": 4,
        "start_time": "2024-10-22T09:44:42.176Z"
      },
      {
        "duration": 13,
        "start_time": "2024-10-22T09:44:42.181Z"
      },
      {
        "duration": 30,
        "start_time": "2024-10-22T09:44:42.195Z"
      },
      {
        "duration": 17,
        "start_time": "2024-10-22T09:44:42.227Z"
      },
      {
        "duration": 16,
        "start_time": "2024-10-22T09:44:42.246Z"
      },
      {
        "duration": 11,
        "start_time": "2024-10-22T09:44:42.263Z"
      },
      {
        "duration": 38,
        "start_time": "2024-10-22T09:44:42.276Z"
      },
      {
        "duration": 28,
        "start_time": "2024-10-22T09:44:42.316Z"
      },
      {
        "duration": 12,
        "start_time": "2024-10-22T09:44:42.345Z"
      },
      {
        "duration": 5,
        "start_time": "2024-10-22T09:44:42.358Z"
      },
      {
        "duration": 171,
        "start_time": "2024-10-22T09:44:42.364Z"
      },
      {
        "duration": 8,
        "start_time": "2024-10-22T09:44:42.537Z"
      },
      {
        "duration": 18,
        "start_time": "2024-10-22T09:44:42.547Z"
      },
      {
        "duration": 12,
        "start_time": "2024-10-22T09:44:42.567Z"
      },
      {
        "duration": 16,
        "start_time": "2024-10-22T09:44:42.581Z"
      },
      {
        "duration": 26,
        "start_time": "2024-10-22T09:44:42.599Z"
      },
      {
        "duration": 133,
        "start_time": "2024-10-22T09:44:42.628Z"
      },
      {
        "duration": 116,
        "start_time": "2024-10-22T09:44:42.763Z"
      },
      {
        "duration": 5,
        "start_time": "2024-10-22T09:44:42.881Z"
      },
      {
        "duration": 92,
        "start_time": "2024-10-22T09:44:42.887Z"
      },
      {
        "duration": 14,
        "start_time": "2024-10-22T09:44:42.981Z"
      },
      {
        "duration": 26,
        "start_time": "2024-10-22T09:44:42.997Z"
      },
      {
        "duration": 22,
        "start_time": "2024-10-22T09:44:43.024Z"
      },
      {
        "duration": 17,
        "start_time": "2024-10-22T09:44:43.047Z"
      },
      {
        "duration": 8,
        "start_time": "2024-10-22T09:44:43.069Z"
      },
      {
        "duration": 35,
        "start_time": "2024-10-22T09:44:43.079Z"
      },
      {
        "duration": 7,
        "start_time": "2024-10-22T09:44:43.116Z"
      },
      {
        "duration": 12,
        "start_time": "2024-10-22T09:44:43.125Z"
      },
      {
        "duration": 18,
        "start_time": "2024-10-22T09:44:43.139Z"
      },
      {
        "duration": 111,
        "start_time": "2024-10-22T09:44:43.158Z"
      },
      {
        "duration": 15,
        "start_time": "2024-10-22T09:44:43.271Z"
      },
      {
        "duration": 20,
        "start_time": "2024-10-22T09:44:43.288Z"
      },
      {
        "duration": 243,
        "start_time": "2024-10-22T09:44:43.310Z"
      },
      {
        "duration": 254,
        "start_time": "2024-10-22T09:44:43.555Z"
      },
      {
        "duration": 3,
        "start_time": "2024-10-22T09:44:43.810Z"
      },
      {
        "duration": 2700,
        "start_time": "2024-10-22T09:44:43.814Z"
      },
      {
        "duration": 9,
        "start_time": "2024-10-22T09:44:46.516Z"
      },
      {
        "duration": 383,
        "start_time": "2024-10-22T09:44:46.527Z"
      },
      {
        "duration": 564,
        "start_time": "2024-10-22T09:44:46.911Z"
      },
      {
        "duration": 6,
        "start_time": "2024-10-22T09:44:47.476Z"
      },
      {
        "duration": 166,
        "start_time": "2024-10-22T09:44:47.484Z"
      },
      {
        "duration": 114,
        "start_time": "2024-10-22T09:44:47.652Z"
      },
      {
        "duration": 18,
        "start_time": "2024-10-22T09:44:47.767Z"
      },
      {
        "duration": 157,
        "start_time": "2024-10-22T09:44:47.786Z"
      },
      {
        "duration": 12,
        "start_time": "2024-10-22T09:44:47.945Z"
      },
      {
        "duration": 4,
        "start_time": "2024-10-22T09:44:47.958Z"
      },
      {
        "duration": 146,
        "start_time": "2024-10-22T09:44:47.964Z"
      },
      {
        "duration": 4,
        "start_time": "2024-10-22T09:44:48.111Z"
      },
      {
        "duration": 18,
        "start_time": "2024-10-22T09:44:48.117Z"
      },
      {
        "duration": 25,
        "start_time": "2024-10-22T09:44:48.136Z"
      },
      {
        "duration": 14,
        "start_time": "2024-10-22T09:44:48.162Z"
      },
      {
        "duration": 18,
        "start_time": "2024-10-22T09:44:48.177Z"
      },
      {
        "duration": 27,
        "start_time": "2024-10-22T09:44:48.196Z"
      },
      {
        "duration": 25,
        "start_time": "2024-10-22T09:44:48.224Z"
      },
      {
        "duration": 18,
        "start_time": "2024-10-22T09:44:48.250Z"
      },
      {
        "duration": 7,
        "start_time": "2024-10-22T09:44:48.269Z"
      },
      {
        "duration": 20,
        "start_time": "2024-10-22T09:44:48.277Z"
      },
      {
        "duration": 9,
        "start_time": "2024-10-22T09:44:48.299Z"
      },
      {
        "duration": 8,
        "start_time": "2024-10-22T09:44:48.309Z"
      },
      {
        "duration": 18,
        "start_time": "2024-10-22T09:44:48.319Z"
      },
      {
        "duration": 22,
        "start_time": "2024-10-22T09:44:48.338Z"
      },
      {
        "duration": 102,
        "start_time": "2024-10-22T09:44:48.361Z"
      },
      {
        "duration": 98,
        "start_time": "2024-10-22T09:44:48.465Z"
      },
      {
        "duration": 10,
        "start_time": "2024-10-22T09:44:48.565Z"
      },
      {
        "duration": 27,
        "start_time": "2024-10-22T09:44:48.577Z"
      },
      {
        "duration": 19,
        "start_time": "2024-10-22T09:44:48.605Z"
      },
      {
        "duration": 11,
        "start_time": "2024-10-22T09:44:48.625Z"
      },
      {
        "duration": 15,
        "start_time": "2024-10-22T09:44:48.637Z"
      },
      {
        "duration": 26,
        "start_time": "2024-10-22T09:44:48.653Z"
      },
      {
        "duration": 9,
        "start_time": "2024-10-22T09:44:48.680Z"
      },
      {
        "duration": 21,
        "start_time": "2024-10-22T09:44:48.690Z"
      },
      {
        "duration": 36,
        "start_time": "2024-10-22T09:44:48.712Z"
      },
      {
        "duration": 18,
        "start_time": "2024-10-22T09:44:48.750Z"
      },
      {
        "duration": 625,
        "start_time": "2024-10-22T09:44:48.769Z"
      },
      {
        "duration": 5,
        "start_time": "2024-10-22T09:44:49.396Z"
      },
      {
        "duration": 85,
        "start_time": "2024-10-22T09:44:49.402Z"
      },
      {
        "duration": 21,
        "start_time": "2024-10-22T09:44:49.488Z"
      },
      {
        "duration": 8,
        "start_time": "2024-10-22T09:44:49.510Z"
      },
      {
        "duration": 32,
        "start_time": "2024-10-22T09:44:49.523Z"
      },
      {
        "duration": 16,
        "start_time": "2024-10-22T09:44:49.557Z"
      },
      {
        "duration": 24,
        "start_time": "2024-10-22T09:44:49.574Z"
      },
      {
        "duration": 15,
        "start_time": "2024-10-22T09:44:49.599Z"
      },
      {
        "duration": 100,
        "start_time": "2024-10-22T09:44:49.615Z"
      },
      {
        "duration": 4,
        "start_time": "2024-10-22T09:44:49.716Z"
      },
      {
        "duration": 257,
        "start_time": "2024-10-22T09:44:49.722Z"
      },
      {
        "duration": 7,
        "start_time": "2024-10-22T09:44:49.981Z"
      },
      {
        "duration": 9,
        "start_time": "2024-10-22T09:44:49.989Z"
      },
      {
        "duration": 16,
        "start_time": "2024-10-22T09:44:49.999Z"
      },
      {
        "duration": 239,
        "start_time": "2024-10-22T09:44:50.016Z"
      },
      {
        "duration": 6,
        "start_time": "2024-10-22T09:44:50.257Z"
      },
      {
        "duration": 9,
        "start_time": "2024-10-22T09:44:50.264Z"
      },
      {
        "duration": 30,
        "start_time": "2024-10-22T09:44:50.275Z"
      },
      {
        "duration": 41,
        "start_time": "2024-10-22T09:44:50.307Z"
      },
      {
        "duration": 21,
        "start_time": "2024-10-22T09:44:50.350Z"
      },
      {
        "duration": 351,
        "start_time": "2024-10-22T09:44:50.372Z"
      },
      {
        "duration": 3,
        "start_time": "2024-10-22T09:44:50.725Z"
      },
      {
        "duration": 45,
        "start_time": "2024-10-22T09:44:50.730Z"
      },
      {
        "duration": 14,
        "start_time": "2024-10-22T09:44:50.777Z"
      },
      {
        "duration": 7,
        "start_time": "2024-10-22T09:52:48.740Z"
      },
      {
        "duration": 283,
        "start_time": "2024-10-22T09:52:49.243Z"
      },
      {
        "duration": 151,
        "start_time": "2024-10-22T09:55:03.920Z"
      },
      {
        "duration": 133,
        "start_time": "2024-10-22T09:55:18.910Z"
      },
      {
        "duration": 1037,
        "start_time": "2024-10-22T09:57:23.953Z"
      },
      {
        "duration": 70,
        "start_time": "2024-10-22T09:57:24.992Z"
      },
      {
        "duration": 323,
        "start_time": "2024-10-22T09:57:25.063Z"
      },
      {
        "duration": 800,
        "start_time": "2024-10-22T09:57:25.387Z"
      },
      {
        "duration": 4,
        "start_time": "2024-10-22T09:57:26.188Z"
      },
      {
        "duration": 14,
        "start_time": "2024-10-22T09:57:26.193Z"
      },
      {
        "duration": 30,
        "start_time": "2024-10-22T09:57:26.208Z"
      },
      {
        "duration": 16,
        "start_time": "2024-10-22T09:57:26.239Z"
      },
      {
        "duration": 15,
        "start_time": "2024-10-22T09:57:26.256Z"
      },
      {
        "duration": 7,
        "start_time": "2024-10-22T09:57:26.273Z"
      },
      {
        "duration": 26,
        "start_time": "2024-10-22T09:57:26.282Z"
      },
      {
        "duration": 12,
        "start_time": "2024-10-22T09:57:26.310Z"
      },
      {
        "duration": 23,
        "start_time": "2024-10-22T09:57:26.324Z"
      },
      {
        "duration": 17,
        "start_time": "2024-10-22T09:57:26.348Z"
      },
      {
        "duration": 132,
        "start_time": "2024-10-22T09:57:26.366Z"
      },
      {
        "duration": 9,
        "start_time": "2024-10-22T09:57:26.499Z"
      },
      {
        "duration": 18,
        "start_time": "2024-10-22T09:57:26.509Z"
      },
      {
        "duration": 10,
        "start_time": "2024-10-22T09:57:26.529Z"
      },
      {
        "duration": 7,
        "start_time": "2024-10-22T09:57:26.540Z"
      },
      {
        "duration": 16,
        "start_time": "2024-10-22T09:57:26.549Z"
      },
      {
        "duration": 130,
        "start_time": "2024-10-22T09:57:26.566Z"
      },
      {
        "duration": 111,
        "start_time": "2024-10-22T09:57:26.697Z"
      },
      {
        "duration": 5,
        "start_time": "2024-10-22T09:57:26.809Z"
      },
      {
        "duration": 36,
        "start_time": "2024-10-22T09:57:26.814Z"
      },
      {
        "duration": 22,
        "start_time": "2024-10-22T09:57:26.851Z"
      },
      {
        "duration": 19,
        "start_time": "2024-10-22T09:57:26.874Z"
      },
      {
        "duration": 10,
        "start_time": "2024-10-22T09:57:26.894Z"
      },
      {
        "duration": 9,
        "start_time": "2024-10-22T09:57:26.908Z"
      },
      {
        "duration": 8,
        "start_time": "2024-10-22T09:57:26.918Z"
      },
      {
        "duration": 54,
        "start_time": "2024-10-22T09:57:26.927Z"
      },
      {
        "duration": 68,
        "start_time": "2024-10-22T09:57:26.983Z"
      },
      {
        "duration": 34,
        "start_time": "2024-10-22T09:57:27.052Z"
      },
      {
        "duration": 19,
        "start_time": "2024-10-22T09:57:27.087Z"
      },
      {
        "duration": 109,
        "start_time": "2024-10-22T09:57:27.107Z"
      },
      {
        "duration": 16,
        "start_time": "2024-10-22T09:57:27.218Z"
      },
      {
        "duration": 11,
        "start_time": "2024-10-22T09:57:27.236Z"
      },
      {
        "duration": 259,
        "start_time": "2024-10-22T09:57:27.249Z"
      },
      {
        "duration": 257,
        "start_time": "2024-10-22T09:57:27.510Z"
      },
      {
        "duration": 3,
        "start_time": "2024-10-22T09:57:27.769Z"
      },
      {
        "duration": 2595,
        "start_time": "2024-10-22T09:57:27.773Z"
      },
      {
        "duration": 11,
        "start_time": "2024-10-22T09:57:30.369Z"
      },
      {
        "duration": 671,
        "start_time": "2024-10-22T09:57:30.382Z"
      },
      {
        "duration": 527,
        "start_time": "2024-10-22T09:57:31.054Z"
      },
      {
        "duration": 7,
        "start_time": "2024-10-22T09:57:31.583Z"
      },
      {
        "duration": 161,
        "start_time": "2024-10-22T09:57:31.591Z"
      },
      {
        "duration": 115,
        "start_time": "2024-10-22T09:57:31.754Z"
      },
      {
        "duration": 18,
        "start_time": "2024-10-22T09:57:31.871Z"
      },
      {
        "duration": 138,
        "start_time": "2024-10-22T09:57:31.890Z"
      },
      {
        "duration": 56,
        "start_time": "2024-10-22T09:57:32.030Z"
      },
      {
        "duration": 48,
        "start_time": "2024-10-22T09:57:32.087Z"
      },
      {
        "duration": 156,
        "start_time": "2024-10-22T09:57:32.137Z"
      },
      {
        "duration": 3,
        "start_time": "2024-10-22T09:57:32.295Z"
      },
      {
        "duration": 30,
        "start_time": "2024-10-22T09:57:32.306Z"
      },
      {
        "duration": 40,
        "start_time": "2024-10-22T09:57:32.337Z"
      },
      {
        "duration": 34,
        "start_time": "2024-10-22T09:57:32.378Z"
      },
      {
        "duration": 14,
        "start_time": "2024-10-22T09:57:32.413Z"
      },
      {
        "duration": 95,
        "start_time": "2024-10-22T09:57:32.428Z"
      },
      {
        "duration": 85,
        "start_time": "2024-10-22T09:57:32.525Z"
      },
      {
        "duration": 50,
        "start_time": "2024-10-22T09:57:32.612Z"
      },
      {
        "duration": 48,
        "start_time": "2024-10-22T09:57:32.664Z"
      },
      {
        "duration": 19,
        "start_time": "2024-10-22T09:57:32.714Z"
      },
      {
        "duration": 54,
        "start_time": "2024-10-22T09:57:32.734Z"
      },
      {
        "duration": 12,
        "start_time": "2024-10-22T09:57:32.789Z"
      },
      {
        "duration": 47,
        "start_time": "2024-10-22T09:57:32.802Z"
      },
      {
        "duration": 50,
        "start_time": "2024-10-22T09:57:32.851Z"
      },
      {
        "duration": 24,
        "start_time": "2024-10-22T09:57:32.902Z"
      },
      {
        "duration": 182,
        "start_time": "2024-10-22T09:57:32.927Z"
      },
      {
        "duration": 7,
        "start_time": "2024-10-22T09:57:33.111Z"
      },
      {
        "duration": 51,
        "start_time": "2024-10-22T09:57:33.119Z"
      },
      {
        "duration": 35,
        "start_time": "2024-10-22T09:57:33.172Z"
      },
      {
        "duration": 5,
        "start_time": "2024-10-22T09:57:33.209Z"
      },
      {
        "duration": 30,
        "start_time": "2024-10-22T09:57:33.216Z"
      },
      {
        "duration": 35,
        "start_time": "2024-10-22T09:57:33.248Z"
      },
      {
        "duration": 18,
        "start_time": "2024-10-22T09:57:33.284Z"
      },
      {
        "duration": 27,
        "start_time": "2024-10-22T09:57:33.303Z"
      },
      {
        "duration": 29,
        "start_time": "2024-10-22T09:57:33.331Z"
      },
      {
        "duration": 47,
        "start_time": "2024-10-22T09:57:33.362Z"
      },
      {
        "duration": 583,
        "start_time": "2024-10-22T09:57:33.410Z"
      },
      {
        "duration": 4,
        "start_time": "2024-10-22T09:57:33.995Z"
      },
      {
        "duration": 10,
        "start_time": "2024-10-22T09:57:34.007Z"
      },
      {
        "duration": 28,
        "start_time": "2024-10-22T09:57:34.018Z"
      },
      {
        "duration": 40,
        "start_time": "2024-10-22T09:57:34.051Z"
      },
      {
        "duration": 20,
        "start_time": "2024-10-22T09:57:34.092Z"
      },
      {
        "duration": 29,
        "start_time": "2024-10-22T09:57:34.114Z"
      },
      {
        "duration": 27,
        "start_time": "2024-10-22T09:57:34.144Z"
      },
      {
        "duration": 24,
        "start_time": "2024-10-22T09:57:34.172Z"
      },
      {
        "duration": 116,
        "start_time": "2024-10-22T09:57:34.197Z"
      },
      {
        "duration": 3,
        "start_time": "2024-10-22T09:57:34.315Z"
      },
      {
        "duration": 37,
        "start_time": "2024-10-22T09:57:34.319Z"
      },
      {
        "duration": 38,
        "start_time": "2024-10-22T09:57:34.357Z"
      },
      {
        "duration": 12,
        "start_time": "2024-10-22T09:57:34.396Z"
      },
      {
        "duration": 21,
        "start_time": "2024-10-22T09:57:34.409Z"
      },
      {
        "duration": 296,
        "start_time": "2024-10-22T09:57:34.431Z"
      },
      {
        "duration": 3,
        "start_time": "2024-10-22T09:57:34.729Z"
      },
      {
        "duration": 22,
        "start_time": "2024-10-22T09:57:34.733Z"
      },
      {
        "duration": 25,
        "start_time": "2024-10-22T09:57:34.756Z"
      },
      {
        "duration": 41,
        "start_time": "2024-10-22T09:57:34.782Z"
      },
      {
        "duration": 15,
        "start_time": "2024-10-22T09:57:34.824Z"
      },
      {
        "duration": 267,
        "start_time": "2024-10-22T09:57:34.840Z"
      },
      {
        "duration": 3,
        "start_time": "2024-10-22T09:57:35.109Z"
      },
      {
        "duration": 9,
        "start_time": "2024-10-22T09:57:35.113Z"
      },
      {
        "duration": 18,
        "start_time": "2024-10-22T09:57:35.123Z"
      }
    ],
    "kernelspec": {
      "display_name": "Python 3 (ipykernel)",
      "language": "python",
      "name": "python3"
    },
    "language_info": {
      "codemirror_mode": {
        "name": "ipython",
        "version": 3
      },
      "file_extension": ".py",
      "mimetype": "text/x-python",
      "name": "python",
      "nbconvert_exporter": "python",
      "pygments_lexer": "ipython3",
      "version": "3.9.5"
    },
    "toc": {
      "base_numbering": 1,
      "nav_menu": {},
      "number_sections": true,
      "sideBar": true,
      "skip_h1_title": true,
      "title_cell": "Table of Contents",
      "title_sidebar": "Contents",
      "toc_cell": false,
      "toc_position": {},
      "toc_section_display": true,
      "toc_window_display": false
    },
    "colab": {
      "provenance": [],
      "include_colab_link": true
    }
  },
  "nbformat": 4,
  "nbformat_minor": 0
}